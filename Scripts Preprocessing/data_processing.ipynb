{
 "cells": [
  {
   "cell_type": "markdown",
   "metadata": {},
   "source": [
    "# Data processing \n",
    "\n",
    "After extracting the relevant information from the VCF files with help of `bcftools`. We are going to process the data and produce the alternate sequences with the help of `samtools`.\n",
    "On the pre-processed data we have the following information about each variant (from Ensembl Variation build 110).\n",
    "* Number of chromosome\n",
    "* Position of variant\n",
    "* Reference Allele\n",
    "* Alternate Allele\n",
    "\n",
    "Some of the following code snippets were retrieved from the [DeepPerVar repository](https://github.com/alfredyewang/DeepPerVar), with the objective of mimic the way they produced their alternate sequences."
   ]
  },
  {
   "cell_type": "code",
   "execution_count": 1,
   "metadata": {},
   "outputs": [],
   "source": [
    "# Import libraries\n",
    "import numpy as np\n",
    "from Bio import SeqIO\n",
    "from Bio.Seq import MutableSeq, Seq\n",
    "import pandas as pd\n",
    "import subprocess"
   ]
  },
  {
   "cell_type": "code",
   "execution_count": 2,
   "metadata": {},
   "outputs": [
    {
     "data": {
      "text/html": [
       "<div>\n",
       "<style scoped>\n",
       "    .dataframe tbody tr th:only-of-type {\n",
       "        vertical-align: middle;\n",
       "    }\n",
       "\n",
       "    .dataframe tbody tr th {\n",
       "        vertical-align: top;\n",
       "    }\n",
       "\n",
       "    .dataframe thead th {\n",
       "        text-align: right;\n",
       "    }\n",
       "</style>\n",
       "<table border=\"1\" class=\"dataframe\">\n",
       "  <thead>\n",
       "    <tr style=\"text-align: right;\">\n",
       "      <th></th>\n",
       "      <th>chr</th>\n",
       "      <th>pos</th>\n",
       "      <th>ref</th>\n",
       "      <th>alt</th>\n",
       "      <th>tsa</th>\n",
       "      <th>id</th>\n",
       "    </tr>\n",
       "  </thead>\n",
       "  <tbody>\n",
       "    <tr>\n",
       "      <th>0</th>\n",
       "      <td>21</td>\n",
       "      <td>5030088</td>\n",
       "      <td>C</td>\n",
       "      <td>T</td>\n",
       "      <td>SNV</td>\n",
       "      <td>rs1455320509</td>\n",
       "    </tr>\n",
       "    <tr>\n",
       "      <th>1</th>\n",
       "      <td>21</td>\n",
       "      <td>5030105</td>\n",
       "      <td>C</td>\n",
       "      <td>A</td>\n",
       "      <td>SNV</td>\n",
       "      <td>rs1173141359</td>\n",
       "    </tr>\n",
       "    <tr>\n",
       "      <th>2</th>\n",
       "      <td>21</td>\n",
       "      <td>5030151</td>\n",
       "      <td>T</td>\n",
       "      <td>G</td>\n",
       "      <td>SNV</td>\n",
       "      <td>rs1601770018</td>\n",
       "    </tr>\n",
       "    <tr>\n",
       "      <th>3</th>\n",
       "      <td>21</td>\n",
       "      <td>5030154</td>\n",
       "      <td>T</td>\n",
       "      <td>C</td>\n",
       "      <td>SNV</td>\n",
       "      <td>rs1461284410</td>\n",
       "    </tr>\n",
       "    <tr>\n",
       "      <th>4</th>\n",
       "      <td>21</td>\n",
       "      <td>5030160</td>\n",
       "      <td>T</td>\n",
       "      <td>A</td>\n",
       "      <td>SNV</td>\n",
       "      <td>rs1601770028</td>\n",
       "    </tr>\n",
       "  </tbody>\n",
       "</table>\n",
       "</div>"
      ],
      "text/plain": [
       "   chr      pos ref alt  tsa            id\n",
       "0   21  5030088   C   T  SNV  rs1455320509\n",
       "1   21  5030105   C   A  SNV  rs1173141359\n",
       "2   21  5030151   T   G  SNV  rs1601770018\n",
       "3   21  5030154   T   C  SNV  rs1461284410\n",
       "4   21  5030160   T   A  SNV  rs1601770028"
      ]
     },
     "execution_count": 2,
     "metadata": {},
     "output_type": "execute_result"
    }
   ],
   "source": [
    "# Chromosome data path\n",
    "chr_data_path = \"/mnt/sda1/Databases/Ensembl/Variation/110/chromosomes_data/\"\n",
    "res_folder = \"/mnt/sda1/Databases/Ensembl/Variation/110/chromosomes_data/res/\"\n",
    "chr_21_data = pd.read_csv(chr_data_path+'chr21_data.tsv', sep = '\\t')\n",
    "chr_21_data.rename(columns={'#[1]CHROM':'chr', '[2]POS':'pos', '[3]REF':'ref', '[4]ALT':'alt', '[5]TSA':'tsa', '[6]ID':'id'}, inplace=True)\n",
    "chr_21_data.head()"
   ]
  },
  {
   "cell_type": "code",
   "execution_count": 3,
   "metadata": {},
   "outputs": [
    {
     "name": "stdout",
     "output_type": "stream",
     "text": [
      "(9243118, 6) Index(['chr', 'pos', 'ref', 'alt', 'tsa', 'id'], dtype='object')\n"
     ]
    }
   ],
   "source": [
    "print(chr_21_data.shape, chr_21_data.columns)"
   ]
  },
  {
   "cell_type": "markdown",
   "metadata": {},
   "source": [
    "# SNVs\n",
    "We are going to start with the SNVs, as they are the simplest form on variation."
   ]
  },
  {
   "cell_type": "code",
   "execution_count": 4,
   "metadata": {},
   "outputs": [
    {
     "data": {
      "text/html": [
       "<div>\n",
       "<style scoped>\n",
       "    .dataframe tbody tr th:only-of-type {\n",
       "        vertical-align: middle;\n",
       "    }\n",
       "\n",
       "    .dataframe tbody tr th {\n",
       "        vertical-align: top;\n",
       "    }\n",
       "\n",
       "    .dataframe thead th {\n",
       "        text-align: right;\n",
       "    }\n",
       "</style>\n",
       "<table border=\"1\" class=\"dataframe\">\n",
       "  <thead>\n",
       "    <tr style=\"text-align: right;\">\n",
       "      <th></th>\n",
       "      <th>chr</th>\n",
       "      <th>pos</th>\n",
       "      <th>ref</th>\n",
       "      <th>alt</th>\n",
       "      <th>tsa</th>\n",
       "      <th>id</th>\n",
       "    </tr>\n",
       "  </thead>\n",
       "  <tbody>\n",
       "    <tr>\n",
       "      <th>0</th>\n",
       "      <td>21</td>\n",
       "      <td>5030088</td>\n",
       "      <td>C</td>\n",
       "      <td>T</td>\n",
       "      <td>SNV</td>\n",
       "      <td>rs1455320509</td>\n",
       "    </tr>\n",
       "    <tr>\n",
       "      <th>1</th>\n",
       "      <td>21</td>\n",
       "      <td>5030105</td>\n",
       "      <td>C</td>\n",
       "      <td>A</td>\n",
       "      <td>SNV</td>\n",
       "      <td>rs1173141359</td>\n",
       "    </tr>\n",
       "    <tr>\n",
       "      <th>2</th>\n",
       "      <td>21</td>\n",
       "      <td>5030151</td>\n",
       "      <td>T</td>\n",
       "      <td>G</td>\n",
       "      <td>SNV</td>\n",
       "      <td>rs1601770018</td>\n",
       "    </tr>\n",
       "    <tr>\n",
       "      <th>3</th>\n",
       "      <td>21</td>\n",
       "      <td>5030154</td>\n",
       "      <td>T</td>\n",
       "      <td>C</td>\n",
       "      <td>SNV</td>\n",
       "      <td>rs1461284410</td>\n",
       "    </tr>\n",
       "    <tr>\n",
       "      <th>4</th>\n",
       "      <td>21</td>\n",
       "      <td>5030160</td>\n",
       "      <td>T</td>\n",
       "      <td>A</td>\n",
       "      <td>SNV</td>\n",
       "      <td>rs1601770028</td>\n",
       "    </tr>\n",
       "  </tbody>\n",
       "</table>\n",
       "</div>"
      ],
      "text/plain": [
       "   chr      pos ref alt  tsa            id\n",
       "0   21  5030088   C   T  SNV  rs1455320509\n",
       "1   21  5030105   C   A  SNV  rs1173141359\n",
       "2   21  5030151   T   G  SNV  rs1601770018\n",
       "3   21  5030154   T   C  SNV  rs1461284410\n",
       "4   21  5030160   T   A  SNV  rs1601770028"
      ]
     },
     "execution_count": 4,
     "metadata": {},
     "output_type": "execute_result"
    }
   ],
   "source": [
    "# We filter the variants that are snps and that have only one alternate allele\n",
    "chr_21_snps = chr_21_data.loc[(chr_21_data['tsa']=='SNV') & (chr_21_data['alt'].str.len() == 1)]\n",
    "chr_21_snps.head()"
   ]
  },
  {
   "cell_type": "code",
   "execution_count": 5,
   "metadata": {},
   "outputs": [
    {
     "name": "stdout",
     "output_type": "stream",
     "text": [
      "(7542415, 6) , 5030088\n"
     ]
    }
   ],
   "source": [
    "print(chr_21_snps.shape,',',min(chr_21_snps['pos']))"
   ]
  },
  {
   "cell_type": "markdown",
   "metadata": {},
   "source": [
    "## Generate sequences in FASTA format with samtools"
   ]
  },
  {
   "cell_type": "code",
   "execution_count": 38,
   "metadata": {},
   "outputs": [
    {
     "name": "stderr",
     "output_type": "stream",
     "text": [
      "/tmp/ipykernel_6762/1680742311.py:1: SettingWithCopyWarning: \n",
      "A value is trying to be set on a copy of a slice from a DataFrame.\n",
      "Try using .loc[row_indexer,col_indexer] = value instead\n",
      "\n",
      "See the caveats in the documentation: https://pandas.pydata.org/pandas-docs/stable/user_guide/indexing.html#returning-a-view-versus-a-copy\n",
      "  chr_21_snps['start'] = chr_21_snps['pos'].astype(int) - 64\n",
      "/tmp/ipykernel_6762/1680742311.py:2: SettingWithCopyWarning: \n",
      "A value is trying to be set on a copy of a slice from a DataFrame.\n",
      "Try using .loc[row_indexer,col_indexer] = value instead\n",
      "\n",
      "See the caveats in the documentation: https://pandas.pydata.org/pandas-docs/stable/user_guide/indexing.html#returning-a-view-versus-a-copy\n",
      "  chr_21_snps['end'] = chr_21_snps['pos'].astype(int) + 63\n",
      "/tmp/ipykernel_6762/1680742311.py:3: SettingWithCopyWarning: \n",
      "A value is trying to be set on a copy of a slice from a DataFrame.\n",
      "Try using .loc[row_indexer,col_indexer] = value instead\n",
      "\n",
      "See the caveats in the documentation: https://pandas.pydata.org/pandas-docs/stable/user_guide/indexing.html#returning-a-view-versus-a-copy\n",
      "  chr_21_snps['bed'] = chr_21_snps['chr'].astype(str) + ':' + chr_21_snps['start'].astype(str) + '-' + chr_21_snps['end'].astype(str)\n"
     ]
    },
    {
     "data": {
      "text/html": [
       "<div>\n",
       "<style scoped>\n",
       "    .dataframe tbody tr th:only-of-type {\n",
       "        vertical-align: middle;\n",
       "    }\n",
       "\n",
       "    .dataframe tbody tr th {\n",
       "        vertical-align: top;\n",
       "    }\n",
       "\n",
       "    .dataframe thead th {\n",
       "        text-align: right;\n",
       "    }\n",
       "</style>\n",
       "<table border=\"1\" class=\"dataframe\">\n",
       "  <thead>\n",
       "    <tr style=\"text-align: right;\">\n",
       "      <th></th>\n",
       "      <th>chr</th>\n",
       "      <th>pos</th>\n",
       "      <th>ref</th>\n",
       "      <th>alt</th>\n",
       "      <th>tsa</th>\n",
       "      <th>id</th>\n",
       "      <th>start</th>\n",
       "      <th>end</th>\n",
       "      <th>bed</th>\n",
       "    </tr>\n",
       "  </thead>\n",
       "  <tbody>\n",
       "    <tr>\n",
       "      <th>0</th>\n",
       "      <td>21</td>\n",
       "      <td>5030088</td>\n",
       "      <td>C</td>\n",
       "      <td>T</td>\n",
       "      <td>SNV</td>\n",
       "      <td>rs1455320509</td>\n",
       "      <td>5030024</td>\n",
       "      <td>5030151</td>\n",
       "      <td>21:5030024-5030151</td>\n",
       "    </tr>\n",
       "    <tr>\n",
       "      <th>1</th>\n",
       "      <td>21</td>\n",
       "      <td>5030105</td>\n",
       "      <td>C</td>\n",
       "      <td>A</td>\n",
       "      <td>SNV</td>\n",
       "      <td>rs1173141359</td>\n",
       "      <td>5030041</td>\n",
       "      <td>5030168</td>\n",
       "      <td>21:5030041-5030168</td>\n",
       "    </tr>\n",
       "    <tr>\n",
       "      <th>2</th>\n",
       "      <td>21</td>\n",
       "      <td>5030151</td>\n",
       "      <td>T</td>\n",
       "      <td>G</td>\n",
       "      <td>SNV</td>\n",
       "      <td>rs1601770018</td>\n",
       "      <td>5030087</td>\n",
       "      <td>5030214</td>\n",
       "      <td>21:5030087-5030214</td>\n",
       "    </tr>\n",
       "    <tr>\n",
       "      <th>3</th>\n",
       "      <td>21</td>\n",
       "      <td>5030154</td>\n",
       "      <td>T</td>\n",
       "      <td>C</td>\n",
       "      <td>SNV</td>\n",
       "      <td>rs1461284410</td>\n",
       "      <td>5030090</td>\n",
       "      <td>5030217</td>\n",
       "      <td>21:5030090-5030217</td>\n",
       "    </tr>\n",
       "    <tr>\n",
       "      <th>4</th>\n",
       "      <td>21</td>\n",
       "      <td>5030160</td>\n",
       "      <td>T</td>\n",
       "      <td>A</td>\n",
       "      <td>SNV</td>\n",
       "      <td>rs1601770028</td>\n",
       "      <td>5030096</td>\n",
       "      <td>5030223</td>\n",
       "      <td>21:5030096-5030223</td>\n",
       "    </tr>\n",
       "  </tbody>\n",
       "</table>\n",
       "</div>"
      ],
      "text/plain": [
       "   chr      pos ref alt  tsa            id    start      end  \\\n",
       "0   21  5030088   C   T  SNV  rs1455320509  5030024  5030151   \n",
       "1   21  5030105   C   A  SNV  rs1173141359  5030041  5030168   \n",
       "2   21  5030151   T   G  SNV  rs1601770018  5030087  5030214   \n",
       "3   21  5030154   T   C  SNV  rs1461284410  5030090  5030217   \n",
       "4   21  5030160   T   A  SNV  rs1601770028  5030096  5030223   \n",
       "\n",
       "                  bed  \n",
       "0  21:5030024-5030151  \n",
       "1  21:5030041-5030168  \n",
       "2  21:5030087-5030214  \n",
       "3  21:5030090-5030217  \n",
       "4  21:5030096-5030223  "
      ]
     },
     "execution_count": 38,
     "metadata": {},
     "output_type": "execute_result"
    }
   ],
   "source": [
    "chr_21_snps['start'] = chr_21_snps['pos'].astype(int) - 64\n",
    "chr_21_snps['end'] = chr_21_snps['pos'].astype(int) + 63\n",
    "chr_21_snps['bed'] = chr_21_snps['chr'].astype(str) + ':' + chr_21_snps['start'].astype(str) + '-' + chr_21_snps['end'].astype(str)\n",
    "chr_21_snps['bed'].to_csv('{}/bed_chr21'.format(res_folder), sep='\\t', index=False, header=False)\n",
    "chr_21_snps.head()"
   ]
  },
  {
   "cell_type": "code",
   "execution_count": 14,
   "metadata": {},
   "outputs": [
    {
     "name": "stderr",
     "output_type": "stream",
     "text": [
      "/bin/sh: 1: samtools: not found\n"
     ]
    }
   ],
   "source": [
    "# This code has to be run directly in the terminal after adding the samtools path to the PATH variable\n",
    "exit_code = subprocess.Popen(\"samtools faidx /mnt/sda1/Databases/Reference Genome/GRCh38p14/Ensembl/Homo_sapiens_GRCh38_dna_primary_assembly.fa -r {}/bed_chr21 -o {}/seq_vcf_chr21\".format(\n",
    "    res_folder, res_folder), shell=True, stdout=subprocess.PIPE).stdout.read()"
   ]
  },
  {
   "cell_type": "markdown",
   "metadata": {},
   "source": [
    "## Generate alternate sequences\n",
    "With the produced sequences in FASTA format, we are going to modify them by including the variants information that we have.\n",
    "Remember that we produced sequences that have 64 bases before and after the variant position. Therefore, the variant will be located in the **index 63** of each sequence."
   ]
  },
  {
   "cell_type": "code",
   "execution_count": 5,
   "metadata": {},
   "outputs": [],
   "source": [
    "fasta_seq_path = \"/mnt/sda1/Databases/Ensembl/Variation/110/chromosomes_data/res/\""
   ]
  },
  {
   "cell_type": "code",
   "execution_count": 6,
   "metadata": {},
   "outputs": [],
   "source": [
    "records = list(SeqIO.parse(fasta_seq_path+'seq_vcf_chr21', \"fasta\"))"
   ]
  },
  {
   "cell_type": "code",
   "execution_count": 41,
   "metadata": {},
   "outputs": [
    {
     "name": "stdout",
     "output_type": "stream",
     "text": [
      "T G\n"
     ]
    }
   ],
   "source": [
    "print(records[2].seq[64], chr_21_snps['alt'][2])"
   ]
  },
  {
   "cell_type": "code",
   "execution_count": 30,
   "metadata": {},
   "outputs": [],
   "source": [
    "ref_seqs = [sequence[1].seq for sequence in enumerate(records)]"
   ]
  },
  {
   "cell_type": "code",
   "execution_count": 42,
   "metadata": {},
   "outputs": [
    {
     "name": "stdout",
     "output_type": "stream",
     "text": [
      " TTTGTAGCGATGGGGCCTCACTGTGTTGCCCAGGCTAGATTCAAGCTCCTGGACACAAGCGATGCTCCTGCCTAAGCCTCCCAAAGTGCTGAGATTACAGGTGTGAGCCACCACGTCCAAGCTAGAGT \n",
      " TTTGTAGCGATGGGGCCTCACTGTGTTGCCCAGGCTAGATTCAAGCTCCTGGACACAAGCGATGTTCCTGCCTAAGCCTCCCAAAGTGCTGAGATTACAGGTGTGAGCCACCACGTCCAAGCTAGAGT\n"
     ]
    }
   ],
   "source": [
    "example_mut = MutableSeq(ref_seqs[0])\n",
    "example_mut[64] = chr_21_snps['alt'][0]\n",
    "example_mut = Seq(example_mut)\n",
    "print('',ref_seqs[0],'\\n',example_mut)"
   ]
  },
  {
   "cell_type": "code",
   "execution_count": 47,
   "metadata": {},
   "outputs": [
    {
     "data": {
      "text/html": [
       "<div>\n",
       "<style scoped>\n",
       "    .dataframe tbody tr th:only-of-type {\n",
       "        vertical-align: middle;\n",
       "    }\n",
       "\n",
       "    .dataframe tbody tr th {\n",
       "        vertical-align: top;\n",
       "    }\n",
       "\n",
       "    .dataframe thead th {\n",
       "        text-align: right;\n",
       "    }\n",
       "</style>\n",
       "<table border=\"1\" class=\"dataframe\">\n",
       "  <thead>\n",
       "    <tr style=\"text-align: right;\">\n",
       "      <th></th>\n",
       "      <th>chr</th>\n",
       "      <th>pos</th>\n",
       "      <th>ref</th>\n",
       "      <th>alt</th>\n",
       "      <th>tsa</th>\n",
       "      <th>id</th>\n",
       "      <th>start</th>\n",
       "      <th>end</th>\n",
       "      <th>bed</th>\n",
       "    </tr>\n",
       "  </thead>\n",
       "  <tbody>\n",
       "    <tr>\n",
       "      <th>0</th>\n",
       "      <td>21</td>\n",
       "      <td>5030088</td>\n",
       "      <td>C</td>\n",
       "      <td>T</td>\n",
       "      <td>SNV</td>\n",
       "      <td>rs1455320509</td>\n",
       "      <td>5030024</td>\n",
       "      <td>5030151</td>\n",
       "      <td>21:5030024-5030151</td>\n",
       "    </tr>\n",
       "    <tr>\n",
       "      <th>1</th>\n",
       "      <td>21</td>\n",
       "      <td>5030105</td>\n",
       "      <td>C</td>\n",
       "      <td>A</td>\n",
       "      <td>SNV</td>\n",
       "      <td>rs1173141359</td>\n",
       "      <td>5030041</td>\n",
       "      <td>5030168</td>\n",
       "      <td>21:5030041-5030168</td>\n",
       "    </tr>\n",
       "    <tr>\n",
       "      <th>2</th>\n",
       "      <td>21</td>\n",
       "      <td>5030151</td>\n",
       "      <td>T</td>\n",
       "      <td>G</td>\n",
       "      <td>SNV</td>\n",
       "      <td>rs1601770018</td>\n",
       "      <td>5030087</td>\n",
       "      <td>5030214</td>\n",
       "      <td>21:5030087-5030214</td>\n",
       "    </tr>\n",
       "    <tr>\n",
       "      <th>3</th>\n",
       "      <td>21</td>\n",
       "      <td>5030154</td>\n",
       "      <td>T</td>\n",
       "      <td>C</td>\n",
       "      <td>SNV</td>\n",
       "      <td>rs1461284410</td>\n",
       "      <td>5030090</td>\n",
       "      <td>5030217</td>\n",
       "      <td>21:5030090-5030217</td>\n",
       "    </tr>\n",
       "    <tr>\n",
       "      <th>4</th>\n",
       "      <td>21</td>\n",
       "      <td>5030160</td>\n",
       "      <td>T</td>\n",
       "      <td>A</td>\n",
       "      <td>SNV</td>\n",
       "      <td>rs1601770028</td>\n",
       "      <td>5030096</td>\n",
       "      <td>5030223</td>\n",
       "      <td>21:5030096-5030223</td>\n",
       "    </tr>\n",
       "  </tbody>\n",
       "</table>\n",
       "</div>"
      ],
      "text/plain": [
       "   chr      pos ref alt  tsa            id    start      end  \\\n",
       "0   21  5030088   C   T  SNV  rs1455320509  5030024  5030151   \n",
       "1   21  5030105   C   A  SNV  rs1173141359  5030041  5030168   \n",
       "2   21  5030151   T   G  SNV  rs1601770018  5030087  5030214   \n",
       "3   21  5030154   T   C  SNV  rs1461284410  5030090  5030217   \n",
       "4   21  5030160   T   A  SNV  rs1601770028  5030096  5030223   \n",
       "\n",
       "                  bed  \n",
       "0  21:5030024-5030151  \n",
       "1  21:5030041-5030168  \n",
       "2  21:5030087-5030214  \n",
       "3  21:5030090-5030217  \n",
       "4  21:5030096-5030223  "
      ]
     },
     "execution_count": 47,
     "metadata": {},
     "output_type": "execute_result"
    }
   ],
   "source": [
    "chr_21_snps.head()"
   ]
  },
  {
   "cell_type": "code",
   "execution_count": 44,
   "metadata": {},
   "outputs": [],
   "source": [
    "alt_seqs = []\n",
    "rs_ids = []\n",
    "i = 0\n",
    "tmp_seq = MutableSeq(ref_seqs[i])\n",
    "tmp_seq[64] = chr_21_snps['alt'][i]\n",
    "alt_seqs.append(Seq(tmp_seq))\n",
    "rs_ids.append(chr_21_snps['id'][i])"
   ]
  },
  {
   "cell_type": "code",
   "execution_count": 46,
   "metadata": {},
   "outputs": [
    {
     "name": "stdout",
     "output_type": "stream",
     "text": [
      " GATGTTCCT rs1455320509 \n",
      " GATGCTCCT\n"
     ]
    }
   ],
   "source": [
    "print('',alt_seqs[0][60:69], rs_ids[0], '\\n', ref_seqs[0][60:69])"
   ]
  },
  {
   "cell_type": "code",
   "execution_count": 60,
   "metadata": {},
   "outputs": [
    {
     "data": {
      "text/plain": [
       "['rs1455320509',\n",
       " 'rs1173141359',\n",
       " 'rs1601770018',\n",
       " 'rs1461284410',\n",
       " 'rs1601770028']"
      ]
     },
     "execution_count": 60,
     "metadata": {},
     "output_type": "execute_result"
    }
   ],
   "source": [
    "rs_ids = list(chr_21_snps['id'])\n",
    "rs_ids[0:5]"
   ]
  },
  {
   "cell_type": "code",
   "execution_count": 63,
   "metadata": {},
   "outputs": [
    {
     "data": {
      "text/plain": [
       "['T', 'A', 'G', 'C', 'A']"
      ]
     },
     "execution_count": 63,
     "metadata": {},
     "output_type": "execute_result"
    }
   ],
   "source": [
    "alt_alleles = list(chr_21_snps['alt'])\n",
    "alt_alleles[0:5]"
   ]
  },
  {
   "cell_type": "code",
   "execution_count": 93,
   "metadata": {},
   "outputs": [],
   "source": [
    "alt_seqs = []\n",
    "i = 0\n",
    "while i < len(ref_seqs):\n",
    "    mutable = MutableSeq(ref_seqs[i])\n",
    "    mutable[64] = alt_alleles[i]\n",
    "    alt_seqs.append(str(mutable))\n",
    "    i+=1"
   ]
  },
  {
   "cell_type": "code",
   "execution_count": 97,
   "metadata": {},
   "outputs": [
    {
     "data": {
      "text/plain": [
       "['TTTGTAGCGATGGGGCCTCACTGTGTTGCCCAGGCTAGATTCAAGCTCCTGGACACAAGCGATGCTCCTGCCTAAGCCTCCCAAAGTGCTGAGATTACAGGTGTGAGCCACCACGTCCAAGCTAGAGT',\n",
       " 'TCACTGTGTTGCCCAGGCTAGATTCAAGCTCCTGGACACAAGCGATGCTCCTGCCTAAGCCTCCCAAAGTGCTGAGATTACAGGTGTGAGCCACCACGTCCAAGCTAGAGTTTTAAAAGTGAAATTTG',\n",
       " 'GCTCCTGCCTAAGCCTCCCAAAGTGCTGAGATTACAGGTGTGAGCCACCACGTCCAAGCTAGAGTTTTAAAAGTGAAATTTGAAGGGAGTGCCATGAAGCACTAAATGAGAACAAAATTTAAGAGAAA',\n",
       " 'CCTGCCTAAGCCTCCCAAAGTGCTGAGATTACAGGTGTGAGCCACCACGTCCAAGCTAGAGTTTTAAAAGTGAAATTTGAAGGGAGTGCCATGAAGCACTAAATGAGAACAAAATTTAAGAGAAAAAT',\n",
       " 'TAAGCCTCCCAAAGTGCTGAGATTACAGGTGTGAGCCACCACGTCCAAGCTAGAGTTTTAAAAGTGAAATTTGAAGGGAGTGCCATGAAGCACTAAATGAGAACAAAATTTAAGAGAAAAATTAGAGG']"
      ]
     },
     "execution_count": 97,
     "metadata": {},
     "output_type": "execute_result"
    }
   ],
   "source": [
    "ref_seqs = list(map(str, ref_seqs))\n",
    "ref_seqs[0:5]"
   ]
  },
  {
   "cell_type": "code",
   "execution_count": 94,
   "metadata": {},
   "outputs": [
    {
     "name": "stdout",
     "output_type": "stream",
     "text": [
      " CTCCAAAAG \n",
      " CTCCCAAAG\n"
     ]
    }
   ],
   "source": [
    "print('',alt_seqs[1][60:69],'\\n',ref_seqs[1][60:69])"
   ]
  },
  {
   "cell_type": "code",
   "execution_count": 95,
   "metadata": {},
   "outputs": [
    {
     "data": {
      "text/plain": [
       "['TTTGTAGCGATGGGGCCTCACTGTGTTGCCCAGGCTAGATTCAAGCTCCTGGACACAAGCGATGTTCCTGCCTAAGCCTCCCAAAGTGCTGAGATTACAGGTGTGAGCCACCACGTCCAAGCTAGAGT',\n",
       " 'TCACTGTGTTGCCCAGGCTAGATTCAAGCTCCTGGACACAAGCGATGCTCCTGCCTAAGCCTCCAAAAGTGCTGAGATTACAGGTGTGAGCCACCACGTCCAAGCTAGAGTTTTAAAAGTGAAATTTG',\n",
       " 'GCTCCTGCCTAAGCCTCCCAAAGTGCTGAGATTACAGGTGTGAGCCACCACGTCCAAGCTAGAGGTTTAAAAGTGAAATTTGAAGGGAGTGCCATGAAGCACTAAATGAGAACAAAATTTAAGAGAAA',\n",
       " 'CCTGCCTAAGCCTCCCAAAGTGCTGAGATTACAGGTGTGAGCCACCACGTCCAAGCTAGAGTTTCAAAAGTGAAATTTGAAGGGAGTGCCATGAAGCACTAAATGAGAACAAAATTTAAGAGAAAAAT',\n",
       " 'TAAGCCTCCCAAAGTGCTGAGATTACAGGTGTGAGCCACCACGTCCAAGCTAGAGTTTTAAAAGAGAAATTTGAAGGGAGTGCCATGAAGCACTAAATGAGAACAAAATTTAAGAGAAAAATTAGAGG']"
      ]
     },
     "execution_count": 95,
     "metadata": {},
     "output_type": "execute_result"
    }
   ],
   "source": [
    "alt_seqs[0:5]"
   ]
  },
  {
   "cell_type": "code",
   "execution_count": 75,
   "metadata": {},
   "outputs": [
    {
     "data": {
      "text/html": [
       "<div>\n",
       "<style scoped>\n",
       "    .dataframe tbody tr th:only-of-type {\n",
       "        vertical-align: middle;\n",
       "    }\n",
       "\n",
       "    .dataframe tbody tr th {\n",
       "        vertical-align: top;\n",
       "    }\n",
       "\n",
       "    .dataframe thead th {\n",
       "        text-align: right;\n",
       "    }\n",
       "</style>\n",
       "<table border=\"1\" class=\"dataframe\">\n",
       "  <thead>\n",
       "    <tr style=\"text-align: right;\">\n",
       "      <th></th>\n",
       "      <th>chr</th>\n",
       "      <th>pos</th>\n",
       "      <th>ref</th>\n",
       "      <th>alt</th>\n",
       "      <th>tsa</th>\n",
       "      <th>id</th>\n",
       "      <th>start</th>\n",
       "      <th>end</th>\n",
       "      <th>bed</th>\n",
       "    </tr>\n",
       "  </thead>\n",
       "  <tbody>\n",
       "    <tr>\n",
       "      <th>0</th>\n",
       "      <td>21</td>\n",
       "      <td>5030088</td>\n",
       "      <td>C</td>\n",
       "      <td>T</td>\n",
       "      <td>SNV</td>\n",
       "      <td>rs1455320509</td>\n",
       "      <td>5030024</td>\n",
       "      <td>5030151</td>\n",
       "      <td>21:5030024-5030151</td>\n",
       "    </tr>\n",
       "    <tr>\n",
       "      <th>1</th>\n",
       "      <td>21</td>\n",
       "      <td>5030105</td>\n",
       "      <td>C</td>\n",
       "      <td>A</td>\n",
       "      <td>SNV</td>\n",
       "      <td>rs1173141359</td>\n",
       "      <td>5030041</td>\n",
       "      <td>5030168</td>\n",
       "      <td>21:5030041-5030168</td>\n",
       "    </tr>\n",
       "    <tr>\n",
       "      <th>2</th>\n",
       "      <td>21</td>\n",
       "      <td>5030151</td>\n",
       "      <td>T</td>\n",
       "      <td>G</td>\n",
       "      <td>SNV</td>\n",
       "      <td>rs1601770018</td>\n",
       "      <td>5030087</td>\n",
       "      <td>5030214</td>\n",
       "      <td>21:5030087-5030214</td>\n",
       "    </tr>\n",
       "    <tr>\n",
       "      <th>3</th>\n",
       "      <td>21</td>\n",
       "      <td>5030154</td>\n",
       "      <td>T</td>\n",
       "      <td>C</td>\n",
       "      <td>SNV</td>\n",
       "      <td>rs1461284410</td>\n",
       "      <td>5030090</td>\n",
       "      <td>5030217</td>\n",
       "      <td>21:5030090-5030217</td>\n",
       "    </tr>\n",
       "    <tr>\n",
       "      <th>4</th>\n",
       "      <td>21</td>\n",
       "      <td>5030160</td>\n",
       "      <td>T</td>\n",
       "      <td>A</td>\n",
       "      <td>SNV</td>\n",
       "      <td>rs1601770028</td>\n",
       "      <td>5030096</td>\n",
       "      <td>5030223</td>\n",
       "      <td>21:5030096-5030223</td>\n",
       "    </tr>\n",
       "  </tbody>\n",
       "</table>\n",
       "</div>"
      ],
      "text/plain": [
       "   chr      pos ref alt  tsa            id    start      end  \\\n",
       "0   21  5030088   C   T  SNV  rs1455320509  5030024  5030151   \n",
       "1   21  5030105   C   A  SNV  rs1173141359  5030041  5030168   \n",
       "2   21  5030151   T   G  SNV  rs1601770018  5030087  5030214   \n",
       "3   21  5030154   T   C  SNV  rs1461284410  5030090  5030217   \n",
       "4   21  5030160   T   A  SNV  rs1601770028  5030096  5030223   \n",
       "\n",
       "                  bed  \n",
       "0  21:5030024-5030151  \n",
       "1  21:5030041-5030168  \n",
       "2  21:5030087-5030214  \n",
       "3  21:5030090-5030217  \n",
       "4  21:5030096-5030223  "
      ]
     },
     "execution_count": 75,
     "metadata": {},
     "output_type": "execute_result"
    }
   ],
   "source": [
    "chr_21_snps.head()"
   ]
  },
  {
   "cell_type": "code",
   "execution_count": 98,
   "metadata": {},
   "outputs": [
    {
     "data": {
      "text/html": [
       "<div>\n",
       "<style scoped>\n",
       "    .dataframe tbody tr th:only-of-type {\n",
       "        vertical-align: middle;\n",
       "    }\n",
       "\n",
       "    .dataframe tbody tr th {\n",
       "        vertical-align: top;\n",
       "    }\n",
       "\n",
       "    .dataframe thead th {\n",
       "        text-align: right;\n",
       "    }\n",
       "</style>\n",
       "<table border=\"1\" class=\"dataframe\">\n",
       "  <thead>\n",
       "    <tr style=\"text-align: right;\">\n",
       "      <th></th>\n",
       "      <th>chr</th>\n",
       "      <th>pos</th>\n",
       "      <th>ref</th>\n",
       "      <th>alt</th>\n",
       "      <th>tsa</th>\n",
       "      <th>id</th>\n",
       "      <th>start</th>\n",
       "      <th>end</th>\n",
       "      <th>bed</th>\n",
       "      <th>ref_seq</th>\n",
       "      <th>alt_seq</th>\n",
       "    </tr>\n",
       "  </thead>\n",
       "  <tbody>\n",
       "    <tr>\n",
       "      <th>0</th>\n",
       "      <td>21</td>\n",
       "      <td>5030088</td>\n",
       "      <td>C</td>\n",
       "      <td>T</td>\n",
       "      <td>SNV</td>\n",
       "      <td>rs1455320509</td>\n",
       "      <td>5030024</td>\n",
       "      <td>5030151</td>\n",
       "      <td>21:5030024-5030151</td>\n",
       "      <td>TTTGTAGCGATGGGGCCTCACTGTGTTGCCCAGGCTAGATTCAAGC...</td>\n",
       "      <td>TTTGTAGCGATGGGGCCTCACTGTGTTGCCCAGGCTAGATTCAAGC...</td>\n",
       "    </tr>\n",
       "    <tr>\n",
       "      <th>1</th>\n",
       "      <td>21</td>\n",
       "      <td>5030105</td>\n",
       "      <td>C</td>\n",
       "      <td>A</td>\n",
       "      <td>SNV</td>\n",
       "      <td>rs1173141359</td>\n",
       "      <td>5030041</td>\n",
       "      <td>5030168</td>\n",
       "      <td>21:5030041-5030168</td>\n",
       "      <td>TCACTGTGTTGCCCAGGCTAGATTCAAGCTCCTGGACACAAGCGAT...</td>\n",
       "      <td>TCACTGTGTTGCCCAGGCTAGATTCAAGCTCCTGGACACAAGCGAT...</td>\n",
       "    </tr>\n",
       "    <tr>\n",
       "      <th>2</th>\n",
       "      <td>21</td>\n",
       "      <td>5030151</td>\n",
       "      <td>T</td>\n",
       "      <td>G</td>\n",
       "      <td>SNV</td>\n",
       "      <td>rs1601770018</td>\n",
       "      <td>5030087</td>\n",
       "      <td>5030214</td>\n",
       "      <td>21:5030087-5030214</td>\n",
       "      <td>GCTCCTGCCTAAGCCTCCCAAAGTGCTGAGATTACAGGTGTGAGCC...</td>\n",
       "      <td>GCTCCTGCCTAAGCCTCCCAAAGTGCTGAGATTACAGGTGTGAGCC...</td>\n",
       "    </tr>\n",
       "    <tr>\n",
       "      <th>3</th>\n",
       "      <td>21</td>\n",
       "      <td>5030154</td>\n",
       "      <td>T</td>\n",
       "      <td>C</td>\n",
       "      <td>SNV</td>\n",
       "      <td>rs1461284410</td>\n",
       "      <td>5030090</td>\n",
       "      <td>5030217</td>\n",
       "      <td>21:5030090-5030217</td>\n",
       "      <td>CCTGCCTAAGCCTCCCAAAGTGCTGAGATTACAGGTGTGAGCCACC...</td>\n",
       "      <td>CCTGCCTAAGCCTCCCAAAGTGCTGAGATTACAGGTGTGAGCCACC...</td>\n",
       "    </tr>\n",
       "    <tr>\n",
       "      <th>4</th>\n",
       "      <td>21</td>\n",
       "      <td>5030160</td>\n",
       "      <td>T</td>\n",
       "      <td>A</td>\n",
       "      <td>SNV</td>\n",
       "      <td>rs1601770028</td>\n",
       "      <td>5030096</td>\n",
       "      <td>5030223</td>\n",
       "      <td>21:5030096-5030223</td>\n",
       "      <td>TAAGCCTCCCAAAGTGCTGAGATTACAGGTGTGAGCCACCACGTCC...</td>\n",
       "      <td>TAAGCCTCCCAAAGTGCTGAGATTACAGGTGTGAGCCACCACGTCC...</td>\n",
       "    </tr>\n",
       "  </tbody>\n",
       "</table>\n",
       "</div>"
      ],
      "text/plain": [
       "   chr      pos ref alt  tsa            id    start      end  \\\n",
       "0   21  5030088   C   T  SNV  rs1455320509  5030024  5030151   \n",
       "1   21  5030105   C   A  SNV  rs1173141359  5030041  5030168   \n",
       "2   21  5030151   T   G  SNV  rs1601770018  5030087  5030214   \n",
       "3   21  5030154   T   C  SNV  rs1461284410  5030090  5030217   \n",
       "4   21  5030160   T   A  SNV  rs1601770028  5030096  5030223   \n",
       "\n",
       "                  bed                                            ref_seq  \\\n",
       "0  21:5030024-5030151  TTTGTAGCGATGGGGCCTCACTGTGTTGCCCAGGCTAGATTCAAGC...   \n",
       "1  21:5030041-5030168  TCACTGTGTTGCCCAGGCTAGATTCAAGCTCCTGGACACAAGCGAT...   \n",
       "2  21:5030087-5030214  GCTCCTGCCTAAGCCTCCCAAAGTGCTGAGATTACAGGTGTGAGCC...   \n",
       "3  21:5030090-5030217  CCTGCCTAAGCCTCCCAAAGTGCTGAGATTACAGGTGTGAGCCACC...   \n",
       "4  21:5030096-5030223  TAAGCCTCCCAAAGTGCTGAGATTACAGGTGTGAGCCACCACGTCC...   \n",
       "\n",
       "                                             alt_seq  \n",
       "0  TTTGTAGCGATGGGGCCTCACTGTGTTGCCCAGGCTAGATTCAAGC...  \n",
       "1  TCACTGTGTTGCCCAGGCTAGATTCAAGCTCCTGGACACAAGCGAT...  \n",
       "2  GCTCCTGCCTAAGCCTCCCAAAGTGCTGAGATTACAGGTGTGAGCC...  \n",
       "3  CCTGCCTAAGCCTCCCAAAGTGCTGAGATTACAGGTGTGAGCCACC...  \n",
       "4  TAAGCCTCCCAAAGTGCTGAGATTACAGGTGTGAGCCACCACGTCC...  "
      ]
     },
     "execution_count": 98,
     "metadata": {},
     "output_type": "execute_result"
    }
   ],
   "source": [
    "chr21_df = pd.DataFrame(data = chr_21_snps, copy=True)\n",
    "chr21_df['ref_seq'] = ref_seqs\n",
    "chr21_df['alt_seq'] = alt_seqs\n",
    "chr21_df.head()"
   ]
  },
  {
   "cell_type": "code",
   "execution_count": 8,
   "metadata": {},
   "outputs": [],
   "source": [
    "with open(fasta_seq_path+\"seq_vcf_chr21\", \"r\") as fasta_file:\n",
    "    fasta_sequences = SeqIO.parse(fasta_file, format = \"fasta\")"
   ]
  },
  {
   "cell_type": "markdown",
   "metadata": {},
   "source": [
    "# Test process_data module"
   ]
  },
  {
   "cell_type": "code",
   "execution_count": 2,
   "metadata": {},
   "outputs": [],
   "source": [
    "from process_data import generate_sequences"
   ]
  },
  {
   "cell_type": "code",
   "execution_count": 3,
   "metadata": {},
   "outputs": [],
   "source": [
    "data_path = \"/mnt/sda1/Databases/Ensembl/Variation/110/chromosomes_data/\"\n",
    "res_path = \"/mnt/sda1/Databases/Ensembl/Variation/110/chromosomes_data/res/\"\n",
    "chromosome = \"17\""
   ]
  },
  {
   "cell_type": "code",
   "execution_count": 4,
   "metadata": {},
   "outputs": [
    {
     "data": {
      "text/html": [
       "<div>\n",
       "<style scoped>\n",
       "    .dataframe tbody tr th:only-of-type {\n",
       "        vertical-align: middle;\n",
       "    }\n",
       "\n",
       "    .dataframe tbody tr th {\n",
       "        vertical-align: top;\n",
       "    }\n",
       "\n",
       "    .dataframe thead th {\n",
       "        text-align: right;\n",
       "    }\n",
       "</style>\n",
       "<table border=\"1\" class=\"dataframe\">\n",
       "  <thead>\n",
       "    <tr style=\"text-align: right;\">\n",
       "      <th></th>\n",
       "      <th>chr</th>\n",
       "      <th>pos</th>\n",
       "      <th>ref</th>\n",
       "      <th>alt</th>\n",
       "      <th>tsa</th>\n",
       "      <th>id</th>\n",
       "    </tr>\n",
       "  </thead>\n",
       "  <tbody>\n",
       "    <tr>\n",
       "      <th>0</th>\n",
       "      <td>17</td>\n",
       "      <td>60103</td>\n",
       "      <td>G</td>\n",
       "      <td>A</td>\n",
       "      <td>SNV</td>\n",
       "      <td>rs1399099657</td>\n",
       "    </tr>\n",
       "    <tr>\n",
       "      <th>1</th>\n",
       "      <td>17</td>\n",
       "      <td>60104</td>\n",
       "      <td>C</td>\n",
       "      <td>T</td>\n",
       "      <td>SNV</td>\n",
       "      <td>rs1363626035</td>\n",
       "    </tr>\n",
       "    <tr>\n",
       "      <th>2</th>\n",
       "      <td>17</td>\n",
       "      <td>60168</td>\n",
       "      <td>C</td>\n",
       "      <td>T</td>\n",
       "      <td>SNV</td>\n",
       "      <td>rs1160440358</td>\n",
       "    </tr>\n",
       "    <tr>\n",
       "      <th>3</th>\n",
       "      <td>17</td>\n",
       "      <td>60189</td>\n",
       "      <td>A</td>\n",
       "      <td>G</td>\n",
       "      <td>SNV</td>\n",
       "      <td>rs1473889808</td>\n",
       "    </tr>\n",
       "    <tr>\n",
       "      <th>4</th>\n",
       "      <td>17</td>\n",
       "      <td>60202</td>\n",
       "      <td>G</td>\n",
       "      <td>A</td>\n",
       "      <td>SNV</td>\n",
       "      <td>rs1415762065</td>\n",
       "    </tr>\n",
       "  </tbody>\n",
       "</table>\n",
       "</div>"
      ],
      "text/plain": [
       "   chr    pos ref alt  tsa            id\n",
       "0   17  60103   G   A  SNV  rs1399099657\n",
       "1   17  60104   C   T  SNV  rs1363626035\n",
       "2   17  60168   C   T  SNV  rs1160440358\n",
       "3   17  60189   A   G  SNV  rs1473889808\n",
       "4   17  60202   G   A  SNV  rs1415762065"
      ]
     },
     "execution_count": 4,
     "metadata": {},
     "output_type": "execute_result"
    }
   ],
   "source": [
    "data_path = data_path\n",
    "res_path = res_path\n",
    "chromosome = chromosome\n",
    "chr_n_data = pd.read_csv(data_path+'chr{}_data.tsv'.format(chromosome), sep = '\\t')\n",
    "chr_n_data.rename(columns={\"#[1]CHROM\":'chr', '[2]POS':'pos', '[3]REF':'ref', '[4]ALT':'alt', '[5]TSA':'tsa', \"[6]ID\":'id'}, inplace=True)\n",
    "\n",
    "# Filter the variants that are snps and that have only one alternate allele\n",
    "chr_n_snps = chr_n_data.loc[(chr_n_data['tsa']=='SNV') & (chr_n_data['alt'].str.len() == 1)]\n",
    "chr_n_snps.head()"
   ]
  },
  {
   "cell_type": "code",
   "execution_count": 5,
   "metadata": {},
   "outputs": [
    {
     "name": "stderr",
     "output_type": "stream",
     "text": [
      "/tmp/ipykernel_14340/3782095709.py:1: SettingWithCopyWarning: \n",
      "A value is trying to be set on a copy of a slice from a DataFrame.\n",
      "Try using .loc[row_indexer,col_indexer] = value instead\n",
      "\n",
      "See the caveats in the documentation: https://pandas.pydata.org/pandas-docs/stable/user_guide/indexing.html#returning-a-view-versus-a-copy\n",
      "  chr_n_snps['start'] = chr_n_snps['pos'].astype(int) - 64\n",
      "/tmp/ipykernel_14340/3782095709.py:2: SettingWithCopyWarning: \n",
      "A value is trying to be set on a copy of a slice from a DataFrame.\n",
      "Try using .loc[row_indexer,col_indexer] = value instead\n",
      "\n",
      "See the caveats in the documentation: https://pandas.pydata.org/pandas-docs/stable/user_guide/indexing.html#returning-a-view-versus-a-copy\n",
      "  chr_n_snps['end'] = chr_n_snps['pos'].astype(int) + 63\n",
      "/tmp/ipykernel_14340/3782095709.py:3: SettingWithCopyWarning: \n",
      "A value is trying to be set on a copy of a slice from a DataFrame.\n",
      "Try using .loc[row_indexer,col_indexer] = value instead\n",
      "\n",
      "See the caveats in the documentation: https://pandas.pydata.org/pandas-docs/stable/user_guide/indexing.html#returning-a-view-versus-a-copy\n",
      "  chr_n_snps['bed'] = chr_n_snps['chr'].astype(str) + ':' + chr_n_snps['start'].astype(str) + '-' + chr_n_snps['end'].astype(str)\n"
     ]
    }
   ],
   "source": [
    "\n",
    "chr_n_snps['start'] = chr_n_snps['pos'].astype(int) - 64\n",
    "chr_n_snps['end'] = chr_n_snps['pos'].astype(int) + 63\n",
    "chr_n_snps['bed'] = chr_n_snps['chr'].astype(str) + ':' + chr_n_snps['start'].astype(str) + '-' + chr_n_snps['end'].astype(str)\n",
    "chr_n_snps['bed'].to_csv('{}/bed_chr{}'.format(res_path, chromosome), sep='\\t', index=False, header=False)"
   ]
  },
  {
   "cell_type": "code",
   "execution_count": 6,
   "metadata": {},
   "outputs": [
    {
     "name": "stderr",
     "output_type": "stream",
     "text": [
      "/bin/sh: 1: samtools: not found\n"
     ]
    }
   ],
   "source": [
    "# This code has to be run directly in the terminal after adding the samtools path to the PATH variable\n",
    "exit_code = subprocess.Popen(\"samtools faidx /mnt/sda1/Databases/Reference Genome/GRCh38p14/Ensembl/Homo_sapiens_GRCh38_dna_primary_assembly.fa -r {}/bed_chr{} -o {}/seq_vcf_chr{}\".format(res_path, chromosome, res_path, chromosome), \n",
    "                                shell=True, stdout=subprocess.PIPE).stdout.read()"
   ]
  },
  {
   "cell_type": "code",
   "execution_count": 7,
   "metadata": {},
   "outputs": [],
   "source": [
    "records = list(SeqIO.parse(res_path+'seq_vcf_chr{}'.format(chromosome), \"fasta\"))\n",
    "ref_seqs = [sequence[1].seq for sequence in enumerate(records)]"
   ]
  }
 ],
 "metadata": {
  "kernelspec": {
   "display_name": "Python 3 (ipykernel)",
   "language": "python",
   "name": "python3"
  },
  "language_info": {
   "codemirror_mode": {
    "name": "ipython",
    "version": 3
   },
   "file_extension": ".py",
   "mimetype": "text/x-python",
   "name": "python",
   "nbconvert_exporter": "python",
   "pygments_lexer": "ipython3",
   "version": "3.10.12"
  }
 },
 "nbformat": 4,
 "nbformat_minor": 4
}
