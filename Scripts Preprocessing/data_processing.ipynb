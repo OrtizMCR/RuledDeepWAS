{
 "cells": [
  {
   "cell_type": "markdown",
   "id": "efe5aeb7-0fd6-476c-9c0a-15e9a9bd2ee0",
   "metadata": {},
   "source": [
    "# Data Processing\n",
    "\n",
    "After the set of experiments done in the `experimentation_data_processing.ipynb` notebook, here we will process the data with the steps that worked out. This is done to keep working but in a better organized jupyter notebook."
   ]
  },
  {
   "cell_type": "markdown",
   "id": "ae1b7982-3f12-4af6-88aa-f01ad146584b",
   "metadata": {},
   "source": [
    "After extracting the relevant information from the VCF files with help of `bcftools`. We are going to process the data and produce the alternate sequences with the help of `samtools`.\n",
    "On the pre-processed data we have the following information about each variant (from Ensembl Variation build 110).\n",
    "* Number of chromosome\n",
    "* Position of variant\n",
    "* Reference Allele\n",
    "* Alternate Allele\n",
    "\n",
    "Some of the following code snippets were retrieved from the [DeepPerVar repository](https://github.com/alfredyewang/DeepPerVar), with the objective of mimic the way they produced their alternate sequences."
   ]
  },
  {
   "cell_type": "code",
   "execution_count": 1,
   "id": "bebc2788-2c43-4afa-832d-c32b3145c048",
   "metadata": {},
   "outputs": [],
   "source": [
    "# Import the necessary modules\n",
    "import numpy as np\n",
    "from Bio import SeqIO\n",
    "from Bio.Seq import MutableSeq, Seq\n",
    "import pandas as pd\n",
    "#import subprocess\n",
    "import torch\n",
    "from torch import nn\n",
    "from torch.utils.data import DataLoader\n",
    "import torch.optim as optim\n",
    "# The following custom module contains the code to generate the alternative sequences from the data extracted from the VCF files with bcftools\n",
    "from process_data import *"
   ]
  },
  {
   "cell_type": "code",
   "execution_count": 2,
   "id": "4b00db63-986a-473a-8e3d-7bf6774510d2",
   "metadata": {},
   "outputs": [],
   "source": [
    "chr_data_path = '/mnt/sda1/Databases/Ensembl/Variation/110/chromosomes_data/'\n",
    "reference_genome_path = '/mnt/sda1/Databases/Reference Genome/GRCh38p14/Ensembl/Homo_sapiens_GRCh38_dna_primary_assembly.fa'\n",
    "res_path = '/mnt/sda1/Databases/Ensembl/Variation/110/chromosomes_data/res/'"
   ]
  },
  {
   "cell_type": "markdown",
   "id": "c9beb323",
   "metadata": {},
   "source": [
    "## A little bit of data preprocessing\n",
    "The data pre processing steps in this section uses the scripts that were made to extract and give form to the data from the VCF files from the Ensembl Variation database build 110."
   ]
  },
  {
   "cell_type": "code",
   "execution_count": 3,
   "id": "5bc9dc87",
   "metadata": {},
   "outputs": [
    {
     "name": "stderr",
     "output_type": "stream",
     "text": [
      "/home/moisessotelo/Documents/Universidad de Guadalajara/MBCI/Projecto/RuledDeepWAS/Scripts Preprocessing/process_data.py:32: SettingWithCopyWarning: \n",
      "A value is trying to be set on a copy of a slice from a DataFrame.\n",
      "Try using .loc[row_indexer,col_indexer] = value instead\n",
      "\n",
      "See the caveats in the documentation: https://pandas.pydata.org/pandas-docs/stable/user_guide/indexing.html#returning-a-view-versus-a-copy\n",
      "  chr_n_snps['start'] = chr_n_snps['pos'].astype(int) - 64\n",
      "/home/moisessotelo/Documents/Universidad de Guadalajara/MBCI/Projecto/RuledDeepWAS/Scripts Preprocessing/process_data.py:33: SettingWithCopyWarning: \n",
      "A value is trying to be set on a copy of a slice from a DataFrame.\n",
      "Try using .loc[row_indexer,col_indexer] = value instead\n",
      "\n",
      "See the caveats in the documentation: https://pandas.pydata.org/pandas-docs/stable/user_guide/indexing.html#returning-a-view-versus-a-copy\n",
      "  chr_n_snps['end'] = chr_n_snps['pos'].astype(int) + 63\n",
      "/home/moisessotelo/Documents/Universidad de Guadalajara/MBCI/Projecto/RuledDeepWAS/Scripts Preprocessing/process_data.py:34: SettingWithCopyWarning: \n",
      "A value is trying to be set on a copy of a slice from a DataFrame.\n",
      "Try using .loc[row_indexer,col_indexer] = value instead\n",
      "\n",
      "See the caveats in the documentation: https://pandas.pydata.org/pandas-docs/stable/user_guide/indexing.html#returning-a-view-versus-a-copy\n",
      "  chr_n_snps['bed'] = chr_n_snps['chr'].astype(str) + ':' + chr_n_snps['start'].astype(str) + '-' + chr_n_snps['end'].astype(str)\n"
     ]
    },
    {
     "data": {
      "text/html": [
       "<div>\n",
       "<style scoped>\n",
       "    .dataframe tbody tr th:only-of-type {\n",
       "        vertical-align: middle;\n",
       "    }\n",
       "\n",
       "    .dataframe tbody tr th {\n",
       "        vertical-align: top;\n",
       "    }\n",
       "\n",
       "    .dataframe thead th {\n",
       "        text-align: right;\n",
       "    }\n",
       "</style>\n",
       "<table border=\"1\" class=\"dataframe\">\n",
       "  <thead>\n",
       "    <tr style=\"text-align: right;\">\n",
       "      <th></th>\n",
       "      <th>chr</th>\n",
       "      <th>pos</th>\n",
       "      <th>ref</th>\n",
       "      <th>alt</th>\n",
       "      <th>tsa</th>\n",
       "      <th>id</th>\n",
       "      <th>start</th>\n",
       "      <th>end</th>\n",
       "      <th>bed</th>\n",
       "    </tr>\n",
       "  </thead>\n",
       "  <tbody>\n",
       "    <tr>\n",
       "      <th>0</th>\n",
       "      <td>21</td>\n",
       "      <td>5030088</td>\n",
       "      <td>C</td>\n",
       "      <td>T</td>\n",
       "      <td>SNV</td>\n",
       "      <td>rs1455320509</td>\n",
       "      <td>5030024</td>\n",
       "      <td>5030151</td>\n",
       "      <td>21:5030024-5030151</td>\n",
       "    </tr>\n",
       "    <tr>\n",
       "      <th>1</th>\n",
       "      <td>21</td>\n",
       "      <td>5030105</td>\n",
       "      <td>C</td>\n",
       "      <td>A</td>\n",
       "      <td>SNV</td>\n",
       "      <td>rs1173141359</td>\n",
       "      <td>5030041</td>\n",
       "      <td>5030168</td>\n",
       "      <td>21:5030041-5030168</td>\n",
       "    </tr>\n",
       "    <tr>\n",
       "      <th>2</th>\n",
       "      <td>21</td>\n",
       "      <td>5030151</td>\n",
       "      <td>T</td>\n",
       "      <td>G</td>\n",
       "      <td>SNV</td>\n",
       "      <td>rs1601770018</td>\n",
       "      <td>5030087</td>\n",
       "      <td>5030214</td>\n",
       "      <td>21:5030087-5030214</td>\n",
       "    </tr>\n",
       "    <tr>\n",
       "      <th>3</th>\n",
       "      <td>21</td>\n",
       "      <td>5030154</td>\n",
       "      <td>T</td>\n",
       "      <td>C</td>\n",
       "      <td>SNV</td>\n",
       "      <td>rs1461284410</td>\n",
       "      <td>5030090</td>\n",
       "      <td>5030217</td>\n",
       "      <td>21:5030090-5030217</td>\n",
       "    </tr>\n",
       "    <tr>\n",
       "      <th>4</th>\n",
       "      <td>21</td>\n",
       "      <td>5030160</td>\n",
       "      <td>T</td>\n",
       "      <td>A</td>\n",
       "      <td>SNV</td>\n",
       "      <td>rs1601770028</td>\n",
       "      <td>5030096</td>\n",
       "      <td>5030223</td>\n",
       "      <td>21:5030096-5030223</td>\n",
       "    </tr>\n",
       "  </tbody>\n",
       "</table>\n",
       "</div>"
      ],
      "text/plain": [
       "   chr      pos ref alt  tsa            id    start      end  \\\n",
       "0   21  5030088   C   T  SNV  rs1455320509  5030024  5030151   \n",
       "1   21  5030105   C   A  SNV  rs1173141359  5030041  5030168   \n",
       "2   21  5030151   T   G  SNV  rs1601770018  5030087  5030214   \n",
       "3   21  5030154   T   C  SNV  rs1461284410  5030090  5030217   \n",
       "4   21  5030160   T   A  SNV  rs1601770028  5030096  5030223   \n",
       "\n",
       "                  bed  \n",
       "0  21:5030024-5030151  \n",
       "1  21:5030041-5030168  \n",
       "2  21:5030087-5030214  \n",
       "3  21:5030090-5030217  \n",
       "4  21:5030096-5030223  "
      ]
     },
     "execution_count": 3,
     "metadata": {},
     "output_type": "execute_result"
    }
   ],
   "source": [
    "chr_21 = generate_bed(chr_data_path, '21', res_path)\n",
    "chr_21.head()"
   ]
  },
  {
   "cell_type": "code",
   "execution_count": 4,
   "id": "90ab3fde",
   "metadata": {},
   "outputs": [
    {
     "data": {
      "text/html": [
       "<div>\n",
       "<style scoped>\n",
       "    .dataframe tbody tr th:only-of-type {\n",
       "        vertical-align: middle;\n",
       "    }\n",
       "\n",
       "    .dataframe tbody tr th {\n",
       "        vertical-align: top;\n",
       "    }\n",
       "\n",
       "    .dataframe thead th {\n",
       "        text-align: right;\n",
       "    }\n",
       "</style>\n",
       "<table border=\"1\" class=\"dataframe\">\n",
       "  <thead>\n",
       "    <tr style=\"text-align: right;\">\n",
       "      <th></th>\n",
       "      <th>chr</th>\n",
       "      <th>pos</th>\n",
       "      <th>ref</th>\n",
       "      <th>alt</th>\n",
       "      <th>tsa</th>\n",
       "      <th>id</th>\n",
       "      <th>start</th>\n",
       "      <th>end</th>\n",
       "      <th>bed</th>\n",
       "      <th>ref_seq</th>\n",
       "      <th>alt_seq</th>\n",
       "    </tr>\n",
       "  </thead>\n",
       "  <tbody>\n",
       "    <tr>\n",
       "      <th>0</th>\n",
       "      <td>21</td>\n",
       "      <td>5030088</td>\n",
       "      <td>C</td>\n",
       "      <td>T</td>\n",
       "      <td>SNV</td>\n",
       "      <td>rs1455320509</td>\n",
       "      <td>5030024</td>\n",
       "      <td>5030151</td>\n",
       "      <td>21:5030024-5030151</td>\n",
       "      <td>TTTGTAGCGATGGGGCCTCACTGTGTTGCCCAGGCTAGATTCAAGC...</td>\n",
       "      <td>TTTGTAGCGATGGGGCCTCACTGTGTTGCCCAGGCTAGATTCAAGC...</td>\n",
       "    </tr>\n",
       "    <tr>\n",
       "      <th>1</th>\n",
       "      <td>21</td>\n",
       "      <td>5030105</td>\n",
       "      <td>C</td>\n",
       "      <td>A</td>\n",
       "      <td>SNV</td>\n",
       "      <td>rs1173141359</td>\n",
       "      <td>5030041</td>\n",
       "      <td>5030168</td>\n",
       "      <td>21:5030041-5030168</td>\n",
       "      <td>TCACTGTGTTGCCCAGGCTAGATTCAAGCTCCTGGACACAAGCGAT...</td>\n",
       "      <td>TCACTGTGTTGCCCAGGCTAGATTCAAGCTCCTGGACACAAGCGAT...</td>\n",
       "    </tr>\n",
       "    <tr>\n",
       "      <th>2</th>\n",
       "      <td>21</td>\n",
       "      <td>5030151</td>\n",
       "      <td>T</td>\n",
       "      <td>G</td>\n",
       "      <td>SNV</td>\n",
       "      <td>rs1601770018</td>\n",
       "      <td>5030087</td>\n",
       "      <td>5030214</td>\n",
       "      <td>21:5030087-5030214</td>\n",
       "      <td>GCTCCTGCCTAAGCCTCCCAAAGTGCTGAGATTACAGGTGTGAGCC...</td>\n",
       "      <td>GCTCCTGCCTAAGCCTCCCAAAGTGCTGAGATTACAGGTGTGAGCC...</td>\n",
       "    </tr>\n",
       "    <tr>\n",
       "      <th>3</th>\n",
       "      <td>21</td>\n",
       "      <td>5030154</td>\n",
       "      <td>T</td>\n",
       "      <td>C</td>\n",
       "      <td>SNV</td>\n",
       "      <td>rs1461284410</td>\n",
       "      <td>5030090</td>\n",
       "      <td>5030217</td>\n",
       "      <td>21:5030090-5030217</td>\n",
       "      <td>CCTGCCTAAGCCTCCCAAAGTGCTGAGATTACAGGTGTGAGCCACC...</td>\n",
       "      <td>CCTGCCTAAGCCTCCCAAAGTGCTGAGATTACAGGTGTGAGCCACC...</td>\n",
       "    </tr>\n",
       "    <tr>\n",
       "      <th>4</th>\n",
       "      <td>21</td>\n",
       "      <td>5030160</td>\n",
       "      <td>T</td>\n",
       "      <td>A</td>\n",
       "      <td>SNV</td>\n",
       "      <td>rs1601770028</td>\n",
       "      <td>5030096</td>\n",
       "      <td>5030223</td>\n",
       "      <td>21:5030096-5030223</td>\n",
       "      <td>TAAGCCTCCCAAAGTGCTGAGATTACAGGTGTGAGCCACCACGTCC...</td>\n",
       "      <td>TAAGCCTCCCAAAGTGCTGAGATTACAGGTGTGAGCCACCACGTCC...</td>\n",
       "    </tr>\n",
       "  </tbody>\n",
       "</table>\n",
       "</div>"
      ],
      "text/plain": [
       "   chr      pos ref alt  tsa            id    start      end  \\\n",
       "0   21  5030088   C   T  SNV  rs1455320509  5030024  5030151   \n",
       "1   21  5030105   C   A  SNV  rs1173141359  5030041  5030168   \n",
       "2   21  5030151   T   G  SNV  rs1601770018  5030087  5030214   \n",
       "3   21  5030154   T   C  SNV  rs1461284410  5030090  5030217   \n",
       "4   21  5030160   T   A  SNV  rs1601770028  5030096  5030223   \n",
       "\n",
       "                  bed                                            ref_seq  \\\n",
       "0  21:5030024-5030151  TTTGTAGCGATGGGGCCTCACTGTGTTGCCCAGGCTAGATTCAAGC...   \n",
       "1  21:5030041-5030168  TCACTGTGTTGCCCAGGCTAGATTCAAGCTCCTGGACACAAGCGAT...   \n",
       "2  21:5030087-5030214  GCTCCTGCCTAAGCCTCCCAAAGTGCTGAGATTACAGGTGTGAGCC...   \n",
       "3  21:5030090-5030217  CCTGCCTAAGCCTCCCAAAGTGCTGAGATTACAGGTGTGAGCCACC...   \n",
       "4  21:5030096-5030223  TAAGCCTCCCAAAGTGCTGAGATTACAGGTGTGAGCCACCACGTCC...   \n",
       "\n",
       "                                             alt_seq  \n",
       "0  TTTGTAGCGATGGGGCCTCACTGTGTTGCCCAGGCTAGATTCAAGC...  \n",
       "1  TCACTGTGTTGCCCAGGCTAGATTCAAGCTCCTGGACACAAGCGAT...  \n",
       "2  GCTCCTGCCTAAGCCTCCCAAAGTGCTGAGATTACAGGTGTGAGCC...  \n",
       "3  CCTGCCTAAGCCTCCCAAAGTGCTGAGATTACAGGTGTGAGCCACC...  \n",
       "4  TAAGCCTCCCAAAGTGCTGAGATTACAGGTGTGAGCCACCACGTCC...  "
      ]
     },
     "execution_count": 4,
     "metadata": {},
     "output_type": "execute_result"
    }
   ],
   "source": [
    "# Generate the alternate sequences\n",
    "chr_21_df = generate_sequences(reference_genome_path, res_path, '21', chr_21)\n",
    "chr_21_df.head()"
   ]
  },
  {
   "cell_type": "code",
   "execution_count": 5,
   "id": "d2069e27",
   "metadata": {},
   "outputs": [],
   "source": [
    "# Save the data frame with the reference and alternative sequences into a csv file for easier access\n",
    "#chr_21_df.to_csv(\"/mnt/sda1/Databases/Ensembl/Variation/110/chromosome_datasets/chromosome_21_sequeces.csv\", index = False)"
   ]
  },
  {
   "cell_type": "markdown",
   "id": "ff08932d",
   "metadata": {},
   "source": [
    "## Import the dataframe containing the alternative and reference sequences"
   ]
  },
  {
   "cell_type": "code",
   "execution_count": 3,
   "id": "465ae5fc",
   "metadata": {},
   "outputs": [
    {
     "data": {
      "text/html": [
       "<div>\n",
       "<style scoped>\n",
       "    .dataframe tbody tr th:only-of-type {\n",
       "        vertical-align: middle;\n",
       "    }\n",
       "\n",
       "    .dataframe tbody tr th {\n",
       "        vertical-align: top;\n",
       "    }\n",
       "\n",
       "    .dataframe thead th {\n",
       "        text-align: right;\n",
       "    }\n",
       "</style>\n",
       "<table border=\"1\" class=\"dataframe\">\n",
       "  <thead>\n",
       "    <tr style=\"text-align: right;\">\n",
       "      <th></th>\n",
       "      <th>chr</th>\n",
       "      <th>pos</th>\n",
       "      <th>ref</th>\n",
       "      <th>alt</th>\n",
       "      <th>tsa</th>\n",
       "      <th>id</th>\n",
       "      <th>start</th>\n",
       "      <th>end</th>\n",
       "      <th>bed</th>\n",
       "      <th>ref_seq</th>\n",
       "      <th>alt_seq</th>\n",
       "    </tr>\n",
       "  </thead>\n",
       "  <tbody>\n",
       "    <tr>\n",
       "      <th>0</th>\n",
       "      <td>21</td>\n",
       "      <td>5030088</td>\n",
       "      <td>C</td>\n",
       "      <td>T</td>\n",
       "      <td>SNV</td>\n",
       "      <td>rs1455320509</td>\n",
       "      <td>5030024</td>\n",
       "      <td>5030151</td>\n",
       "      <td>21:5030024-5030151</td>\n",
       "      <td>TTTGTAGCGATGGGGCCTCACTGTGTTGCCCAGGCTAGATTCAAGC...</td>\n",
       "      <td>TTTGTAGCGATGGGGCCTCACTGTGTTGCCCAGGCTAGATTCAAGC...</td>\n",
       "    </tr>\n",
       "    <tr>\n",
       "      <th>1</th>\n",
       "      <td>21</td>\n",
       "      <td>5030105</td>\n",
       "      <td>C</td>\n",
       "      <td>A</td>\n",
       "      <td>SNV</td>\n",
       "      <td>rs1173141359</td>\n",
       "      <td>5030041</td>\n",
       "      <td>5030168</td>\n",
       "      <td>21:5030041-5030168</td>\n",
       "      <td>TCACTGTGTTGCCCAGGCTAGATTCAAGCTCCTGGACACAAGCGAT...</td>\n",
       "      <td>TCACTGTGTTGCCCAGGCTAGATTCAAGCTCCTGGACACAAGCGAT...</td>\n",
       "    </tr>\n",
       "    <tr>\n",
       "      <th>2</th>\n",
       "      <td>21</td>\n",
       "      <td>5030151</td>\n",
       "      <td>T</td>\n",
       "      <td>G</td>\n",
       "      <td>SNV</td>\n",
       "      <td>rs1601770018</td>\n",
       "      <td>5030087</td>\n",
       "      <td>5030214</td>\n",
       "      <td>21:5030087-5030214</td>\n",
       "      <td>GCTCCTGCCTAAGCCTCCCAAAGTGCTGAGATTACAGGTGTGAGCC...</td>\n",
       "      <td>GCTCCTGCCTAAGCCTCCCAAAGTGCTGAGATTACAGGTGTGAGCC...</td>\n",
       "    </tr>\n",
       "    <tr>\n",
       "      <th>3</th>\n",
       "      <td>21</td>\n",
       "      <td>5030154</td>\n",
       "      <td>T</td>\n",
       "      <td>C</td>\n",
       "      <td>SNV</td>\n",
       "      <td>rs1461284410</td>\n",
       "      <td>5030090</td>\n",
       "      <td>5030217</td>\n",
       "      <td>21:5030090-5030217</td>\n",
       "      <td>CCTGCCTAAGCCTCCCAAAGTGCTGAGATTACAGGTGTGAGCCACC...</td>\n",
       "      <td>CCTGCCTAAGCCTCCCAAAGTGCTGAGATTACAGGTGTGAGCCACC...</td>\n",
       "    </tr>\n",
       "    <tr>\n",
       "      <th>4</th>\n",
       "      <td>21</td>\n",
       "      <td>5030160</td>\n",
       "      <td>T</td>\n",
       "      <td>A</td>\n",
       "      <td>SNV</td>\n",
       "      <td>rs1601770028</td>\n",
       "      <td>5030096</td>\n",
       "      <td>5030223</td>\n",
       "      <td>21:5030096-5030223</td>\n",
       "      <td>TAAGCCTCCCAAAGTGCTGAGATTACAGGTGTGAGCCACCACGTCC...</td>\n",
       "      <td>TAAGCCTCCCAAAGTGCTGAGATTACAGGTGTGAGCCACCACGTCC...</td>\n",
       "    </tr>\n",
       "  </tbody>\n",
       "</table>\n",
       "</div>"
      ],
      "text/plain": [
       "   chr      pos ref alt  tsa            id    start      end  \\\n",
       "0   21  5030088   C   T  SNV  rs1455320509  5030024  5030151   \n",
       "1   21  5030105   C   A  SNV  rs1173141359  5030041  5030168   \n",
       "2   21  5030151   T   G  SNV  rs1601770018  5030087  5030214   \n",
       "3   21  5030154   T   C  SNV  rs1461284410  5030090  5030217   \n",
       "4   21  5030160   T   A  SNV  rs1601770028  5030096  5030223   \n",
       "\n",
       "                  bed                                            ref_seq  \\\n",
       "0  21:5030024-5030151  TTTGTAGCGATGGGGCCTCACTGTGTTGCCCAGGCTAGATTCAAGC...   \n",
       "1  21:5030041-5030168  TCACTGTGTTGCCCAGGCTAGATTCAAGCTCCTGGACACAAGCGAT...   \n",
       "2  21:5030087-5030214  GCTCCTGCCTAAGCCTCCCAAAGTGCTGAGATTACAGGTGTGAGCC...   \n",
       "3  21:5030090-5030217  CCTGCCTAAGCCTCCCAAAGTGCTGAGATTACAGGTGTGAGCCACC...   \n",
       "4  21:5030096-5030223  TAAGCCTCCCAAAGTGCTGAGATTACAGGTGTGAGCCACCACGTCC...   \n",
       "\n",
       "                                             alt_seq  \n",
       "0  TTTGTAGCGATGGGGCCTCACTGTGTTGCCCAGGCTAGATTCAAGC...  \n",
       "1  TCACTGTGTTGCCCAGGCTAGATTCAAGCTCCTGGACACAAGCGAT...  \n",
       "2  GCTCCTGCCTAAGCCTCCCAAAGTGCTGAGATTACAGGTGTGAGCC...  \n",
       "3  CCTGCCTAAGCCTCCCAAAGTGCTGAGATTACAGGTGTGAGCCACC...  \n",
       "4  TAAGCCTCCCAAAGTGCTGAGATTACAGGTGTGAGCCACCACGTCC...  "
      ]
     },
     "execution_count": 3,
     "metadata": {},
     "output_type": "execute_result"
    }
   ],
   "source": [
    "chr_21_df = pd.read_csv('/mnt/sda1/Databases/Ensembl/Variation/110/chromosome_datasets/chromosome_21_sequeces.csv')\n",
    "chr_21_df.head()"
   ]
  },
  {
   "cell_type": "code",
   "execution_count": 4,
   "id": "5a1190a2",
   "metadata": {},
   "outputs": [
    {
     "name": "stdout",
     "output_type": "stream",
     "text": [
      "T G\n"
     ]
    }
   ],
   "source": [
    "# Check if the `alt` and `ref` elements from each register match with the sequences in `ref_seq` and `alt_seq`\n",
    "print(chr_21_df['ref_seq'][2][64], chr_21_df['alt_seq'][2][64])"
   ]
  },
  {
   "cell_type": "code",
   "execution_count": 5,
   "id": "4a83b9ba",
   "metadata": {},
   "outputs": [],
   "source": [
    "chr21_ref_sequences = chr_21_df[['ref_seq']]\n",
    "chr21_alt_sequences = chr_21_df[['alt_seq']]"
   ]
  },
  {
   "cell_type": "code",
   "execution_count": 6,
   "id": "5a25dcae",
   "metadata": {},
   "outputs": [
    {
     "name": "stderr",
     "output_type": "stream",
     "text": [
      "/tmp/ipykernel_12280/3279015002.py:2: SettingWithCopyWarning: \n",
      "A value is trying to be set on a copy of a slice from a DataFrame.\n",
      "Try using .loc[row_indexer,col_indexer] = value instead\n",
      "\n",
      "See the caveats in the documentation: https://pandas.pydata.org/pandas-docs/stable/user_guide/indexing.html#returning-a-view-versus-a-copy\n",
      "  chr21_ref_sequences['y'] = np.zeros(shape = chr21_ref_sequences.shape[0])\n",
      "/tmp/ipykernel_12280/3279015002.py:3: SettingWithCopyWarning: \n",
      "A value is trying to be set on a copy of a slice from a DataFrame\n",
      "\n",
      "See the caveats in the documentation: https://pandas.pydata.org/pandas-docs/stable/user_guide/indexing.html#returning-a-view-versus-a-copy\n",
      "  chr21_ref_sequences.rename({'ref_seq': 'seq'}, axis =1, inplace=True)\n"
     ]
    }
   ],
   "source": [
    "# Label the reference sequences\n",
    "chr21_ref_sequences['y'] = np.zeros(shape = chr21_ref_sequences.shape[0])\n",
    "chr21_ref_sequences.rename({'ref_seq': 'seq'}, axis =1, inplace=True)"
   ]
  },
  {
   "cell_type": "code",
   "execution_count": 7,
   "id": "33673fb3",
   "metadata": {},
   "outputs": [
    {
     "data": {
      "text/html": [
       "<div>\n",
       "<style scoped>\n",
       "    .dataframe tbody tr th:only-of-type {\n",
       "        vertical-align: middle;\n",
       "    }\n",
       "\n",
       "    .dataframe tbody tr th {\n",
       "        vertical-align: top;\n",
       "    }\n",
       "\n",
       "    .dataframe thead th {\n",
       "        text-align: right;\n",
       "    }\n",
       "</style>\n",
       "<table border=\"1\" class=\"dataframe\">\n",
       "  <thead>\n",
       "    <tr style=\"text-align: right;\">\n",
       "      <th></th>\n",
       "      <th>seq</th>\n",
       "      <th>y</th>\n",
       "    </tr>\n",
       "  </thead>\n",
       "  <tbody>\n",
       "    <tr>\n",
       "      <th>0</th>\n",
       "      <td>TTTGTAGCGATGGGGCCTCACTGTGTTGCCCAGGCTAGATTCAAGC...</td>\n",
       "      <td>0.0</td>\n",
       "    </tr>\n",
       "    <tr>\n",
       "      <th>1</th>\n",
       "      <td>TCACTGTGTTGCCCAGGCTAGATTCAAGCTCCTGGACACAAGCGAT...</td>\n",
       "      <td>0.0</td>\n",
       "    </tr>\n",
       "    <tr>\n",
       "      <th>2</th>\n",
       "      <td>GCTCCTGCCTAAGCCTCCCAAAGTGCTGAGATTACAGGTGTGAGCC...</td>\n",
       "      <td>0.0</td>\n",
       "    </tr>\n",
       "    <tr>\n",
       "      <th>3</th>\n",
       "      <td>CCTGCCTAAGCCTCCCAAAGTGCTGAGATTACAGGTGTGAGCCACC...</td>\n",
       "      <td>0.0</td>\n",
       "    </tr>\n",
       "    <tr>\n",
       "      <th>4</th>\n",
       "      <td>TAAGCCTCCCAAAGTGCTGAGATTACAGGTGTGAGCCACCACGTCC...</td>\n",
       "      <td>0.0</td>\n",
       "    </tr>\n",
       "  </tbody>\n",
       "</table>\n",
       "</div>"
      ],
      "text/plain": [
       "                                                 seq    y\n",
       "0  TTTGTAGCGATGGGGCCTCACTGTGTTGCCCAGGCTAGATTCAAGC...  0.0\n",
       "1  TCACTGTGTTGCCCAGGCTAGATTCAAGCTCCTGGACACAAGCGAT...  0.0\n",
       "2  GCTCCTGCCTAAGCCTCCCAAAGTGCTGAGATTACAGGTGTGAGCC...  0.0\n",
       "3  CCTGCCTAAGCCTCCCAAAGTGCTGAGATTACAGGTGTGAGCCACC...  0.0\n",
       "4  TAAGCCTCCCAAAGTGCTGAGATTACAGGTGTGAGCCACCACGTCC...  0.0"
      ]
     },
     "execution_count": 7,
     "metadata": {},
     "output_type": "execute_result"
    }
   ],
   "source": [
    "chr21_ref_sequences.head()"
   ]
  },
  {
   "cell_type": "code",
   "execution_count": 8,
   "id": "50c351ac",
   "metadata": {},
   "outputs": [
    {
     "name": "stderr",
     "output_type": "stream",
     "text": [
      "/tmp/ipykernel_12280/1784778396.py:2: SettingWithCopyWarning: \n",
      "A value is trying to be set on a copy of a slice from a DataFrame.\n",
      "Try using .loc[row_indexer,col_indexer] = value instead\n",
      "\n",
      "See the caveats in the documentation: https://pandas.pydata.org/pandas-docs/stable/user_guide/indexing.html#returning-a-view-versus-a-copy\n",
      "  chr21_alt_sequences['y'] = np.ones(shape = chr21_alt_sequences.shape[0])\n",
      "/tmp/ipykernel_12280/1784778396.py:3: SettingWithCopyWarning: \n",
      "A value is trying to be set on a copy of a slice from a DataFrame\n",
      "\n",
      "See the caveats in the documentation: https://pandas.pydata.org/pandas-docs/stable/user_guide/indexing.html#returning-a-view-versus-a-copy\n",
      "  chr21_alt_sequences.rename({'alt_seq': 'seq'}, axis=1, inplace=True)\n"
     ]
    }
   ],
   "source": [
    "# Label the alternate sequences\n",
    "chr21_alt_sequences['y'] = np.ones(shape = chr21_alt_sequences.shape[0])\n",
    "chr21_alt_sequences.rename({'alt_seq': 'seq'}, axis=1, inplace=True)"
   ]
  },
  {
   "cell_type": "code",
   "execution_count": 9,
   "id": "78c8b640",
   "metadata": {},
   "outputs": [
    {
     "data": {
      "text/html": [
       "<div>\n",
       "<style scoped>\n",
       "    .dataframe tbody tr th:only-of-type {\n",
       "        vertical-align: middle;\n",
       "    }\n",
       "\n",
       "    .dataframe tbody tr th {\n",
       "        vertical-align: top;\n",
       "    }\n",
       "\n",
       "    .dataframe thead th {\n",
       "        text-align: right;\n",
       "    }\n",
       "</style>\n",
       "<table border=\"1\" class=\"dataframe\">\n",
       "  <thead>\n",
       "    <tr style=\"text-align: right;\">\n",
       "      <th></th>\n",
       "      <th>seq</th>\n",
       "      <th>y</th>\n",
       "    </tr>\n",
       "  </thead>\n",
       "  <tbody>\n",
       "    <tr>\n",
       "      <th>0</th>\n",
       "      <td>TTTGTAGCGATGGGGCCTCACTGTGTTGCCCAGGCTAGATTCAAGC...</td>\n",
       "      <td>1.0</td>\n",
       "    </tr>\n",
       "    <tr>\n",
       "      <th>1</th>\n",
       "      <td>TCACTGTGTTGCCCAGGCTAGATTCAAGCTCCTGGACACAAGCGAT...</td>\n",
       "      <td>1.0</td>\n",
       "    </tr>\n",
       "    <tr>\n",
       "      <th>2</th>\n",
       "      <td>GCTCCTGCCTAAGCCTCCCAAAGTGCTGAGATTACAGGTGTGAGCC...</td>\n",
       "      <td>1.0</td>\n",
       "    </tr>\n",
       "    <tr>\n",
       "      <th>3</th>\n",
       "      <td>CCTGCCTAAGCCTCCCAAAGTGCTGAGATTACAGGTGTGAGCCACC...</td>\n",
       "      <td>1.0</td>\n",
       "    </tr>\n",
       "    <tr>\n",
       "      <th>4</th>\n",
       "      <td>TAAGCCTCCCAAAGTGCTGAGATTACAGGTGTGAGCCACCACGTCC...</td>\n",
       "      <td>1.0</td>\n",
       "    </tr>\n",
       "  </tbody>\n",
       "</table>\n",
       "</div>"
      ],
      "text/plain": [
       "                                                 seq    y\n",
       "0  TTTGTAGCGATGGGGCCTCACTGTGTTGCCCAGGCTAGATTCAAGC...  1.0\n",
       "1  TCACTGTGTTGCCCAGGCTAGATTCAAGCTCCTGGACACAAGCGAT...  1.0\n",
       "2  GCTCCTGCCTAAGCCTCCCAAAGTGCTGAGATTACAGGTGTGAGCC...  1.0\n",
       "3  CCTGCCTAAGCCTCCCAAAGTGCTGAGATTACAGGTGTGAGCCACC...  1.0\n",
       "4  TAAGCCTCCCAAAGTGCTGAGATTACAGGTGTGAGCCACCACGTCC...  1.0"
      ]
     },
     "execution_count": 9,
     "metadata": {},
     "output_type": "execute_result"
    }
   ],
   "source": [
    "chr21_alt_sequences.head()"
   ]
  },
  {
   "cell_type": "code",
   "execution_count": 10,
   "id": "206c1777",
   "metadata": {},
   "outputs": [
    {
     "data": {
      "text/html": [
       "<div>\n",
       "<style scoped>\n",
       "    .dataframe tbody tr th:only-of-type {\n",
       "        vertical-align: middle;\n",
       "    }\n",
       "\n",
       "    .dataframe tbody tr th {\n",
       "        vertical-align: top;\n",
       "    }\n",
       "\n",
       "    .dataframe thead th {\n",
       "        text-align: right;\n",
       "    }\n",
       "</style>\n",
       "<table border=\"1\" class=\"dataframe\">\n",
       "  <thead>\n",
       "    <tr style=\"text-align: right;\">\n",
       "      <th></th>\n",
       "      <th>seq</th>\n",
       "      <th>y</th>\n",
       "    </tr>\n",
       "  </thead>\n",
       "  <tbody>\n",
       "    <tr>\n",
       "      <th>0</th>\n",
       "      <td>TTTGTAGCGATGGGGCCTCACTGTGTTGCCCAGGCTAGATTCAAGC...</td>\n",
       "      <td>1.0</td>\n",
       "    </tr>\n",
       "    <tr>\n",
       "      <th>1</th>\n",
       "      <td>TCACTGTGTTGCCCAGGCTAGATTCAAGCTCCTGGACACAAGCGAT...</td>\n",
       "      <td>1.0</td>\n",
       "    </tr>\n",
       "    <tr>\n",
       "      <th>2</th>\n",
       "      <td>GCTCCTGCCTAAGCCTCCCAAAGTGCTGAGATTACAGGTGTGAGCC...</td>\n",
       "      <td>1.0</td>\n",
       "    </tr>\n",
       "    <tr>\n",
       "      <th>3</th>\n",
       "      <td>CCTGCCTAAGCCTCCCAAAGTGCTGAGATTACAGGTGTGAGCCACC...</td>\n",
       "      <td>1.0</td>\n",
       "    </tr>\n",
       "    <tr>\n",
       "      <th>4</th>\n",
       "      <td>TAAGCCTCCCAAAGTGCTGAGATTACAGGTGTGAGCCACCACGTCC...</td>\n",
       "      <td>1.0</td>\n",
       "    </tr>\n",
       "  </tbody>\n",
       "</table>\n",
       "</div>"
      ],
      "text/plain": [
       "                                                 seq    y\n",
       "0  TTTGTAGCGATGGGGCCTCACTGTGTTGCCCAGGCTAGATTCAAGC...  1.0\n",
       "1  TCACTGTGTTGCCCAGGCTAGATTCAAGCTCCTGGACACAAGCGAT...  1.0\n",
       "2  GCTCCTGCCTAAGCCTCCCAAAGTGCTGAGATTACAGGTGTGAGCC...  1.0\n",
       "3  CCTGCCTAAGCCTCCCAAAGTGCTGAGATTACAGGTGTGAGCCACC...  1.0\n",
       "4  TAAGCCTCCCAAAGTGCTGAGATTACAGGTGTGAGCCACCACGTCC...  1.0"
      ]
     },
     "execution_count": 10,
     "metadata": {},
     "output_type": "execute_result"
    }
   ],
   "source": [
    "chr_21_dataset = pd.concat([chr21_alt_sequences, chr21_ref_sequences], ignore_index=True)\n",
    "chr_21_dataset.head()                           "
   ]
  },
  {
   "cell_type": "code",
   "execution_count": 11,
   "id": "d18b9420",
   "metadata": {},
   "outputs": [
    {
     "data": {
      "text/plain": [
       "(15084830, 2)"
      ]
     },
     "execution_count": 11,
     "metadata": {},
     "output_type": "execute_result"
    }
   ],
   "source": [
    "chr_21_dataset.shape"
   ]
  },
  {
   "cell_type": "markdown",
   "id": "d8aaa127",
   "metadata": {},
   "source": [
    "# Tokenization\n",
    "\n",
    "The final objective is to use the tokenization from DNABERT-2."
   ]
  },
  {
   "cell_type": "markdown",
   "id": "5edd7294",
   "metadata": {},
   "source": [
    "## Tokenizer from DNARBERT-2"
   ]
  },
  {
   "cell_type": "code",
   "execution_count": 12,
   "id": "2f50efa7",
   "metadata": {},
   "outputs": [],
   "source": [
    "# Import tokenizer from the Transformers module\n",
    "from transformers import AutoTokenizer, AutoModel"
   ]
  },
  {
   "cell_type": "code",
   "execution_count": 13,
   "id": "14f4e3f0",
   "metadata": {},
   "outputs": [
    {
     "data": {
      "text/plain": [
       "PreTrainedTokenizerFast(name_or_path='zhihan1996/DNABERT-2-117M', vocab_size=4096, model_max_length=1000000000000000019884624838656, is_fast=True, padding_side='right', truncation_side='right', special_tokens={'unk_token': '[UNK]', 'sep_token': '[SEP]', 'pad_token': '[PAD]', 'cls_token': '[CLS]', 'mask_token': '[MASK]'}, clean_up_tokenization_spaces=True)"
      ]
     },
     "execution_count": 13,
     "metadata": {},
     "output_type": "execute_result"
    }
   ],
   "source": [
    "tokenizer = AutoTokenizer.from_pretrained(\"zhihan1996/DNABERT-2-117M\", trust_remote_code=True)\n",
    "tokenizer"
   ]
  },
  {
   "cell_type": "code",
   "execution_count": 14,
   "id": "198318a5",
   "metadata": {},
   "outputs": [
    {
     "data": {
      "text/html": [
       "<div>\n",
       "<style scoped>\n",
       "    .dataframe tbody tr th:only-of-type {\n",
       "        vertical-align: middle;\n",
       "    }\n",
       "\n",
       "    .dataframe tbody tr th {\n",
       "        vertical-align: top;\n",
       "    }\n",
       "\n",
       "    .dataframe thead th {\n",
       "        text-align: right;\n",
       "    }\n",
       "</style>\n",
       "<table border=\"1\" class=\"dataframe\">\n",
       "  <thead>\n",
       "    <tr style=\"text-align: right;\">\n",
       "      <th></th>\n",
       "      <th>seq</th>\n",
       "      <th>y</th>\n",
       "    </tr>\n",
       "  </thead>\n",
       "  <tbody>\n",
       "    <tr>\n",
       "      <th>5481323</th>\n",
       "      <td>AAAGCAAAGAGAATGAGAGATCAGTGGTATGAAGACACAGGGAAGA...</td>\n",
       "      <td>1.0</td>\n",
       "    </tr>\n",
       "    <tr>\n",
       "      <th>2810785</th>\n",
       "      <td>GTAATTAAAACAGCATTGTATTGGCATTAAAACAGATACATAGACC...</td>\n",
       "      <td>1.0</td>\n",
       "    </tr>\n",
       "    <tr>\n",
       "      <th>1761843</th>\n",
       "      <td>GCATTCTGAGATCCAGGCTGAAGAAACACTGGTTAACAGGGTCATA...</td>\n",
       "      <td>1.0</td>\n",
       "    </tr>\n",
       "    <tr>\n",
       "      <th>5876021</th>\n",
       "      <td>ATCCAATTGGCAAAGACAATAAACACATAACTCCTAATGTTGATAA...</td>\n",
       "      <td>1.0</td>\n",
       "    </tr>\n",
       "    <tr>\n",
       "      <th>7547806</th>\n",
       "      <td>CCCTGCAACAGTGCCTGGAGCCAGACGTTCACCCCAGATCCTTCTG...</td>\n",
       "      <td>0.0</td>\n",
       "    </tr>\n",
       "  </tbody>\n",
       "</table>\n",
       "</div>"
      ],
      "text/plain": [
       "                                                       seq    y\n",
       "5481323  AAAGCAAAGAGAATGAGAGATCAGTGGTATGAAGACACAGGGAAGA...  1.0\n",
       "2810785  GTAATTAAAACAGCATTGTATTGGCATTAAAACAGATACATAGACC...  1.0\n",
       "1761843  GCATTCTGAGATCCAGGCTGAAGAAACACTGGTTAACAGGGTCATA...  1.0\n",
       "5876021  ATCCAATTGGCAAAGACAATAAACACATAACTCCTAATGTTGATAA...  1.0\n",
       "7547806  CCCTGCAACAGTGCCTGGAGCCAGACGTTCACCCCAGATCCTTCTG...  0.0"
      ]
     },
     "execution_count": 14,
     "metadata": {},
     "output_type": "execute_result"
    }
   ],
   "source": [
    "samples = chr_21_dataset.sample(n=100000)\n",
    "samples.head()"
   ]
  },
  {
   "cell_type": "code",
   "execution_count": 15,
   "id": "a3067a35",
   "metadata": {},
   "outputs": [
    {
     "data": {
      "text/plain": [
       "pandas.core.series.Series"
      ]
     },
     "execution_count": 15,
     "metadata": {},
     "output_type": "execute_result"
    }
   ],
   "source": [
    "type(chr_21_dataset.y)"
   ]
  },
  {
   "cell_type": "code",
   "execution_count": 15,
   "id": "c4d8f8a0",
   "metadata": {},
   "outputs": [
    {
     "data": {
      "text/plain": [
       "['AAAGCAAAGAGAATGAGAGATCAGTGGTATGAAGACACAGGGAAGAAGCCACGTGAAAACAAATACTGCCCAAGCCAAAGAGAGTGTGGGGCCACGAGAAGCTGAAACAGGCAGCAGGAGTTCTCCCC',\n",
       " 'GTAATTAAAACAGCATTGTATTGGCATTAAAACAGATACATAGACCAATGGAACAGAATACAGAGCCAGGAAACAAGTTCACACACCTACAGTGAACTCATTTTTGAAAATGGTGCCCAGAACATATA',\n",
       " 'GCATTCTGAGATCCAGGCTGAAGAAACACTGGTTAACAGGGTCATATTTTTCTCATGGTAGCAGAGAATAAATAAGAGACCAAACCAAAATGTGTAAGCATGTTTAAAGCTGCTGTGTGAAAAAAGTG',\n",
       " 'ATCCAATTGGCAAAGACAATAAACACATAACTCCTAATGTTGATAAAAATATAGAGAATGAAACTTTCTCATGTAGACATTCCTTACAAGAATATAAATTGATATAACCTTTTTGGAGGGCAAGTTGG',\n",
       " 'CCCTGCAACAGTGCCTGGAGCCAGACGTTCACCCCAGATCCTTCTGTGGGGTGAGACTGCAGGTCAGGCCGAGGCGTGTCAGCCAGGGTGGTGTGACTGCACCTCCAGAGCCAGCAGCAACGGCCAGG']"
      ]
     },
     "execution_count": 15,
     "metadata": {},
     "output_type": "execute_result"
    }
   ],
   "source": [
    "sample_sequences = samples.seq.to_list()\n",
    "sample_sequences[:5]"
   ]
  },
  {
   "cell_type": "code",
   "execution_count": 18,
   "id": "8473ccb0",
   "metadata": {},
   "outputs": [
    {
     "name": "stdout",
     "output_type": "stream",
     "text": [
      "tensor([[   1,   18,  124,  ...,    3,    3,    3],\n",
      "        [   1,  461,   39,  ...,    3,    3,    3],\n",
      "        [   1,  183,   59,  ...,    3,    3,    3],\n",
      "        ...,\n",
      "        [   1,  945,  199,  ...,    3,    3,    3],\n",
      "        [   1,    9,   10,  ...,    3,    3,    3],\n",
      "        [   1,    5, 1040,  ...,    3,    3,    3]])\n"
     ]
    }
   ],
   "source": [
    "# Tokenize sequences\n",
    "encoded_inputs = tokenizer(sample_sequences, padding = True, return_tensors=\"pt\")[\"input_ids\"]\n",
    "print(encoded_inputs)"
   ]
  },
  {
   "cell_type": "code",
   "execution_count": 20,
   "id": "0603eda5",
   "metadata": {},
   "outputs": [
    {
     "data": {
      "text/plain": [
       "tensor([   1,   18,  124,  145, 1505,  574, 2418,  683,  200, 2919,  123,   39,\n",
       "          49,  236,  264,  463,   50, 2168,   89, 3145,  978,   53,  148,  945,\n",
       "          78,   13,    2,    3,    3,    3,    3,    3,    3,    3,    3,    3,\n",
       "           3,    3,    3,    3,    3,    3,    3,    3,    3,    3,    3,    3,\n",
       "           3,    3,    3,    3,    3,    3,    3,    3,    3,    3,    3,    3,\n",
       "           3,    3,    3,    3,    3,    3,    3,    3,    3,    3,    3,    3,\n",
       "           3,    3,    3,    3,    3,    3,    3])"
      ]
     },
     "execution_count": 20,
     "metadata": {},
     "output_type": "execute_result"
    }
   ],
   "source": [
    "encoded_inputs[0]"
   ]
  },
  {
   "cell_type": "code",
   "execution_count": 21,
   "id": "6149587d",
   "metadata": {},
   "outputs": [
    {
     "data": {
      "text/plain": [
       "'[CLS] AAA GCAAA GAGAA TGAGAGA TCAGTG GTATGAA GACACA GGGAA GAAGCCA CGTG AAAA CAAA TACTG CCCAA GCCAAA GAGA GTGTGGG GCCA CGAGAA GCTGAAA CAGG CAGCA GGAGTT CTCC CC [SEP] [PAD] [PAD] [PAD] [PAD] [PAD] [PAD] [PAD] [PAD] [PAD] [PAD] [PAD] [PAD] [PAD] [PAD] [PAD] [PAD] [PAD] [PAD] [PAD] [PAD] [PAD] [PAD] [PAD] [PAD] [PAD] [PAD] [PAD] [PAD] [PAD] [PAD] [PAD] [PAD] [PAD] [PAD] [PAD] [PAD] [PAD] [PAD] [PAD] [PAD] [PAD] [PAD] [PAD] [PAD] [PAD] [PAD] [PAD] [PAD] [PAD] [PAD] [PAD] [PAD]'"
      ]
     },
     "execution_count": 21,
     "metadata": {},
     "output_type": "execute_result"
    }
   ],
   "source": [
    "tokenizer.decode(encoded_inputs[0])"
   ]
  },
  {
   "cell_type": "code",
   "execution_count": 19,
   "id": "a181700a",
   "metadata": {},
   "outputs": [
    {
     "data": {
      "text/plain": [
       "torch.int64"
      ]
     },
     "execution_count": 19,
     "metadata": {},
     "output_type": "execute_result"
    }
   ],
   "source": [
    "encoded_inputs[0].dtype"
   ]
  },
  {
   "cell_type": "markdown",
   "id": "15ad3a43",
   "metadata": {},
   "source": [
    "### Data splitting"
   ]
  },
  {
   "cell_type": "code",
   "execution_count": 20,
   "id": "9f053390",
   "metadata": {},
   "outputs": [],
   "source": [
    "from sklearn.model_selection import train_test_split"
   ]
  },
  {
   "cell_type": "code",
   "execution_count": 21,
   "id": "5f04be4c",
   "metadata": {},
   "outputs": [
    {
     "name": "stdout",
     "output_type": "stream",
     "text": [
      "tensor([0, 0, 1,  ..., 0, 1, 0]) torch.int64\n"
     ]
    }
   ],
   "source": [
    "# Convert y in samples into a tensor\n",
    "y_tensor = torch.from_numpy(samples.y.to_numpy())\n",
    "y_tensor = y_tensor.to(torch.int64)\n",
    "print(y_tensor, y_tensor.dtype)"
   ]
  },
  {
   "cell_type": "code",
   "execution_count": 22,
   "id": "42d30d54",
   "metadata": {},
   "outputs": [],
   "source": [
    "# encoded_inputs is X and y in samples is Y\n",
    "seed = 7\n",
    "np.random.seed(seed)\n",
    "\n",
    "X_train, X_test, y_train, y_test = train_test_split(encoded_inputs, y_tensor, test_size=0.33, random_state= seed)"
   ]
  },
  {
   "cell_type": "code",
   "execution_count": 24,
   "id": "37e9aeb9",
   "metadata": {},
   "outputs": [
    {
     "data": {
      "text/plain": [
       "71"
      ]
     },
     "execution_count": 24,
     "metadata": {},
     "output_type": "execute_result"
    }
   ],
   "source": [
    "len(X_train[0])"
   ]
  },
  {
   "cell_type": "markdown",
   "id": "c0518201",
   "metadata": {},
   "source": [
    "# Initial model\n",
    "We are going to build and train a model to differenciate alternative sequences from reference ones."
   ]
  },
  {
   "cell_type": "code",
   "execution_count": 33,
   "id": "139be1de",
   "metadata": {},
   "outputs": [
    {
     "name": "stdout",
     "output_type": "stream",
     "text": [
      "Using cuda device\n"
     ]
    }
   ],
   "source": [
    "# Get cpu, gpu or mps device for training.\n",
    "device = (\n",
    "    \"cuda\"\n",
    "    if torch.cuda.is_available()\n",
    "    else \"mps\"\n",
    "    if torch.backends.mps.is_available()\n",
    "    else \"cpu\"\n",
    ")\n",
    "print(f\"Using {device} device\")"
   ]
  },
  {
   "cell_type": "code",
   "execution_count": 43,
   "id": "622cacd3",
   "metadata": {},
   "outputs": [
    {
     "name": "stdout",
     "output_type": "stream",
     "text": [
      "NeuralNetwork(\n",
      "  (linear_relu_stack): Sequential(\n",
      "    (0): Linear(in_features=51, out_features=30, bias=True)\n",
      "    (1): ReLU()\n",
      "    (2): Linear(in_features=30, out_features=15, bias=True)\n",
      "    (3): ReLU()\n",
      "    (4): Linear(in_features=15, out_features=7, bias=True)\n",
      "    (5): ReLU()\n",
      "    (6): Linear(in_features=7, out_features=1, bias=True)\n",
      "  )\n",
      ")\n"
     ]
    }
   ],
   "source": [
    "# Define model\n",
    "class NeuralNetwork(nn.Module):\n",
    "    def __init__(self):\n",
    "        super().__init__()\n",
    "        self.linear_relu_stack = nn.Sequential(\n",
    "            nn.Linear(51, 30),\n",
    "            nn.ReLU(),\n",
    "            nn.Linear(30, 15),\n",
    "            nn.ReLU(),\n",
    "            nn.Linear(15, 7),\n",
    "            nn.ReLU(),\n",
    "            nn.Linear(7, 1)\n",
    "        )\n",
    "\n",
    "    def forward(self, x):\n",
    "        logits = self.linear_relu_stack(x)\n",
    "        return logits\n",
    "\n",
    "model = NeuralNetwork().to(device)\n",
    "print(model)"
   ]
  },
  {
   "cell_type": "code",
   "execution_count": 44,
   "id": "036c0476",
   "metadata": {},
   "outputs": [],
   "source": [
    "# Loss function\n",
    "loss = nn.BCELoss()\n",
    "# Optimizer\n",
    "optimizer = optim.Adam(model.parameters(), lr = 0.001)"
   ]
  },
  {
   "cell_type": "code",
   "execution_count": 45,
   "id": "2b9eb870",
   "metadata": {},
   "outputs": [],
   "source": [
    "# Loop parameters\n",
    "num_epochs = 10\n",
    "X_train = X_train.to(device)\n",
    "y_train = y_train.to(device)"
   ]
  },
  {
   "cell_type": "code",
   "execution_count": 46,
   "id": "be84bb5f",
   "metadata": {},
   "outputs": [
    {
     "name": "stdout",
     "output_type": "stream",
     "text": [
      "torch.int64 torch.int64 cuda:0 cuda:0\n"
     ]
    }
   ],
   "source": [
    "print(X_train.dtype, y_train.dtype, X_train.device, y_train.device)"
   ]
  },
  {
   "cell_type": "code",
   "execution_count": 47,
   "id": "4a2b06df",
   "metadata": {},
   "outputs": [
    {
     "ename": "RuntimeError",
     "evalue": "mat1 and mat2 must have the same dtype",
     "output_type": "error",
     "traceback": [
      "\u001b[0;31m---------------------------------------------------------------------------\u001b[0m",
      "\u001b[0;31mRuntimeError\u001b[0m                              Traceback (most recent call last)",
      "Cell \u001b[0;32mIn[47], line 6\u001b[0m\n\u001b[1;32m      3\u001b[0m model\u001b[39m.\u001b[39mtrain()  \u001b[39m# Set the model to training mode\u001b[39;00m\n\u001b[1;32m      5\u001b[0m \u001b[39m# Forward pass\u001b[39;00m\n\u001b[0;32m----> 6\u001b[0m outputs \u001b[39m=\u001b[39m model(X_train)\n\u001b[1;32m      7\u001b[0m loss \u001b[39m=\u001b[39m loss(outputs, y_train)\n\u001b[1;32m      9\u001b[0m \u001b[39m# Backpropagation and optimization\u001b[39;00m\n",
      "File \u001b[0;32m~/venvs/DNABERT_2/lib/python3.10/site-packages/torch/nn/modules/module.py:1501\u001b[0m, in \u001b[0;36mModule._call_impl\u001b[0;34m(self, *args, **kwargs)\u001b[0m\n\u001b[1;32m   1496\u001b[0m \u001b[39m# If we don't have any hooks, we want to skip the rest of the logic in\u001b[39;00m\n\u001b[1;32m   1497\u001b[0m \u001b[39m# this function, and just call forward.\u001b[39;00m\n\u001b[1;32m   1498\u001b[0m \u001b[39mif\u001b[39;00m \u001b[39mnot\u001b[39;00m (\u001b[39mself\u001b[39m\u001b[39m.\u001b[39m_backward_hooks \u001b[39mor\u001b[39;00m \u001b[39mself\u001b[39m\u001b[39m.\u001b[39m_backward_pre_hooks \u001b[39mor\u001b[39;00m \u001b[39mself\u001b[39m\u001b[39m.\u001b[39m_forward_hooks \u001b[39mor\u001b[39;00m \u001b[39mself\u001b[39m\u001b[39m.\u001b[39m_forward_pre_hooks\n\u001b[1;32m   1499\u001b[0m         \u001b[39mor\u001b[39;00m _global_backward_pre_hooks \u001b[39mor\u001b[39;00m _global_backward_hooks\n\u001b[1;32m   1500\u001b[0m         \u001b[39mor\u001b[39;00m _global_forward_hooks \u001b[39mor\u001b[39;00m _global_forward_pre_hooks):\n\u001b[0;32m-> 1501\u001b[0m     \u001b[39mreturn\u001b[39;00m forward_call(\u001b[39m*\u001b[39;49margs, \u001b[39m*\u001b[39;49m\u001b[39m*\u001b[39;49mkwargs)\n\u001b[1;32m   1502\u001b[0m \u001b[39m# Do not call functions when jit is used\u001b[39;00m\n\u001b[1;32m   1503\u001b[0m full_backward_hooks, non_full_backward_hooks \u001b[39m=\u001b[39m [], []\n",
      "Cell \u001b[0;32mIn[43], line 16\u001b[0m, in \u001b[0;36mNeuralNetwork.forward\u001b[0;34m(self, x)\u001b[0m\n\u001b[1;32m     15\u001b[0m \u001b[39mdef\u001b[39;00m \u001b[39mforward\u001b[39m(\u001b[39mself\u001b[39m, x):\n\u001b[0;32m---> 16\u001b[0m     logits \u001b[39m=\u001b[39m \u001b[39mself\u001b[39;49m\u001b[39m.\u001b[39;49mlinear_relu_stack(x)\n\u001b[1;32m     17\u001b[0m     \u001b[39mreturn\u001b[39;00m logits\n",
      "File \u001b[0;32m~/venvs/DNABERT_2/lib/python3.10/site-packages/torch/nn/modules/module.py:1501\u001b[0m, in \u001b[0;36mModule._call_impl\u001b[0;34m(self, *args, **kwargs)\u001b[0m\n\u001b[1;32m   1496\u001b[0m \u001b[39m# If we don't have any hooks, we want to skip the rest of the logic in\u001b[39;00m\n\u001b[1;32m   1497\u001b[0m \u001b[39m# this function, and just call forward.\u001b[39;00m\n\u001b[1;32m   1498\u001b[0m \u001b[39mif\u001b[39;00m \u001b[39mnot\u001b[39;00m (\u001b[39mself\u001b[39m\u001b[39m.\u001b[39m_backward_hooks \u001b[39mor\u001b[39;00m \u001b[39mself\u001b[39m\u001b[39m.\u001b[39m_backward_pre_hooks \u001b[39mor\u001b[39;00m \u001b[39mself\u001b[39m\u001b[39m.\u001b[39m_forward_hooks \u001b[39mor\u001b[39;00m \u001b[39mself\u001b[39m\u001b[39m.\u001b[39m_forward_pre_hooks\n\u001b[1;32m   1499\u001b[0m         \u001b[39mor\u001b[39;00m _global_backward_pre_hooks \u001b[39mor\u001b[39;00m _global_backward_hooks\n\u001b[1;32m   1500\u001b[0m         \u001b[39mor\u001b[39;00m _global_forward_hooks \u001b[39mor\u001b[39;00m _global_forward_pre_hooks):\n\u001b[0;32m-> 1501\u001b[0m     \u001b[39mreturn\u001b[39;00m forward_call(\u001b[39m*\u001b[39;49margs, \u001b[39m*\u001b[39;49m\u001b[39m*\u001b[39;49mkwargs)\n\u001b[1;32m   1502\u001b[0m \u001b[39m# Do not call functions when jit is used\u001b[39;00m\n\u001b[1;32m   1503\u001b[0m full_backward_hooks, non_full_backward_hooks \u001b[39m=\u001b[39m [], []\n",
      "File \u001b[0;32m~/venvs/DNABERT_2/lib/python3.10/site-packages/torch/nn/modules/container.py:217\u001b[0m, in \u001b[0;36mSequential.forward\u001b[0;34m(self, input)\u001b[0m\n\u001b[1;32m    215\u001b[0m \u001b[39mdef\u001b[39;00m \u001b[39mforward\u001b[39m(\u001b[39mself\u001b[39m, \u001b[39minput\u001b[39m):\n\u001b[1;32m    216\u001b[0m     \u001b[39mfor\u001b[39;00m module \u001b[39min\u001b[39;00m \u001b[39mself\u001b[39m:\n\u001b[0;32m--> 217\u001b[0m         \u001b[39minput\u001b[39m \u001b[39m=\u001b[39m module(\u001b[39minput\u001b[39;49m)\n\u001b[1;32m    218\u001b[0m     \u001b[39mreturn\u001b[39;00m \u001b[39minput\u001b[39m\n",
      "File \u001b[0;32m~/venvs/DNABERT_2/lib/python3.10/site-packages/torch/nn/modules/module.py:1501\u001b[0m, in \u001b[0;36mModule._call_impl\u001b[0;34m(self, *args, **kwargs)\u001b[0m\n\u001b[1;32m   1496\u001b[0m \u001b[39m# If we don't have any hooks, we want to skip the rest of the logic in\u001b[39;00m\n\u001b[1;32m   1497\u001b[0m \u001b[39m# this function, and just call forward.\u001b[39;00m\n\u001b[1;32m   1498\u001b[0m \u001b[39mif\u001b[39;00m \u001b[39mnot\u001b[39;00m (\u001b[39mself\u001b[39m\u001b[39m.\u001b[39m_backward_hooks \u001b[39mor\u001b[39;00m \u001b[39mself\u001b[39m\u001b[39m.\u001b[39m_backward_pre_hooks \u001b[39mor\u001b[39;00m \u001b[39mself\u001b[39m\u001b[39m.\u001b[39m_forward_hooks \u001b[39mor\u001b[39;00m \u001b[39mself\u001b[39m\u001b[39m.\u001b[39m_forward_pre_hooks\n\u001b[1;32m   1499\u001b[0m         \u001b[39mor\u001b[39;00m _global_backward_pre_hooks \u001b[39mor\u001b[39;00m _global_backward_hooks\n\u001b[1;32m   1500\u001b[0m         \u001b[39mor\u001b[39;00m _global_forward_hooks \u001b[39mor\u001b[39;00m _global_forward_pre_hooks):\n\u001b[0;32m-> 1501\u001b[0m     \u001b[39mreturn\u001b[39;00m forward_call(\u001b[39m*\u001b[39;49margs, \u001b[39m*\u001b[39;49m\u001b[39m*\u001b[39;49mkwargs)\n\u001b[1;32m   1502\u001b[0m \u001b[39m# Do not call functions when jit is used\u001b[39;00m\n\u001b[1;32m   1503\u001b[0m full_backward_hooks, non_full_backward_hooks \u001b[39m=\u001b[39m [], []\n",
      "File \u001b[0;32m~/venvs/DNABERT_2/lib/python3.10/site-packages/torch/nn/modules/linear.py:114\u001b[0m, in \u001b[0;36mLinear.forward\u001b[0;34m(self, input)\u001b[0m\n\u001b[1;32m    113\u001b[0m \u001b[39mdef\u001b[39;00m \u001b[39mforward\u001b[39m(\u001b[39mself\u001b[39m, \u001b[39minput\u001b[39m: Tensor) \u001b[39m-\u001b[39m\u001b[39m>\u001b[39m Tensor:\n\u001b[0;32m--> 114\u001b[0m     \u001b[39mreturn\u001b[39;00m F\u001b[39m.\u001b[39;49mlinear(\u001b[39minput\u001b[39;49m, \u001b[39mself\u001b[39;49m\u001b[39m.\u001b[39;49mweight, \u001b[39mself\u001b[39;49m\u001b[39m.\u001b[39;49mbias)\n",
      "\u001b[0;31mRuntimeError\u001b[0m: mat1 and mat2 must have the same dtype"
     ]
    }
   ],
   "source": [
    "# Training loop\n",
    "for epoch in range(num_epochs):\n",
    "    model.train()  # Set the model to training mode\n",
    "\n",
    "    # Forward pass\n",
    "    outputs = model(X_train)\n",
    "    loss = loss(outputs, y_train)\n",
    "\n",
    "    # Backpropagation and optimization\n",
    "    optimizer.zero_grad()  # Zero the gradients\n",
    "    loss.backward()  # Compute gradients\n",
    "    optimizer.step()  # Update weights\n",
    "\n",
    "    print(f'Epoch [{epoch+1}/{num_epochs}], Loss: {loss.item()}')\n",
    "\n",
    "print('Training finished')"
   ]
  },
  {
   "cell_type": "code",
   "execution_count": null,
   "id": "e091ba51",
   "metadata": {},
   "outputs": [],
   "source": []
  }
 ],
 "metadata": {
  "kernelspec": {
   "display_name": "Python 3 (ipykernel)",
   "language": "python",
   "name": "python3"
  },
  "language_info": {
   "codemirror_mode": {
    "name": "ipython",
    "version": 3
   },
   "file_extension": ".py",
   "mimetype": "text/x-python",
   "name": "python",
   "nbconvert_exporter": "python",
   "pygments_lexer": "ipython3",
   "version": "3.10.12"
  }
 },
 "nbformat": 4,
 "nbformat_minor": 5
}
