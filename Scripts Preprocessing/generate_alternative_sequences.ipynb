{
 "cells": [
  {
   "cell_type": "markdown",
   "metadata": {},
   "source": [
    "# Generate Alternative Sequences\n",
    "This notebook is intended to generate alternative sequences and explain the process along the way.\n",
    "\n",
    "The files that we are going to be using for now, principally to not load the whole data and overload the RAM and system are:\n",
    "* `homo_sapiens-chr21.vcf`\n",
    "* `GCA_000001405.28_GRCh38.p13_genomic.fna`\n",
    "\n",
    "These files are the somatic variations from the **Ensembl database build 110**, and the Reference Genome assembly **GRCh38.p14**"
   ]
  },
  {
   "cell_type": "code",
   "execution_count": 1,
   "metadata": {},
   "outputs": [],
   "source": [
    "# Import the necessary modules\n",
    "from Bio import SeqIO\n",
    "# To be able to modify sequences\n",
    "from Bio.Seq import MutableSeq, Seq\n",
    "# Import SeqRecord\n",
    "from Bio.SeqRecord import SeqRecord\n",
    "# To import the databases directly\n",
    "from database_io import load_db\n",
    "# Import pandas\n",
    "import pandas as pd\n",
    "# To parse the VCF files\n",
    "import vcf #PyVCF"
   ]
  },
  {
   "cell_type": "markdown",
   "metadata": {},
   "source": [
    "# Load the VCF file with the help of PyVCF"
   ]
  },
  {
   "cell_type": "code",
   "execution_count": 4,
   "metadata": {},
   "outputs": [],
   "source": [
    "data_path = \"/home/msr/Documents/Databases/Ensembl Variation/homo_sapiens-chr21.vcf\"\n",
    "vcf_reader = vcf.Reader(open(data_path, mode = \"r\"))"
   ]
  },
  {
   "cell_type": "code",
   "execution_count": null,
   "metadata": {},
   "outputs": [],
   "source": [
    "for record in vcf_reader:\n",
    "    print(record)"
   ]
  }
 ],
 "metadata": {
  "kernelspec": {
   "display_name": "DeepGAS",
   "language": "python",
   "name": "python3"
  },
  "language_info": {
   "codemirror_mode": {
    "name": "ipython",
    "version": 3
   },
   "file_extension": ".py",
   "mimetype": "text/x-python",
   "name": "python",
   "nbconvert_exporter": "python",
   "pygments_lexer": "ipython3",
   "version": "3.10.12"
  },
  "orig_nbformat": 4
 },
 "nbformat": 4,
 "nbformat_minor": 2
}
