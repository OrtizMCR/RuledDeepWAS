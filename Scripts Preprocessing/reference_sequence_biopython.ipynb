{
 "cells": [
  {
   "cell_type": "code",
   "execution_count": 1,
   "source": [
    "from Bio import SeqIO\n",
    "# To be able to modify sequences\n",
    "from Bio.Seq import MutableSeq\n",
    "# To import the databases directly\n",
    "from database_io import load_db"
   ],
   "outputs": [],
   "metadata": {}
  },
  {
   "cell_type": "code",
   "execution_count": 2,
   "source": [
    "databases_path = '/home/msr/Documents/Experimentos/Databases/'\n",
    "reference_genome_path = databases_path + 'GCA_000001405.28/GCA_000001405.28_GRCh38.p13_genomic.fna'\n",
    "reference_genome = SeqIO.index(reference_genome_path,\"fasta\")\n",
    "\n",
    "ensembl_db = load_db(databases_path+'Ensembl_database_ready.csv')"
   ],
   "outputs": [],
   "metadata": {}
  },
  {
   "cell_type": "code",
   "execution_count": 3,
   "source": [
    "chromosome_21_record = reference_genome[\"CM000683.2\"] # The key is the GenBank identifier\n",
    "chromosome_21_sequence = chromosome_21_record.seq\n",
    "# Convert it into a mutable sequence\n",
    "mutable_chromosome_21 = MutableSeq(chromosome_21_sequence)\n",
    "# Import the ensembl database through a personalized function and extract the chromosome 21 variants\n",
    "# In this line we import the database\n",
    "chromosome_21_variants = ensembl_db.loc[ensembl_db['seqid']=='21']\n",
    "# Consider that the loci counts start from 1 and Python starts counting from 0"
   ],
   "outputs": [],
   "metadata": {}
  },
  {
   "cell_type": "code",
   "execution_count": 4,
   "source": [
    "chromosome_21_snvs = chromosome_21_variants.loc[chromosome_21_variants['type']=='SNV']\n",
    "test = chromosome_21_snvs.iloc[1] # The first element (0) of the dataframe has two alleles"
   ],
   "outputs": [],
   "metadata": {}
  },
  {
   "cell_type": "code",
   "execution_count": 5,
   "source": [
    "print(test)"
   ],
   "outputs": [
    {
     "output_type": "stream",
     "name": "stdout",
     "text": [
      "seqid                                                                   21\n",
      "source                                                               dbSNP\n",
      "type                                                                   SNV\n",
      "start                                                             14144627\n",
      "end                                                               14144627\n",
      "attributes               ID=957930;clinical_significance=benign;Referen...\n",
      "ID                                                                  957930\n",
      "Variant_seq                                                              T\n",
      "Reference_seq                                                            C\n",
      "Dbxref                                                 dbSNP_154:rs2822432\n",
      "clinical_significance                                               benign\n",
      "Name: 676119, dtype: object\n"
     ]
    }
   ],
   "metadata": {}
  },
  {
   "cell_type": "code",
   "execution_count": 6,
   "source": [
    "ref_seq_test = mutable_chromosome_21"
   ],
   "outputs": [],
   "metadata": {}
  },
  {
   "cell_type": "code",
   "execution_count": 7,
   "source": [
    "test['start']"
   ],
   "outputs": [
    {
     "output_type": "execute_result",
     "data": {
      "text/plain": [
       "'14144627'"
      ]
     },
     "metadata": {},
     "execution_count": 7
    }
   ],
   "metadata": {}
  },
  {
   "cell_type": "code",
   "execution_count": 9,
   "source": [
    "ref_seq_test[int(test['start'])-6:int(test['start'])+5]"
   ],
   "outputs": [
    {
     "output_type": "execute_result",
     "data": {
      "text/plain": [
       "MutableSeq('cctTTCTGGGT')"
      ]
     },
     "metadata": {},
     "execution_count": 9
    }
   ],
   "metadata": {}
  },
  {
   "cell_type": "code",
   "execution_count": 10,
   "source": [
    "ref_subseq_test=ref_seq_test[int(test['start'])-6:int(test['start'])+5]"
   ],
   "outputs": [],
   "metadata": {}
  },
  {
   "cell_type": "code",
   "execution_count": 11,
   "source": [
    "ref_subseq_test"
   ],
   "outputs": [
    {
     "output_type": "execute_result",
     "data": {
      "text/plain": [
       "MutableSeq('cctTTCTGGGT')"
      ]
     },
     "metadata": {},
     "execution_count": 11
    }
   ],
   "metadata": {}
  },
  {
   "cell_type": "code",
   "execution_count": 12,
   "source": [
    "ref_subseq_test[0]"
   ],
   "outputs": [
    {
     "output_type": "execute_result",
     "data": {
      "text/plain": [
       "'c'"
      ]
     },
     "metadata": {},
     "execution_count": 12
    }
   ],
   "metadata": {}
  },
  {
   "cell_type": "code",
   "execution_count": 13,
   "source": [
    "print(test)"
   ],
   "outputs": [
    {
     "output_type": "stream",
     "name": "stdout",
     "text": [
      "seqid                                                                   21\n",
      "source                                                               dbSNP\n",
      "type                                                                   SNV\n",
      "start                                                             14144627\n",
      "end                                                               14144627\n",
      "attributes               ID=957930;clinical_significance=benign;Referen...\n",
      "ID                                                                  957930\n",
      "Variant_seq                                                              T\n",
      "Reference_seq                                                            C\n",
      "Dbxref                                                 dbSNP_154:rs2822432\n",
      "clinical_significance                                               benign\n",
      "Name: 676119, dtype: object\n"
     ]
    }
   ],
   "metadata": {}
  },
  {
   "cell_type": "code",
   "execution_count": 15,
   "source": [
    "ref_subseq_test"
   ],
   "outputs": [
    {
     "output_type": "execute_result",
     "data": {
      "text/plain": [
       "MutableSeq('cctTTCTGGGT')"
      ]
     },
     "metadata": {},
     "execution_count": 15
    }
   ],
   "metadata": {}
  },
  {
   "cell_type": "code",
   "execution_count": 18,
   "source": [
    "ref_seq_test[14144626]"
   ],
   "outputs": [
    {
     "output_type": "execute_result",
     "data": {
      "text/plain": [
       "'C'"
      ]
     },
     "metadata": {},
     "execution_count": 18
    }
   ],
   "metadata": {}
  },
  {
   "cell_type": "code",
   "execution_count": 19,
   "source": [
    "muted_seq = ref_seq_test"
   ],
   "outputs": [],
   "metadata": {}
  },
  {
   "cell_type": "code",
   "execution_count": 20,
   "source": [
    "muted_seq==ref_seq_test"
   ],
   "outputs": [
    {
     "output_type": "execute_result",
     "data": {
      "text/plain": [
       "True"
      ]
     },
     "metadata": {},
     "execution_count": 20
    }
   ],
   "metadata": {}
  },
  {
   "cell_type": "code",
   "execution_count": 21,
   "source": [
    "muted_seq[14144626]=test['Variant_seq']"
   ],
   "outputs": [],
   "metadata": {}
  },
  {
   "cell_type": "code",
   "execution_count": 22,
   "source": [
    "muted_subseq = muted_seq[14144621:14144632]"
   ],
   "outputs": [],
   "metadata": {}
  },
  {
   "cell_type": "code",
   "execution_count": 23,
   "source": [
    "muted_subseq"
   ],
   "outputs": [
    {
     "output_type": "execute_result",
     "data": {
      "text/plain": [
       "MutableSeq('cctTTTTGGGT')"
      ]
     },
     "metadata": {},
     "execution_count": 23
    }
   ],
   "metadata": {}
  },
  {
   "cell_type": "code",
   "execution_count": 24,
   "source": [
    "muted_seq==ref_seq_test"
   ],
   "outputs": [
    {
     "output_type": "execute_result",
     "data": {
      "text/plain": [
       "True"
      ]
     },
     "metadata": {},
     "execution_count": 24
    }
   ],
   "metadata": {}
  },
  {
   "cell_type": "code",
   "execution_count": 25,
   "source": [
    "type(muted_seq)"
   ],
   "outputs": [
    {
     "output_type": "execute_result",
     "data": {
      "text/plain": [
       "Bio.Seq.MutableSeq"
      ]
     },
     "metadata": {},
     "execution_count": 25
    }
   ],
   "metadata": {}
  },
  {
   "cell_type": "code",
   "execution_count": 26,
   "source": [
    "str(muted_seq)==str(ref_seq_test)"
   ],
   "outputs": [
    {
     "output_type": "execute_result",
     "data": {
      "text/plain": [
       "True"
      ]
     },
     "metadata": {},
     "execution_count": 26
    }
   ],
   "metadata": {}
  },
  {
   "cell_type": "code",
   "execution_count": 27,
   "source": [
    "ref_subseq_test==muted_subseq"
   ],
   "outputs": [
    {
     "output_type": "execute_result",
     "data": {
      "text/plain": [
       "False"
      ]
     },
     "metadata": {},
     "execution_count": 27
    }
   ],
   "metadata": {}
  },
  {
   "cell_type": "code",
   "execution_count": 28,
   "source": [
    "print(ref_subseq_test+'\\n'+muted_subseq)"
   ],
   "outputs": [
    {
     "output_type": "stream",
     "name": "stdout",
     "text": [
      "cctTTCTGGGT\n",
      "cctTTTTGGGT\n"
     ]
    }
   ],
   "metadata": {}
  }
 ],
 "nbformat": 4,
 "nbformat_minor": 2,
 "metadata": {
  "language_info": {
   "codemirror_mode": {
    "name": "ipython",
    "version": 3
   },
   "file_extension": ".py",
   "mimetype": "text/x-python",
   "name": "python",
   "nbconvert_exporter": "python",
   "pygments_lexer": "ipython3",
   "version": 3
  },
  "orig_nbformat": 4
 }
}