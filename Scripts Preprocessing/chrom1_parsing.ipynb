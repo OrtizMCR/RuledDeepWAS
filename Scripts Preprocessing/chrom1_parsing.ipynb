{
 "cells": [
  {
   "cell_type": "markdown",
   "id": "34a730d3-ff25-42b3-a938-e0d56b547404",
   "metadata": {},
   "source": [
    "# Parse chromosome 1 VCF file\n",
    "\n",
    "FAILED!! \n",
    "I will try with bigger chromsomes than the 21."
   ]
  },
  {
   "cell_type": "code",
   "execution_count": 3,
   "id": "16efa20b-fac1-46ea-90ff-a5945c9cd2b0",
   "metadata": {},
   "outputs": [],
   "source": [
    "# Import libraries\n",
    "from Bio import SeqIO\n",
    "# To be able to modify sequences\n",
    "from Bio.Seq import MutableSeq, Seq\n",
    "# Import SeqRecord\n",
    "from Bio.SeqRecord import SeqRecord\n",
    "# To import the databases directly\n",
    "from database_io import load_db\n",
    "# Import pandas\n",
    "import pandas as pd\n",
    "# To parse the VCF files\n",
    "import vcf #PyVCF\n",
    "# Import numpy\n",
    "import numpy as np"
   ]
  },
  {
   "cell_type": "code",
   "execution_count": 4,
   "id": "cbaca0a6-1f6f-49d3-99fa-0cb4fac85c73",
   "metadata": {},
   "outputs": [],
   "source": [
    "# Load paths were the data is stored\n",
    "ensembl_var_path = \"/mnt/sda1/Databases/Ensembl/Variation/110/VCF/homo_sapiens-chr8.vcf\"\n",
    "ensembl_grch38_path = \"/mnt/sda1/Databases/Reference Genome/GRCh38p14/Ensembl/Homo_sapiens.GRCh38.dna.primary_assembly.fa\""
   ]
  },
  {
   "cell_type": "code",
   "execution_count": 5,
   "id": "76fde239-0aac-42a3-b37d-f5a647fa6255",
   "metadata": {},
   "outputs": [],
   "source": [
    "# Declare vcf reader\n",
    "vcf_reader = vcf.Reader(open(ensembl_var_path, mode = \"r\"))"
   ]
  },
  {
   "cell_type": "code",
   "execution_count": 6,
   "id": "1f425163-397a-47c7-b7a3-961792ed0042",
   "metadata": {},
   "outputs": [],
   "source": [
    "# Create a list where the records stored in the vcf file are contained\n",
    "records = []\n",
    "# Save the records in the list\n",
    "for record in vcf_reader:\n",
    "    records.append(record)"
   ]
  },
  {
   "cell_type": "code",
   "execution_count": 7,
   "id": "fd38abf6-4285-40da-bef6-068a385268f9",
   "metadata": {},
   "outputs": [
    {
     "data": {
      "text/plain": [
       "36818232"
      ]
     },
     "execution_count": 7,
     "metadata": {},
     "output_type": "execute_result"
    }
   ],
   "source": [
    "len(records)"
   ]
  },
  {
   "cell_type": "code",
   "execution_count": 15,
   "id": "b0d1ff21-3b24-4acf-b9b0-5851b276d047",
   "metadata": {},
   "outputs": [
    {
     "name": "stdout",
     "output_type": "stream",
     "text": [
      "{'dbSNP_154': True, 'TSA': 'SNV', 'E_Freq': True}\n"
     ]
    }
   ],
   "source": [
    "print(records[0].INFO)"
   ]
  }
 ],
 "metadata": {
  "kernelspec": {
   "display_name": "Python 3 (ipykernel)",
   "language": "python",
   "name": "python3"
  },
  "language_info": {
   "codemirror_mode": {
    "name": "ipython",
    "version": 3
   },
   "file_extension": ".py",
   "mimetype": "text/x-python",
   "name": "python",
   "nbconvert_exporter": "python",
   "pygments_lexer": "ipython3",
   "version": "3.10.12"
  }
 },
 "nbformat": 4,
 "nbformat_minor": 5
}
