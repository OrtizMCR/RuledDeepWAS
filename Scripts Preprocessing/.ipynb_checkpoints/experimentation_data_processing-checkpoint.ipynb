{
 "cells": [
  {
   "cell_type": "markdown",
   "metadata": {},
   "source": [
    "# Data processing \n",
    "\n",
    "After extracting the relevant information from the VCF files with help of `bcftools`. We are going to process the data and produce the alternate sequences with the help of `samtools`.\n",
    "On the pre-processed data we have the following information about each variant (from Ensembl Variation build 110).\n",
    "* Number of chromosome\n",
    "* Position of variant\n",
    "* Reference Allele\n",
    "* Alternate Allele\n",
    "\n",
    "Some of the following code snippets were retrieved from the [DeepPerVar repository](https://github.com/alfredyewang/DeepPerVar), with the objective of mimic the way they produced their alternate sequences."
   ]
  },
  {
   "cell_type": "code",
   "execution_count": 30,
   "metadata": {},
   "outputs": [],
   "source": [
    "# Import libraries\n",
    "import numpy as np\n",
    "from Bio import SeqIO\n",
    "from Bio.Seq import MutableSeq, Seq\n",
    "import pandas as pd\n",
    "import subprocess"
   ]
  },
  {
   "cell_type": "code",
   "execution_count": 2,
   "metadata": {},
   "outputs": [
    {
     "data": {
      "text/html": [
       "<div>\n",
       "<style scoped>\n",
       "    .dataframe tbody tr th:only-of-type {\n",
       "        vertical-align: middle;\n",
       "    }\n",
       "\n",
       "    .dataframe tbody tr th {\n",
       "        vertical-align: top;\n",
       "    }\n",
       "\n",
       "    .dataframe thead th {\n",
       "        text-align: right;\n",
       "    }\n",
       "</style>\n",
       "<table border=\"1\" class=\"dataframe\">\n",
       "  <thead>\n",
       "    <tr style=\"text-align: right;\">\n",
       "      <th></th>\n",
       "      <th>chr</th>\n",
       "      <th>pos</th>\n",
       "      <th>ref</th>\n",
       "      <th>alt</th>\n",
       "      <th>tsa</th>\n",
       "      <th>id</th>\n",
       "    </tr>\n",
       "  </thead>\n",
       "  <tbody>\n",
       "    <tr>\n",
       "      <th>0</th>\n",
       "      <td>21</td>\n",
       "      <td>5030088</td>\n",
       "      <td>C</td>\n",
       "      <td>T</td>\n",
       "      <td>SNV</td>\n",
       "      <td>rs1455320509</td>\n",
       "    </tr>\n",
       "    <tr>\n",
       "      <th>1</th>\n",
       "      <td>21</td>\n",
       "      <td>5030105</td>\n",
       "      <td>C</td>\n",
       "      <td>A</td>\n",
       "      <td>SNV</td>\n",
       "      <td>rs1173141359</td>\n",
       "    </tr>\n",
       "    <tr>\n",
       "      <th>2</th>\n",
       "      <td>21</td>\n",
       "      <td>5030151</td>\n",
       "      <td>T</td>\n",
       "      <td>G</td>\n",
       "      <td>SNV</td>\n",
       "      <td>rs1601770018</td>\n",
       "    </tr>\n",
       "    <tr>\n",
       "      <th>3</th>\n",
       "      <td>21</td>\n",
       "      <td>5030154</td>\n",
       "      <td>T</td>\n",
       "      <td>C</td>\n",
       "      <td>SNV</td>\n",
       "      <td>rs1461284410</td>\n",
       "    </tr>\n",
       "    <tr>\n",
       "      <th>4</th>\n",
       "      <td>21</td>\n",
       "      <td>5030160</td>\n",
       "      <td>T</td>\n",
       "      <td>A</td>\n",
       "      <td>SNV</td>\n",
       "      <td>rs1601770028</td>\n",
       "    </tr>\n",
       "  </tbody>\n",
       "</table>\n",
       "</div>"
      ],
      "text/plain": [
       "   chr      pos ref alt  tsa            id\n",
       "0   21  5030088   C   T  SNV  rs1455320509\n",
       "1   21  5030105   C   A  SNV  rs1173141359\n",
       "2   21  5030151   T   G  SNV  rs1601770018\n",
       "3   21  5030154   T   C  SNV  rs1461284410\n",
       "4   21  5030160   T   A  SNV  rs1601770028"
      ]
     },
     "execution_count": 2,
     "metadata": {},
     "output_type": "execute_result"
    }
   ],
   "source": [
    "# Chromosome data path\n",
    "chr_data_path = \"/mnt/sda1/Databases/Ensembl/Variation/110/chromosomes_data/\"\n",
    "res_folder = \"/mnt/sda1/Databases/Ensembl/Variation/110/chromosomes_data/res/\"\n",
    "chr_21_data = pd.read_csv(chr_data_path+'chr21_data.tsv', sep = '\\t')\n",
    "chr_21_data.rename(columns={'#[1]CHROM':'chr', '[2]POS':'pos', '[3]REF':'ref', '[4]ALT':'alt', '[5]TSA':'tsa', '[6]ID':'id'}, inplace=True)\n",
    "chr_21_data.head()"
   ]
  },
  {
   "cell_type": "code",
   "execution_count": 3,
   "metadata": {},
   "outputs": [
    {
     "name": "stdout",
     "output_type": "stream",
     "text": [
      "(9243118, 6) Index(['chr', 'pos', 'ref', 'alt', 'tsa', 'id'], dtype='object')\n"
     ]
    }
   ],
   "source": [
    "print(chr_21_data.shape, chr_21_data.columns)"
   ]
  },
  {
   "cell_type": "markdown",
   "metadata": {},
   "source": [
    "# SNVs\n",
    "We are going to start with the SNVs, as they are the simplest form on variation."
   ]
  },
  {
   "cell_type": "code",
   "execution_count": 4,
   "metadata": {},
   "outputs": [
    {
     "data": {
      "text/html": [
       "<div>\n",
       "<style scoped>\n",
       "    .dataframe tbody tr th:only-of-type {\n",
       "        vertical-align: middle;\n",
       "    }\n",
       "\n",
       "    .dataframe tbody tr th {\n",
       "        vertical-align: top;\n",
       "    }\n",
       "\n",
       "    .dataframe thead th {\n",
       "        text-align: right;\n",
       "    }\n",
       "</style>\n",
       "<table border=\"1\" class=\"dataframe\">\n",
       "  <thead>\n",
       "    <tr style=\"text-align: right;\">\n",
       "      <th></th>\n",
       "      <th>chr</th>\n",
       "      <th>pos</th>\n",
       "      <th>ref</th>\n",
       "      <th>alt</th>\n",
       "      <th>tsa</th>\n",
       "      <th>id</th>\n",
       "    </tr>\n",
       "  </thead>\n",
       "  <tbody>\n",
       "    <tr>\n",
       "      <th>0</th>\n",
       "      <td>21</td>\n",
       "      <td>5030088</td>\n",
       "      <td>C</td>\n",
       "      <td>T</td>\n",
       "      <td>SNV</td>\n",
       "      <td>rs1455320509</td>\n",
       "    </tr>\n",
       "    <tr>\n",
       "      <th>1</th>\n",
       "      <td>21</td>\n",
       "      <td>5030105</td>\n",
       "      <td>C</td>\n",
       "      <td>A</td>\n",
       "      <td>SNV</td>\n",
       "      <td>rs1173141359</td>\n",
       "    </tr>\n",
       "    <tr>\n",
       "      <th>2</th>\n",
       "      <td>21</td>\n",
       "      <td>5030151</td>\n",
       "      <td>T</td>\n",
       "      <td>G</td>\n",
       "      <td>SNV</td>\n",
       "      <td>rs1601770018</td>\n",
       "    </tr>\n",
       "    <tr>\n",
       "      <th>3</th>\n",
       "      <td>21</td>\n",
       "      <td>5030154</td>\n",
       "      <td>T</td>\n",
       "      <td>C</td>\n",
       "      <td>SNV</td>\n",
       "      <td>rs1461284410</td>\n",
       "    </tr>\n",
       "    <tr>\n",
       "      <th>4</th>\n",
       "      <td>21</td>\n",
       "      <td>5030160</td>\n",
       "      <td>T</td>\n",
       "      <td>A</td>\n",
       "      <td>SNV</td>\n",
       "      <td>rs1601770028</td>\n",
       "    </tr>\n",
       "  </tbody>\n",
       "</table>\n",
       "</div>"
      ],
      "text/plain": [
       "   chr      pos ref alt  tsa            id\n",
       "0   21  5030088   C   T  SNV  rs1455320509\n",
       "1   21  5030105   C   A  SNV  rs1173141359\n",
       "2   21  5030151   T   G  SNV  rs1601770018\n",
       "3   21  5030154   T   C  SNV  rs1461284410\n",
       "4   21  5030160   T   A  SNV  rs1601770028"
      ]
     },
     "execution_count": 4,
     "metadata": {},
     "output_type": "execute_result"
    }
   ],
   "source": [
    "# We filter the variants that are snps and that have only one alternate allele\n",
    "chr_21_snps = chr_21_data.loc[(chr_21_data['tsa']=='SNV') & (chr_21_data['alt'].str.len() == 1)]\n",
    "chr_21_snps.head()"
   ]
  },
  {
   "cell_type": "code",
   "execution_count": 5,
   "metadata": {},
   "outputs": [
    {
     "name": "stdout",
     "output_type": "stream",
     "text": [
      "(7542415, 6) , 5030088\n"
     ]
    }
   ],
   "source": [
    "print(chr_21_snps.shape,',',min(chr_21_snps['pos']))"
   ]
  },
  {
   "cell_type": "markdown",
   "metadata": {},
   "source": [
    "## Generate sequences in FASTA format with samtools"
   ]
  },
  {
   "cell_type": "code",
   "execution_count": 25,
   "metadata": {},
   "outputs": [
    {
     "name": "stderr",
     "output_type": "stream",
     "text": [
      "/tmp/ipykernel_12151/1680742311.py:1: SettingWithCopyWarning: \n",
      "A value is trying to be set on a copy of a slice from a DataFrame.\n",
      "Try using .loc[row_indexer,col_indexer] = value instead\n",
      "\n",
      "See the caveats in the documentation: https://pandas.pydata.org/pandas-docs/stable/user_guide/indexing.html#returning-a-view-versus-a-copy\n",
      "  chr_21_snps['start'] = chr_21_snps['pos'].astype(int) - 64\n",
      "/tmp/ipykernel_12151/1680742311.py:2: SettingWithCopyWarning: \n",
      "A value is trying to be set on a copy of a slice from a DataFrame.\n",
      "Try using .loc[row_indexer,col_indexer] = value instead\n",
      "\n",
      "See the caveats in the documentation: https://pandas.pydata.org/pandas-docs/stable/user_guide/indexing.html#returning-a-view-versus-a-copy\n",
      "  chr_21_snps['end'] = chr_21_snps['pos'].astype(int) + 63\n",
      "/tmp/ipykernel_12151/1680742311.py:3: SettingWithCopyWarning: \n",
      "A value is trying to be set on a copy of a slice from a DataFrame.\n",
      "Try using .loc[row_indexer,col_indexer] = value instead\n",
      "\n",
      "See the caveats in the documentation: https://pandas.pydata.org/pandas-docs/stable/user_guide/indexing.html#returning-a-view-versus-a-copy\n",
      "  chr_21_snps['bed'] = chr_21_snps['chr'].astype(str) + ':' + chr_21_snps['start'].astype(str) + '-' + chr_21_snps['end'].astype(str)\n"
     ]
    },
    {
     "data": {
      "text/html": [
       "<div>\n",
       "<style scoped>\n",
       "    .dataframe tbody tr th:only-of-type {\n",
       "        vertical-align: middle;\n",
       "    }\n",
       "\n",
       "    .dataframe tbody tr th {\n",
       "        vertical-align: top;\n",
       "    }\n",
       "\n",
       "    .dataframe thead th {\n",
       "        text-align: right;\n",
       "    }\n",
       "</style>\n",
       "<table border=\"1\" class=\"dataframe\">\n",
       "  <thead>\n",
       "    <tr style=\"text-align: right;\">\n",
       "      <th></th>\n",
       "      <th>chr</th>\n",
       "      <th>pos</th>\n",
       "      <th>ref</th>\n",
       "      <th>alt</th>\n",
       "      <th>tsa</th>\n",
       "      <th>id</th>\n",
       "      <th>start</th>\n",
       "      <th>end</th>\n",
       "      <th>bed</th>\n",
       "    </tr>\n",
       "  </thead>\n",
       "  <tbody>\n",
       "    <tr>\n",
       "      <th>0</th>\n",
       "      <td>21</td>\n",
       "      <td>5030088</td>\n",
       "      <td>C</td>\n",
       "      <td>T</td>\n",
       "      <td>SNV</td>\n",
       "      <td>rs1455320509</td>\n",
       "      <td>5030024</td>\n",
       "      <td>5030151</td>\n",
       "      <td>21:5030024-5030151</td>\n",
       "    </tr>\n",
       "    <tr>\n",
       "      <th>1</th>\n",
       "      <td>21</td>\n",
       "      <td>5030105</td>\n",
       "      <td>C</td>\n",
       "      <td>A</td>\n",
       "      <td>SNV</td>\n",
       "      <td>rs1173141359</td>\n",
       "      <td>5030041</td>\n",
       "      <td>5030168</td>\n",
       "      <td>21:5030041-5030168</td>\n",
       "    </tr>\n",
       "    <tr>\n",
       "      <th>2</th>\n",
       "      <td>21</td>\n",
       "      <td>5030151</td>\n",
       "      <td>T</td>\n",
       "      <td>G</td>\n",
       "      <td>SNV</td>\n",
       "      <td>rs1601770018</td>\n",
       "      <td>5030087</td>\n",
       "      <td>5030214</td>\n",
       "      <td>21:5030087-5030214</td>\n",
       "    </tr>\n",
       "    <tr>\n",
       "      <th>3</th>\n",
       "      <td>21</td>\n",
       "      <td>5030154</td>\n",
       "      <td>T</td>\n",
       "      <td>C</td>\n",
       "      <td>SNV</td>\n",
       "      <td>rs1461284410</td>\n",
       "      <td>5030090</td>\n",
       "      <td>5030217</td>\n",
       "      <td>21:5030090-5030217</td>\n",
       "    </tr>\n",
       "    <tr>\n",
       "      <th>4</th>\n",
       "      <td>21</td>\n",
       "      <td>5030160</td>\n",
       "      <td>T</td>\n",
       "      <td>A</td>\n",
       "      <td>SNV</td>\n",
       "      <td>rs1601770028</td>\n",
       "      <td>5030096</td>\n",
       "      <td>5030223</td>\n",
       "      <td>21:5030096-5030223</td>\n",
       "    </tr>\n",
       "  </tbody>\n",
       "</table>\n",
       "</div>"
      ],
      "text/plain": [
       "   chr      pos ref alt  tsa            id    start      end  \\\n",
       "0   21  5030088   C   T  SNV  rs1455320509  5030024  5030151   \n",
       "1   21  5030105   C   A  SNV  rs1173141359  5030041  5030168   \n",
       "2   21  5030151   T   G  SNV  rs1601770018  5030087  5030214   \n",
       "3   21  5030154   T   C  SNV  rs1461284410  5030090  5030217   \n",
       "4   21  5030160   T   A  SNV  rs1601770028  5030096  5030223   \n",
       "\n",
       "                  bed  \n",
       "0  21:5030024-5030151  \n",
       "1  21:5030041-5030168  \n",
       "2  21:5030087-5030214  \n",
       "3  21:5030090-5030217  \n",
       "4  21:5030096-5030223  "
      ]
     },
     "execution_count": 25,
     "metadata": {},
     "output_type": "execute_result"
    }
   ],
   "source": [
    "chr_21_snps['start'] = chr_21_snps['pos'].astype(int) - 64\n",
    "chr_21_snps['end'] = chr_21_snps['pos'].astype(int) + 63\n",
    "chr_21_snps['bed'] = chr_21_snps['chr'].astype(str) + ':' + chr_21_snps['start'].astype(str) + '-' + chr_21_snps['end'].astype(str)\n",
    "chr_21_snps['bed'].to_csv('{}/bed_chr21'.format(res_folder), sep='\\t', index=False, header=False)\n",
    "chr_21_snps.head()"
   ]
  },
  {
   "cell_type": "code",
   "execution_count": 14,
   "metadata": {},
   "outputs": [
    {
     "name": "stderr",
     "output_type": "stream",
     "text": [
      "/bin/sh: 1: samtools: not found\n"
     ]
    }
   ],
   "source": [
    "# This code has to be run directly in the terminal after adding the samtools path to the PATH variable\n",
    "exit_code = subprocess.Popen(\"samtools faidx /mnt/sda1/Databases/Reference Genome/GRCh38p14/Ensembl/Homo_sapiens_GRCh38_dna_primary_assembly.fa -r {}/bed_chr21 -o {}/seq_vcf_chr21\".format(\n",
    "    res_folder, res_folder), shell=True, stdout=subprocess.PIPE).stdout.read()"
   ]
  },
  {
   "cell_type": "markdown",
   "metadata": {},
   "source": [
    "## Generate alternate sequences\n",
    "With the produced sequences in FASTA format, we are going to modify them by including the variants information that we have.\n",
    "Remember that we produced sequences that have 64 bases before and after the variant position. Therefore, the variant will be located in the **index 63** of each sequence."
   ]
  },
  {
   "cell_type": "code",
   "execution_count": 6,
   "metadata": {},
   "outputs": [],
   "source": [
    "fasta_seq_path = \"/mnt/sda1/Databases/Ensembl/Variation/110/chromosomes_data/res/\""
   ]
  },
  {
   "cell_type": "code",
   "execution_count": 10,
   "metadata": {},
   "outputs": [],
   "source": [
    "records = list(SeqIO.parse(fasta_seq_path+'seq_vcf_chr21', \"fasta\"))"
   ]
  },
  {
   "cell_type": "code",
   "execution_count": 22,
   "metadata": {},
   "outputs": [
    {
     "name": "stdout",
     "output_type": "stream",
     "text": [
      "A A\n"
     ]
    }
   ],
   "source": [
    "print(records[1].seq[65], chr_21_snps['alt'][1])"
   ]
  },
  {
   "cell_type": "code",
   "execution_count": 26,
   "metadata": {},
   "outputs": [],
   "source": [
    "ref_seqs = [sequence[1].seq for sequence in enumerate(records)]"
   ]
  },
  {
   "cell_type": "code",
   "execution_count": 33,
   "metadata": {},
   "outputs": [
    {
     "data": {
      "text/plain": [
       "'T'"
      ]
     },
     "execution_count": 33,
     "metadata": {},
     "output_type": "execute_result"
    }
   ],
   "source": [
    "chr_21_snps['alt'][0]"
   ]
  },
  {
   "cell_type": "code",
   "execution_count": 34,
   "metadata": {},
   "outputs": [
    {
     "ename": "KeyError",
     "evalue": "9",
     "output_type": "error",
     "traceback": [
      "\u001b[0;31m---------------------------------------------------------------------------\u001b[0m",
      "\u001b[0;31mKeyError\u001b[0m                                  Traceback (most recent call last)",
      "File \u001b[0;32m~/venvs/RuledDeepWAS/lib/python3.10/site-packages/pandas/core/indexes/base.py:3652\u001b[0m, in \u001b[0;36mIndex.get_loc\u001b[0;34m(self, key)\u001b[0m\n\u001b[1;32m   3651\u001b[0m \u001b[39mtry\u001b[39;00m:\n\u001b[0;32m-> 3652\u001b[0m     \u001b[39mreturn\u001b[39;00m \u001b[39mself\u001b[39;49m\u001b[39m.\u001b[39;49m_engine\u001b[39m.\u001b[39;49mget_loc(casted_key)\n\u001b[1;32m   3653\u001b[0m \u001b[39mexcept\u001b[39;00m \u001b[39mKeyError\u001b[39;00m \u001b[39mas\u001b[39;00m err:\n",
      "File \u001b[0;32m~/venvs/RuledDeepWAS/lib/python3.10/site-packages/pandas/_libs/index.pyx:147\u001b[0m, in \u001b[0;36mpandas._libs.index.IndexEngine.get_loc\u001b[0;34m()\u001b[0m\n",
      "File \u001b[0;32m~/venvs/RuledDeepWAS/lib/python3.10/site-packages/pandas/_libs/index.pyx:166\u001b[0m, in \u001b[0;36mpandas._libs.index.IndexEngine.get_loc\u001b[0;34m()\u001b[0m\n",
      "\u001b[0;31mKeyError\u001b[0m: 9",
      "\nThe above exception was the direct cause of the following exception:\n",
      "\u001b[0;31mKeyError\u001b[0m                                  Traceback (most recent call last)",
      "Cell \u001b[0;32mIn[34], line 5\u001b[0m\n\u001b[1;32m      3\u001b[0m \u001b[39mfor\u001b[39;00m i, sequence \u001b[39min\u001b[39;00m \u001b[39menumerate\u001b[39m(ref_seqs):\n\u001b[1;32m      4\u001b[0m     tmp_seq \u001b[39m=\u001b[39m MutableSeq(sequence)\n\u001b[0;32m----> 5\u001b[0m     tmp_seq[\u001b[39m65\u001b[39m] \u001b[39m=\u001b[39m chr_21_snps[\u001b[39m'\u001b[39;49m\u001b[39malt\u001b[39;49m\u001b[39m'\u001b[39;49m][i]\n\u001b[1;32m      6\u001b[0m     alt_seqs\u001b[39m.\u001b[39mappend(Seq(tmp_seq))\n\u001b[1;32m      7\u001b[0m     rs_ids\u001b[39m.\u001b[39mappend(chr_21_snps[\u001b[39m'\u001b[39m\u001b[39mid\u001b[39m\u001b[39m'\u001b[39m][i])\n",
      "File \u001b[0;32m~/venvs/RuledDeepWAS/lib/python3.10/site-packages/pandas/core/series.py:1007\u001b[0m, in \u001b[0;36mSeries.__getitem__\u001b[0;34m(self, key)\u001b[0m\n\u001b[1;32m   1004\u001b[0m     \u001b[39mreturn\u001b[39;00m \u001b[39mself\u001b[39m\u001b[39m.\u001b[39m_values[key]\n\u001b[1;32m   1006\u001b[0m \u001b[39melif\u001b[39;00m key_is_scalar:\n\u001b[0;32m-> 1007\u001b[0m     \u001b[39mreturn\u001b[39;00m \u001b[39mself\u001b[39;49m\u001b[39m.\u001b[39;49m_get_value(key)\n\u001b[1;32m   1009\u001b[0m \u001b[39mif\u001b[39;00m is_hashable(key):\n\u001b[1;32m   1010\u001b[0m     \u001b[39m# Otherwise index.get_value will raise InvalidIndexError\u001b[39;00m\n\u001b[1;32m   1011\u001b[0m     \u001b[39mtry\u001b[39;00m:\n\u001b[1;32m   1012\u001b[0m         \u001b[39m# For labels that don't resolve as scalars like tuples and frozensets\u001b[39;00m\n",
      "File \u001b[0;32m~/venvs/RuledDeepWAS/lib/python3.10/site-packages/pandas/core/series.py:1116\u001b[0m, in \u001b[0;36mSeries._get_value\u001b[0;34m(self, label, takeable)\u001b[0m\n\u001b[1;32m   1113\u001b[0m     \u001b[39mreturn\u001b[39;00m \u001b[39mself\u001b[39m\u001b[39m.\u001b[39m_values[label]\n\u001b[1;32m   1115\u001b[0m \u001b[39m# Similar to Index.get_value, but we do not fall back to positional\u001b[39;00m\n\u001b[0;32m-> 1116\u001b[0m loc \u001b[39m=\u001b[39m \u001b[39mself\u001b[39;49m\u001b[39m.\u001b[39;49mindex\u001b[39m.\u001b[39;49mget_loc(label)\n\u001b[1;32m   1118\u001b[0m \u001b[39mif\u001b[39;00m is_integer(loc):\n\u001b[1;32m   1119\u001b[0m     \u001b[39mreturn\u001b[39;00m \u001b[39mself\u001b[39m\u001b[39m.\u001b[39m_values[loc]\n",
      "File \u001b[0;32m~/venvs/RuledDeepWAS/lib/python3.10/site-packages/pandas/core/indexes/base.py:3654\u001b[0m, in \u001b[0;36mIndex.get_loc\u001b[0;34m(self, key)\u001b[0m\n\u001b[1;32m   3652\u001b[0m     \u001b[39mreturn\u001b[39;00m \u001b[39mself\u001b[39m\u001b[39m.\u001b[39m_engine\u001b[39m.\u001b[39mget_loc(casted_key)\n\u001b[1;32m   3653\u001b[0m \u001b[39mexcept\u001b[39;00m \u001b[39mKeyError\u001b[39;00m \u001b[39mas\u001b[39;00m err:\n\u001b[0;32m-> 3654\u001b[0m     \u001b[39mraise\u001b[39;00m \u001b[39mKeyError\u001b[39;00m(key) \u001b[39mfrom\u001b[39;00m \u001b[39merr\u001b[39;00m\n\u001b[1;32m   3655\u001b[0m \u001b[39mexcept\u001b[39;00m \u001b[39mTypeError\u001b[39;00m:\n\u001b[1;32m   3656\u001b[0m     \u001b[39m# If we have a listlike key, _check_indexing_error will raise\u001b[39;00m\n\u001b[1;32m   3657\u001b[0m     \u001b[39m#  InvalidIndexError. Otherwise we fall through and re-raise\u001b[39;00m\n\u001b[1;32m   3658\u001b[0m     \u001b[39m#  the TypeError.\u001b[39;00m\n\u001b[1;32m   3659\u001b[0m     \u001b[39mself\u001b[39m\u001b[39m.\u001b[39m_check_indexing_error(key)\n",
      "\u001b[0;31mKeyError\u001b[0m: 9"
     ]
    }
   ],
   "source": [
    "alt_seqs = []\n",
    "rs_ids = []\n",
    "for i, sequence in enumerate(ref_seqs):\n",
    "    tmp_seq = MutableSeq(sequence)\n",
    "    tmp_seq[65] = chr_21_snps['alt'][i]\n",
    "    alt_seqs.append(Seq(tmp_seq))\n",
    "    rs_ids.append(chr_21_snps['id'][i])"
   ]
  },
  {
   "cell_type": "code",
   "execution_count": 8,
   "metadata": {},
   "outputs": [],
   "source": [
    "with open(fasta_seq_path+\"seq_vcf_chr21\", \"r\") as fasta_file:\n",
    "    fasta_sequences = SeqIO.parse(fasta_file, format = \"fasta\")"
   ]
  },
  {
   "cell_type": "code",
   "execution_count": 9,
   "metadata": {},
   "outputs": [
    {
     "ename": "TypeError",
     "evalue": "'FastaIterator' object is not subscriptable",
     "output_type": "error",
     "traceback": [
      "\u001b[0;31m---------------------------------------------------------------------------\u001b[0m",
      "\u001b[0;31mTypeError\u001b[0m                                 Traceback (most recent call last)",
      "Cell \u001b[0;32mIn[9], line 1\u001b[0m\n\u001b[0;32m----> 1\u001b[0m fasta_sequences[\u001b[39m0\u001b[39;49m]\n",
      "\u001b[0;31mTypeError\u001b[0m: 'FastaIterator' object is not subscriptable"
     ]
    }
   ],
   "source": [
    "fasta_sequences[0]"
   ]
  },
  {
   "cell_type": "code",
   "execution_count": 27,
   "metadata": {},
   "outputs": [
    {
     "ename": "NameError",
     "evalue": "name 'fasta_sequences' is not defined",
     "output_type": "error",
     "traceback": [
      "\u001b[0;31m---------------------------------------------------------------------------\u001b[0m",
      "\u001b[0;31mNameError\u001b[0m                                 Traceback (most recent call last)",
      "Cell \u001b[0;32mIn[27], line 6\u001b[0m\n\u001b[1;32m      4\u001b[0m \u001b[39mexcept\u001b[39;00m \u001b[39mValueError\u001b[39;00m:\n\u001b[1;32m      5\u001b[0m     \u001b[39mnext\u001b[39m\n\u001b[0;32m----> 6\u001b[0m \u001b[39mprint\u001b[39m(fasta_sequences\u001b[39m.\u001b[39mkeys())\n",
      "\u001b[0;31mNameError\u001b[0m: name 'fasta_sequences' is not defined"
     ]
    }
   ],
   "source": [
    "try:\n",
    "    fasta_sequences = SeqIO.index(fasta_seq_path+\"seq_vcf_chr21\", \"fasta\")\n",
    "except ValueError:\n",
    "    fasta_sequences = \n",
    "print(fasta_sequences.keys())"
   ]
  },
  {
   "cell_type": "code",
   "execution_count": 9,
   "metadata": {},
   "outputs": [
    {
     "ename": "NameError",
     "evalue": "name 'fasta_sequences' is not defined",
     "output_type": "error",
     "traceback": [
      "\u001b[0;31m---------------------------------------------------------------------------\u001b[0m",
      "\u001b[0;31mNameError\u001b[0m                                 Traceback (most recent call last)",
      "Cell \u001b[0;32mIn[9], line 1\u001b[0m\n\u001b[0;32m----> 1\u001b[0m \u001b[39mprint\u001b[39m(fasta_sequences\u001b[39m.\u001b[39mkeys())\n",
      "\u001b[0;31mNameError\u001b[0m: name 'fasta_sequences' is not defined"
     ]
    }
   ],
   "source": [
    "print(fasta_sequences.keys())"
   ]
  }
 ],
 "metadata": {
  "kernelspec": {
   "display_name": "RuledDeepWAS",
   "language": "python",
   "name": "python3"
  },
  "language_info": {
   "codemirror_mode": {
    "name": "ipython",
    "version": 3
   },
   "file_extension": ".py",
   "mimetype": "text/x-python",
   "name": "python",
   "nbconvert_exporter": "python",
   "pygments_lexer": "ipython3",
   "version": "3.10.12"
  },
  "orig_nbformat": 4
 },
 "nbformat": 4,
 "nbformat_minor": 2
}
