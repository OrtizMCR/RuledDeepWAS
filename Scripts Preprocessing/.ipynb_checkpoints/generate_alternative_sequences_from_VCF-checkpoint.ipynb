{
 "cells": [
  {
   "cell_type": "markdown",
   "metadata": {},
   "source": [
    "# Generate Alternative Sequences (from VCF files)\n",
    "This notebook is intended to generate alternative sequences and explain the process along the way.\n",
    "\n",
    "The files that we are going to be using for now, principally to not load the whole data and overload the RAM and system are:\n",
    "* `homo_sapiens-chr21.vcf`\n",
    "* `Homo_sapiens.GRCh38.dna.primary_assembly.fa`\n",
    "\n",
    "These files are the somatic variations from the **Ensembl database**, and the Reference Genome assembly **GRCh38.p14**, both from Ensembl build 110."
   ]
  },
  {
   "cell_type": "code",
   "execution_count": 1,
   "metadata": {
    "tags": []
   },
   "outputs": [],
   "source": [
    "# Import the necessary modules\n",
    "from Bio import SeqIO\n",
    "# To be able to modify sequences\n",
    "from Bio.Seq import MutableSeq, Seq\n",
    "# Import SeqRecord\n",
    "from Bio.SeqRecord import SeqRecord\n",
    "# To import the databases directly\n",
    "from database_io import load_db\n",
    "# Import pandas\n",
    "import pandas as pd\n",
    "# To parse the VCF files\n",
    "import vcf #PyVCF\n",
    "# Import numpy\n",
    "import numpy as np\n",
    "# To transform string-converted lists back to actual lists\n",
    "import ast"
   ]
  },
  {
   "cell_type": "markdown",
   "metadata": {
    "tags": []
   },
   "source": [
    "# Load and parse the VCF file with the help of PyVCF"
   ]
  },
  {
   "cell_type": "markdown",
   "metadata": {},
   "source": [
    "## Testing on chromosome 21\n",
    "We will do first test on the chromosome 21 because is the shortest one. Once the creation of alternative sequences is performed on this chromosome, we will apply the same process for the whole data set and all the chromosomes."
   ]
  },
  {
   "cell_type": "code",
   "execution_count": 3,
   "metadata": {
    "tags": []
   },
   "outputs": [],
   "source": [
    "# Load paths were the data is stored\n",
    "ensembl_var_path = \"/mnt/sda1/Databases/Ensembl/Variation/110/VCF/homo_sapiens-chr21.vcf\"\n",
    "ensembl_grch38_path = \"/mnt/sda1/Databases/Reference Genome/GRCh38p14/Ensembl/Homo_sapiens.GRCh38.dna.primary_assembly.fa\""
   ]
  },
  {
   "cell_type": "code",
   "execution_count": 4,
   "metadata": {
    "tags": []
   },
   "outputs": [],
   "source": [
    "# Declare vcf reader\n",
    "vcf_reader = vcf.Reader(open(ensembl_var_path, mode = \"r\"))"
   ]
  },
  {
   "cell_type": "code",
   "execution_count": 5,
   "metadata": {
    "tags": []
   },
   "outputs": [
    {
     "name": "stdout",
     "output_type": "stream",
     "text": [
      "Record(CHROM=21, POS=5030088, REF=C, ALT=[T])\n"
     ]
    }
   ],
   "source": [
    "# Create a list where the records stored in the vcf file are contained\n",
    "records = []\n",
    "# Save the records in the list\n",
    "# for record in vcf_reader:\n",
    "#    records.append(record)\n",
    "\n",
    "#--------------------------------------------------------------------------------------#\n",
    "# The above piece of code was commented because the whole `Register` object is extracted, using notably more RAM.\n",
    "# The desired attributes are extracted a couple of cells below.\n",
    "\n",
    "# Extract ONLY one `Record` object for to refer if necessary\n",
    "sample_record = next(vcf_reader)\n",
    "print(sample_record)"
   ]
  },
  {
   "cell_type": "markdown",
   "metadata": {},
   "source": [
    "Each `Record` object contains the following attributes:\n",
    "* `Record.CHROM`\n",
    "* `Record.POS`\n",
    "* `Record.ID`\n",
    "* `Record.REF`\n",
    "* `Record.ALT`\n",
    "* `Record.QUAL`\n",
    "* `Record.FILTER`\n",
    "* `Record.INFO`"
   ]
  },
  {
   "cell_type": "code",
   "execution_count": 6,
   "metadata": {
    "tags": []
   },
   "outputs": [
    {
     "data": {
      "text/plain": [
       "{'dbSNP_154': True, 'TSA': 'SNV', 'E_Freq': True, 'E_TOPMed': True, 'AA': 'C'}"
      ]
     },
     "execution_count": 6,
     "metadata": {},
     "output_type": "execute_result"
    }
   ],
   "source": [
    "sample_record.INFO"
   ]
  },
  {
   "cell_type": "markdown",
   "metadata": {},
   "source": [
    "In the `INFO`-produced dictionary we can find the following key-value pairs that provide additional information about the variant:\n",
    "* **dbSNP_154**: Variants (including SNP and indels) imported form dbSNP\n",
    "* **ClinVar_202301**: Variants of clinical importance imported from ClinVar\n",
    "* **HGMD-PUBLIC_20204**: Variants from HGMD-PUBLIC dataset December 2020\n",
    "* **COSMIC_97**: Somatic mutations found in human cancers from the COSMIC catalogue\n",
    "* **TSA**: Type of sequence alteration. Child of term sequence_alteration as defined by the sequence ontology project\n",
    "* **E_Cited**: Cited\n",
    "* **E_Multiple_observations**: Multiple Observations\n",
    "* **E_Freq**: Frequency\n",
    "* **E_TOPMed**: TOPMed\n",
    "* **E_HapMap**: HapMap \n",
    "* **E_phenotype_or_Disease**:Phenotype or Disease\n",
    "* **E_ESP**: ESP\n",
    "* **E_gnomAD**: gnomAD\n",
    "* **E_1000G**: 1000 Genomes\n",
    "* **E_EaXC**: EaXC\n",
    "* **CLIN_risk_factor**: risk factor\n",
    "* **CLIN_protective**: protective\n",
    "* **CLIN_confers_sensitivity**: confers sensitivity\n",
    "* **CLIN_other**: other\n",
    "* **CLIN_drug_response**: drug response\n",
    "* **CLIN_uncertain_significance**: uncertain significance\n",
    "* **CLIN_benign**: benign\n",
    "* **CLIN_likely_pahtogenic**: likely pathogenic\n",
    "* **CLIN_pathogenic**: pathogenic\n",
    "* **CLIN_likely_benign**: likely benign\n",
    "* **CLIN_histocompatibility**: histocompatibility\n",
    "* **CLIN_not_provided**: not provided\n",
    "* **CLIN_association**: association\n",
    "* **MA**: Minor Allele\n",
    "* **MAF**: Minor Allele Frequency\n",
    "* **MAC**: Minor Allele Count\n",
    "* **AA**: Ancestral Allele\n",
    "\n",
    "\n",
    "For additional information on those properties that start with the string `\"E_\"` additional information is available [here](https://www.ensembl.org/info/genome/variation/prediction/variant_quality.html#evidence_status)\n",
    "\n",
    "For additional information and details on those properties that start with the `\"CLIN_\"` string, see this [link](https://www.ensembl.org/info/genome/variation/phenotype/phenotype_annotation.html#clin_significance)"
   ]
  },
  {
   "cell_type": "markdown",
   "metadata": {},
   "source": [
    "## Organize data\n",
    "We order the data contained in the `Register` objects into lists to eventually organize the all the data in a DataFrame."
   ]
  },
  {
   "cell_type": "code",
   "execution_count": 7,
   "metadata": {
    "tags": []
   },
   "outputs": [
    {
     "name": "stdout",
     "output_type": "stream",
     "text": [
      "Record(CHROM=21, POS=5030088, REF=C, ALT=[T]) ['ALT', 'CHROM', 'FILTER', 'FORMAT', 'ID', 'INFO', 'POS', 'QUAL', 'REF', '__class__', '__cmp__', '__delattr__', '__dict__', '__dir__', '__doc__', '__eq__', '__format__', '__ge__', '__getattribute__', '__gt__', '__hash__', '__init__', '__init_subclass__', '__iter__', '__le__', '__lt__', '__module__', '__ne__', '__new__', '__reduce__', '__reduce_ex__', '__repr__', '__setattr__', '__sizeof__', '__str__', '__subclasshook__', '__weakref__', '_compute_coordinates_for_indel', '_compute_coordinates_for_none_alt', '_compute_coordinates_for_snp', '_compute_coordinates_for_sv', '_sample_indexes', '_set_start_and_end', 'aaf', 'add_filter', 'add_format', 'add_info', 'affected_end', 'affected_start', 'alleles', 'call_rate', 'end', 'genotype', 'get_hets', 'get_hom_alts', 'get_hom_refs', 'get_unknowns', 'heterozygosity', 'is_deletion', 'is_filtered', 'is_indel', 'is_monomorphic', 'is_snp', 'is_sv', 'is_sv_precise', 'is_transition', 'nucl_diversity', 'num_called', 'num_het', 'num_hom_alt', 'num_hom_ref', 'num_unknown', 'samples', 'start', 'sv_end', 'var_subtype', 'var_type']\n"
     ]
    }
   ],
   "source": [
    "# Extract Record's attributes\n",
    "print(sample_record, dir(sample_record))"
   ]
  },
  {
   "cell_type": "code",
   "execution_count": 34,
   "metadata": {
    "tags": []
   },
   "outputs": [
    {
     "name": "stdout",
     "output_type": "stream",
     "text": [
      "False\n"
     ]
    }
   ],
   "source": [
    "print(sample_record.is_filtered)"
   ]
  },
  {
   "cell_type": "code",
   "execution_count": 7,
   "metadata": {},
   "outputs": [
    {
     "data": {
      "text/plain": [
       "['21',\n",
       " 'rs1455320509',\n",
       " 'C',\n",
       " [T],\n",
       " {'dbSNP_154': True,\n",
       "  'TSA': 'SNV',\n",
       "  'E_Freq': True,\n",
       "  'E_TOPMed': True,\n",
       "  'AA': 'C'}]"
      ]
     },
     "execution_count": 7,
     "metadata": {},
     "output_type": "execute_result"
    }
   ],
   "source": [
    "# Order Record's attributes in a list\n",
    "record_test = [sample_record.CHROM, sample_record.ID, sample_record.REF, sample_record.ALT, sample_record.INFO]\n",
    "records.append(record_test)\n",
    "record_test"
   ]
  },
  {
   "cell_type": "code",
   "execution_count": 8,
   "metadata": {},
   "outputs": [],
   "source": [
    "# Extract records' attributes in a ordered list\n",
    "#for record in vcf_reader:\n",
    "#    record_attributes = [record.CHROM, record.ID, record.REF, record.ALT, record.INFO]\n",
    "#    records.append(record_attributes)\n",
    "\n",
    "#-------------------------------------------------------------------------------------#\n",
    "# GO TO ATTEMPT 3 SECTION"
   ]
  },
  {
   "cell_type": "code",
   "execution_count": 9,
   "metadata": {},
   "outputs": [
    {
     "data": {
      "text/plain": [
       "['21',\n",
       " 'rs1455320509',\n",
       " 'C',\n",
       " [T],\n",
       " {'dbSNP_154': True,\n",
       "  'TSA': 'SNV',\n",
       "  'E_Freq': True,\n",
       "  'E_TOPMed': True,\n",
       "  'AA': 'C'}]"
      ]
     },
     "execution_count": 9,
     "metadata": {},
     "output_type": "execute_result"
    }
   ],
   "source": [
    "records[0]"
   ]
  },
  {
   "cell_type": "code",
   "execution_count": 8,
   "metadata": {},
   "outputs": [],
   "source": [
    "# Run this cell before going to Attempt 3\n",
    "column_names = ['CHROM', 'ID', 'POS', 'REF', 'ALT', 'TSA', 'AA', 'MAF', 'MA', 'MAC',\n",
    "                'dbSNP_154', 'ClinVar_202301', 'HGMD-PUBLIC_20204', 'COSMIC_97',\n",
    "                'E_Cited', 'E_Multiple_observations', 'E_Freq', 'E_TOPMed', 'E_HapMap', 'E_phenotype_or_Disease', 'E_ESP', 'E_gnomAD', 'E_1000G', 'E_EaXC',\n",
    "                'CLIN_risk_factor', 'CLIN_protective', 'CLIN_confers_sensitivity', 'CLIN_other', 'CLIN_drug_response', 'CLIN_uncertain_significance', 'CLIN_benign',\n",
    "                'CLIN_likely_pahtogenic', 'CLIN_pathogenic', 'CLIN_likely_benign', 'CLIN_histocompatibility', 'CLIN_not_provided', 'CLIN_association']\n"
   ]
  },
  {
   "cell_type": "markdown",
   "metadata": {},
   "source": [
    "## Create the DataFrame that will contain all the data"
   ]
  },
  {
   "cell_type": "markdown",
   "metadata": {},
   "source": [
    "The data records have the following order `[CHROM, ID, POS, REF, ALT, TSA, INFO]`"
   ]
  },
  {
   "cell_type": "markdown",
   "metadata": {},
   "source": [
    "### Attempt 3:\n",
    "Create a dictionary in which keys are the `column_names` and the values are updated from each `Record` attributes in `record.INFO`"
   ]
  },
  {
   "cell_type": "code",
   "execution_count": 9,
   "metadata": {},
   "outputs": [],
   "source": [
    "# Extract records' attributes in a ordered list\n",
    "dict_list = []\n",
    "for record in vcf_reader:\n",
    "    record_dict = {key: np.nan for key in column_names}\n",
    "    record_dict['CHROM'] = record.CHROM\n",
    "    record_dict['ID'] = record.ID\n",
    "    record_dict['POS'] = record.POS\n",
    "    record_dict['REF'] = record.REF\n",
    "    record_dict['ALT'] = record.ALT\n",
    "    record_dict.update(record.INFO)\n",
    "    dict_list.append(record_dict)"
   ]
  },
  {
   "cell_type": "code",
   "execution_count": 10,
   "metadata": {},
   "outputs": [],
   "source": [
    "chrom21_var = pd.DataFrame(dict_list)"
   ]
  },
  {
   "cell_type": "code",
   "execution_count": 11,
   "metadata": {},
   "outputs": [
    {
     "data": {
      "text/html": [
       "<div>\n",
       "<style scoped>\n",
       "    .dataframe tbody tr th:only-of-type {\n",
       "        vertical-align: middle;\n",
       "    }\n",
       "\n",
       "    .dataframe tbody tr th {\n",
       "        vertical-align: top;\n",
       "    }\n",
       "\n",
       "    .dataframe thead th {\n",
       "        text-align: right;\n",
       "    }\n",
       "</style>\n",
       "<table border=\"1\" class=\"dataframe\">\n",
       "  <thead>\n",
       "    <tr style=\"text-align: right;\">\n",
       "      <th></th>\n",
       "      <th>CHROM</th>\n",
       "      <th>ID</th>\n",
       "      <th>POS</th>\n",
       "      <th>REF</th>\n",
       "      <th>ALT</th>\n",
       "      <th>TSA</th>\n",
       "      <th>AA</th>\n",
       "      <th>MAF</th>\n",
       "      <th>MA</th>\n",
       "      <th>MAC</th>\n",
       "      <th>...</th>\n",
       "      <th>CLIN_benign</th>\n",
       "      <th>CLIN_likely_pahtogenic</th>\n",
       "      <th>CLIN_pathogenic</th>\n",
       "      <th>CLIN_likely_benign</th>\n",
       "      <th>CLIN_histocompatibility</th>\n",
       "      <th>CLIN_not_provided</th>\n",
       "      <th>CLIN_association</th>\n",
       "      <th>E_Phenotype_or_Disease</th>\n",
       "      <th>E_ExAC</th>\n",
       "      <th>CLIN_likely_pathogenic</th>\n",
       "    </tr>\n",
       "  </thead>\n",
       "  <tbody>\n",
       "    <tr>\n",
       "      <th>0</th>\n",
       "      <td>21</td>\n",
       "      <td>rs1173141359</td>\n",
       "      <td>5030105</td>\n",
       "      <td>C</td>\n",
       "      <td>[A]</td>\n",
       "      <td>SNV</td>\n",
       "      <td>C</td>\n",
       "      <td>NaN</td>\n",
       "      <td>NaN</td>\n",
       "      <td>NaN</td>\n",
       "      <td>...</td>\n",
       "      <td>NaN</td>\n",
       "      <td>NaN</td>\n",
       "      <td>NaN</td>\n",
       "      <td>NaN</td>\n",
       "      <td>NaN</td>\n",
       "      <td>NaN</td>\n",
       "      <td>NaN</td>\n",
       "      <td>NaN</td>\n",
       "      <td>NaN</td>\n",
       "      <td>NaN</td>\n",
       "    </tr>\n",
       "    <tr>\n",
       "      <th>1</th>\n",
       "      <td>21</td>\n",
       "      <td>rs1601770018</td>\n",
       "      <td>5030151</td>\n",
       "      <td>T</td>\n",
       "      <td>[G]</td>\n",
       "      <td>SNV</td>\n",
       "      <td>T</td>\n",
       "      <td>NaN</td>\n",
       "      <td>NaN</td>\n",
       "      <td>NaN</td>\n",
       "      <td>...</td>\n",
       "      <td>NaN</td>\n",
       "      <td>NaN</td>\n",
       "      <td>NaN</td>\n",
       "      <td>NaN</td>\n",
       "      <td>NaN</td>\n",
       "      <td>NaN</td>\n",
       "      <td>NaN</td>\n",
       "      <td>NaN</td>\n",
       "      <td>NaN</td>\n",
       "      <td>NaN</td>\n",
       "    </tr>\n",
       "    <tr>\n",
       "      <th>2</th>\n",
       "      <td>21</td>\n",
       "      <td>rs1461284410</td>\n",
       "      <td>5030154</td>\n",
       "      <td>T</td>\n",
       "      <td>[C]</td>\n",
       "      <td>SNV</td>\n",
       "      <td>T</td>\n",
       "      <td>NaN</td>\n",
       "      <td>NaN</td>\n",
       "      <td>NaN</td>\n",
       "      <td>...</td>\n",
       "      <td>NaN</td>\n",
       "      <td>NaN</td>\n",
       "      <td>NaN</td>\n",
       "      <td>NaN</td>\n",
       "      <td>NaN</td>\n",
       "      <td>NaN</td>\n",
       "      <td>NaN</td>\n",
       "      <td>NaN</td>\n",
       "      <td>NaN</td>\n",
       "      <td>NaN</td>\n",
       "    </tr>\n",
       "    <tr>\n",
       "      <th>3</th>\n",
       "      <td>21</td>\n",
       "      <td>rs1601770028</td>\n",
       "      <td>5030160</td>\n",
       "      <td>T</td>\n",
       "      <td>[A]</td>\n",
       "      <td>SNV</td>\n",
       "      <td>T</td>\n",
       "      <td>NaN</td>\n",
       "      <td>NaN</td>\n",
       "      <td>NaN</td>\n",
       "      <td>...</td>\n",
       "      <td>NaN</td>\n",
       "      <td>NaN</td>\n",
       "      <td>NaN</td>\n",
       "      <td>NaN</td>\n",
       "      <td>NaN</td>\n",
       "      <td>NaN</td>\n",
       "      <td>NaN</td>\n",
       "      <td>NaN</td>\n",
       "      <td>NaN</td>\n",
       "      <td>NaN</td>\n",
       "    </tr>\n",
       "    <tr>\n",
       "      <th>4</th>\n",
       "      <td>21</td>\n",
       "      <td>rs1371194619</td>\n",
       "      <td>5030173</td>\n",
       "      <td>G</td>\n",
       "      <td>[C]</td>\n",
       "      <td>SNV</td>\n",
       "      <td>G</td>\n",
       "      <td>NaN</td>\n",
       "      <td>NaN</td>\n",
       "      <td>NaN</td>\n",
       "      <td>...</td>\n",
       "      <td>NaN</td>\n",
       "      <td>NaN</td>\n",
       "      <td>NaN</td>\n",
       "      <td>NaN</td>\n",
       "      <td>NaN</td>\n",
       "      <td>NaN</td>\n",
       "      <td>NaN</td>\n",
       "      <td>NaN</td>\n",
       "      <td>NaN</td>\n",
       "      <td>NaN</td>\n",
       "    </tr>\n",
       "  </tbody>\n",
       "</table>\n",
       "<p>5 rows × 40 columns</p>\n",
       "</div>"
      ],
      "text/plain": [
       "  CHROM            ID      POS REF  ALT  TSA AA  MAF   MA  MAC  ...  \\\n",
       "0    21  rs1173141359  5030105   C  [A]  SNV  C  NaN  NaN  NaN  ...   \n",
       "1    21  rs1601770018  5030151   T  [G]  SNV  T  NaN  NaN  NaN  ...   \n",
       "2    21  rs1461284410  5030154   T  [C]  SNV  T  NaN  NaN  NaN  ...   \n",
       "3    21  rs1601770028  5030160   T  [A]  SNV  T  NaN  NaN  NaN  ...   \n",
       "4    21  rs1371194619  5030173   G  [C]  SNV  G  NaN  NaN  NaN  ...   \n",
       "\n",
       "  CLIN_benign CLIN_likely_pahtogenic CLIN_pathogenic  CLIN_likely_benign  \\\n",
       "0         NaN                    NaN             NaN                 NaN   \n",
       "1         NaN                    NaN             NaN                 NaN   \n",
       "2         NaN                    NaN             NaN                 NaN   \n",
       "3         NaN                    NaN             NaN                 NaN   \n",
       "4         NaN                    NaN             NaN                 NaN   \n",
       "\n",
       "  CLIN_histocompatibility  CLIN_not_provided CLIN_association  \\\n",
       "0                     NaN                NaN              NaN   \n",
       "1                     NaN                NaN              NaN   \n",
       "2                     NaN                NaN              NaN   \n",
       "3                     NaN                NaN              NaN   \n",
       "4                     NaN                NaN              NaN   \n",
       "\n",
       "  E_Phenotype_or_Disease  E_ExAC  CLIN_likely_pathogenic  \n",
       "0                    NaN     NaN                     NaN  \n",
       "1                    NaN     NaN                     NaN  \n",
       "2                    NaN     NaN                     NaN  \n",
       "3                    NaN     NaN                     NaN  \n",
       "4                    NaN     NaN                     NaN  \n",
       "\n",
       "[5 rows x 40 columns]"
      ]
     },
     "execution_count": 11,
     "metadata": {},
     "output_type": "execute_result"
    }
   ],
   "source": [
    "chrom21_var.head()"
   ]
  },
  {
   "cell_type": "markdown",
   "metadata": {},
   "source": [
    "Save the Chromosome 21 variation data frame"
   ]
  },
  {
   "cell_type": "code",
   "execution_count": 13,
   "metadata": {},
   "outputs": [],
   "source": [
    "chrom21_var.to_pickle(\"/mnt/sda1/Databases/Ensembl/Variation/110/VCF/chromosome_21_variations.pkl\", compression= 'gzip')"
   ]
  },
  {
   "cell_type": "markdown",
   "metadata": {},
   "source": [
    "# Generate alternative sequences\n",
    "Create the alterntive sequences taking advantage of the information we just extracted in the data frame and the reference genome assembly **GCRh38.p14**."
   ]
  },
  {
   "cell_type": "code",
   "execution_count": 2,
   "metadata": {
    "tags": []
   },
   "outputs": [
    {
     "data": {
      "text/html": [
       "<div>\n",
       "<style scoped>\n",
       "    .dataframe tbody tr th:only-of-type {\n",
       "        vertical-align: middle;\n",
       "    }\n",
       "\n",
       "    .dataframe tbody tr th {\n",
       "        vertical-align: top;\n",
       "    }\n",
       "\n",
       "    .dataframe thead th {\n",
       "        text-align: right;\n",
       "    }\n",
       "</style>\n",
       "<table border=\"1\" class=\"dataframe\">\n",
       "  <thead>\n",
       "    <tr style=\"text-align: right;\">\n",
       "      <th></th>\n",
       "      <th>CHROM</th>\n",
       "      <th>ID</th>\n",
       "      <th>POS</th>\n",
       "      <th>REF</th>\n",
       "      <th>ALT</th>\n",
       "      <th>TSA</th>\n",
       "      <th>AA</th>\n",
       "      <th>MAF</th>\n",
       "      <th>MA</th>\n",
       "      <th>MAC</th>\n",
       "      <th>...</th>\n",
       "      <th>CLIN_benign</th>\n",
       "      <th>CLIN_likely_pahtogenic</th>\n",
       "      <th>CLIN_pathogenic</th>\n",
       "      <th>CLIN_likely_benign</th>\n",
       "      <th>CLIN_histocompatibility</th>\n",
       "      <th>CLIN_not_provided</th>\n",
       "      <th>CLIN_association</th>\n",
       "      <th>E_Phenotype_or_Disease</th>\n",
       "      <th>E_ExAC</th>\n",
       "      <th>CLIN_likely_pathogenic</th>\n",
       "    </tr>\n",
       "  </thead>\n",
       "  <tbody>\n",
       "    <tr>\n",
       "      <th>0</th>\n",
       "      <td>21</td>\n",
       "      <td>rs1173141359</td>\n",
       "      <td>5030105</td>\n",
       "      <td>C</td>\n",
       "      <td>[A]</td>\n",
       "      <td>SNV</td>\n",
       "      <td>C</td>\n",
       "      <td>NaN</td>\n",
       "      <td>NaN</td>\n",
       "      <td>NaN</td>\n",
       "      <td>...</td>\n",
       "      <td>NaN</td>\n",
       "      <td>NaN</td>\n",
       "      <td>NaN</td>\n",
       "      <td>NaN</td>\n",
       "      <td>NaN</td>\n",
       "      <td>NaN</td>\n",
       "      <td>NaN</td>\n",
       "      <td>NaN</td>\n",
       "      <td>NaN</td>\n",
       "      <td>NaN</td>\n",
       "    </tr>\n",
       "    <tr>\n",
       "      <th>1</th>\n",
       "      <td>21</td>\n",
       "      <td>rs1601770018</td>\n",
       "      <td>5030151</td>\n",
       "      <td>T</td>\n",
       "      <td>[G]</td>\n",
       "      <td>SNV</td>\n",
       "      <td>T</td>\n",
       "      <td>NaN</td>\n",
       "      <td>NaN</td>\n",
       "      <td>NaN</td>\n",
       "      <td>...</td>\n",
       "      <td>NaN</td>\n",
       "      <td>NaN</td>\n",
       "      <td>NaN</td>\n",
       "      <td>NaN</td>\n",
       "      <td>NaN</td>\n",
       "      <td>NaN</td>\n",
       "      <td>NaN</td>\n",
       "      <td>NaN</td>\n",
       "      <td>NaN</td>\n",
       "      <td>NaN</td>\n",
       "    </tr>\n",
       "    <tr>\n",
       "      <th>2</th>\n",
       "      <td>21</td>\n",
       "      <td>rs1461284410</td>\n",
       "      <td>5030154</td>\n",
       "      <td>T</td>\n",
       "      <td>[C]</td>\n",
       "      <td>SNV</td>\n",
       "      <td>T</td>\n",
       "      <td>NaN</td>\n",
       "      <td>NaN</td>\n",
       "      <td>NaN</td>\n",
       "      <td>...</td>\n",
       "      <td>NaN</td>\n",
       "      <td>NaN</td>\n",
       "      <td>NaN</td>\n",
       "      <td>NaN</td>\n",
       "      <td>NaN</td>\n",
       "      <td>NaN</td>\n",
       "      <td>NaN</td>\n",
       "      <td>NaN</td>\n",
       "      <td>NaN</td>\n",
       "      <td>NaN</td>\n",
       "    </tr>\n",
       "    <tr>\n",
       "      <th>3</th>\n",
       "      <td>21</td>\n",
       "      <td>rs1601770028</td>\n",
       "      <td>5030160</td>\n",
       "      <td>T</td>\n",
       "      <td>[A]</td>\n",
       "      <td>SNV</td>\n",
       "      <td>T</td>\n",
       "      <td>NaN</td>\n",
       "      <td>NaN</td>\n",
       "      <td>NaN</td>\n",
       "      <td>...</td>\n",
       "      <td>NaN</td>\n",
       "      <td>NaN</td>\n",
       "      <td>NaN</td>\n",
       "      <td>NaN</td>\n",
       "      <td>NaN</td>\n",
       "      <td>NaN</td>\n",
       "      <td>NaN</td>\n",
       "      <td>NaN</td>\n",
       "      <td>NaN</td>\n",
       "      <td>NaN</td>\n",
       "    </tr>\n",
       "    <tr>\n",
       "      <th>4</th>\n",
       "      <td>21</td>\n",
       "      <td>rs1371194619</td>\n",
       "      <td>5030173</td>\n",
       "      <td>G</td>\n",
       "      <td>[C]</td>\n",
       "      <td>SNV</td>\n",
       "      <td>G</td>\n",
       "      <td>NaN</td>\n",
       "      <td>NaN</td>\n",
       "      <td>NaN</td>\n",
       "      <td>...</td>\n",
       "      <td>NaN</td>\n",
       "      <td>NaN</td>\n",
       "      <td>NaN</td>\n",
       "      <td>NaN</td>\n",
       "      <td>NaN</td>\n",
       "      <td>NaN</td>\n",
       "      <td>NaN</td>\n",
       "      <td>NaN</td>\n",
       "      <td>NaN</td>\n",
       "      <td>NaN</td>\n",
       "    </tr>\n",
       "  </tbody>\n",
       "</table>\n",
       "<p>5 rows × 40 columns</p>\n",
       "</div>"
      ],
      "text/plain": [
       "  CHROM            ID      POS REF  ALT  TSA AA  MAF   MA  MAC  ...  \\\n",
       "0    21  rs1173141359  5030105   C  [A]  SNV  C  NaN  NaN  NaN  ...   \n",
       "1    21  rs1601770018  5030151   T  [G]  SNV  T  NaN  NaN  NaN  ...   \n",
       "2    21  rs1461284410  5030154   T  [C]  SNV  T  NaN  NaN  NaN  ...   \n",
       "3    21  rs1601770028  5030160   T  [A]  SNV  T  NaN  NaN  NaN  ...   \n",
       "4    21  rs1371194619  5030173   G  [C]  SNV  G  NaN  NaN  NaN  ...   \n",
       "\n",
       "  CLIN_benign CLIN_likely_pahtogenic CLIN_pathogenic  CLIN_likely_benign  \\\n",
       "0         NaN                    NaN             NaN                 NaN   \n",
       "1         NaN                    NaN             NaN                 NaN   \n",
       "2         NaN                    NaN             NaN                 NaN   \n",
       "3         NaN                    NaN             NaN                 NaN   \n",
       "4         NaN                    NaN             NaN                 NaN   \n",
       "\n",
       "  CLIN_histocompatibility  CLIN_not_provided CLIN_association  \\\n",
       "0                     NaN                NaN              NaN   \n",
       "1                     NaN                NaN              NaN   \n",
       "2                     NaN                NaN              NaN   \n",
       "3                     NaN                NaN              NaN   \n",
       "4                     NaN                NaN              NaN   \n",
       "\n",
       "  E_Phenotype_or_Disease  E_ExAC  CLIN_likely_pathogenic  \n",
       "0                    NaN     NaN                     NaN  \n",
       "1                    NaN     NaN                     NaN  \n",
       "2                    NaN     NaN                     NaN  \n",
       "3                    NaN     NaN                     NaN  \n",
       "4                    NaN     NaN                     NaN  \n",
       "\n",
       "[5 rows x 40 columns]"
      ]
     },
     "execution_count": 2,
     "metadata": {},
     "output_type": "execute_result"
    }
   ],
   "source": [
    "# Load the csv file containing the variation data from chromosome 21\n",
    "#chr21_variaton_csv_path = \"/mnt/sda1/Databases/Ensembl/Variation/110/chromosome_21_variations.csv\"\n",
    "chr21_variation_pkl_path = \"/mnt/sda1/Databases/Ensembl/Variation/110/VCF/chromosome_21_variations.pkl\"\n",
    "#chr21_variation = pd.read_csv(chr21_variaton_csv_path, index_col=0)\n",
    "chr21_variation = pd.read_pickle(chr21_variation_pkl_path, compression= \"gzip\")\n",
    "chr21_variation.head()"
   ]
  },
  {
   "cell_type": "code",
   "execution_count": 4,
   "metadata": {
    "tags": []
   },
   "outputs": [
    {
     "data": {
      "text/plain": [
       "(9243117, 40)"
      ]
     },
     "execution_count": 4,
     "metadata": {},
     "output_type": "execute_result"
    }
   ],
   "source": [
    "# Check the size of the chr21_variation Data Frame\n",
    "chr21_variation.shape"
   ]
  },
  {
   "cell_type": "code",
   "execution_count": 6,
   "metadata": {
    "tags": []
   },
   "outputs": [
    {
     "data": {
      "text/plain": [
       "TSA\n",
       "SNV                    8399022\n",
       "indel                   614835\n",
       "deletion                169949\n",
       "insertion                54562\n",
       "substitution              4518\n",
       "sequence_alteration        231\n",
       "Name: count, dtype: int64"
      ]
     },
     "execution_count": 6,
     "metadata": {},
     "output_type": "execute_result"
    }
   ],
   "source": [
    "# Check the number of different variant types in chromosome 21\n",
    "chr21_variation.TSA.value_counts()"
   ]
  },
  {
   "cell_type": "code",
   "execution_count": 3,
   "metadata": {
    "tags": []
   },
   "outputs": [
    {
     "data": {
      "text/plain": [
       "[A]"
      ]
     },
     "execution_count": 3,
     "metadata": {},
     "output_type": "execute_result"
    }
   ],
   "source": [
    "chr21_variation.iloc[0]['ALT']"
   ]
  },
  {
   "cell_type": "code",
   "execution_count": 4,
   "metadata": {
    "tags": []
   },
   "outputs": [
    {
     "data": {
      "text/plain": [
       "Index(['CHROM', 'ID', 'POS', 'REF', 'ALT', 'TSA', 'AA', 'MAF', 'MA', 'MAC',\n",
       "       'dbSNP_154', 'ClinVar_202301', 'HGMD-PUBLIC_20204', 'COSMIC_97',\n",
       "       'E_Cited', 'E_Multiple_observations', 'E_Freq', 'E_TOPMed', 'E_HapMap',\n",
       "       'E_phenotype_or_Disease', 'E_ESP', 'E_gnomAD', 'E_1000G', 'E_EaXC',\n",
       "       'CLIN_risk_factor', 'CLIN_protective', 'CLIN_confers_sensitivity',\n",
       "       'CLIN_other', 'CLIN_drug_response', 'CLIN_uncertain_significance',\n",
       "       'CLIN_benign', 'CLIN_likely_pahtogenic', 'CLIN_pathogenic',\n",
       "       'CLIN_likely_benign', 'CLIN_histocompatibility', 'CLIN_not_provided',\n",
       "       'CLIN_association', 'E_Phenotype_or_Disease', 'E_ExAC',\n",
       "       'CLIN_likely_pathogenic'],\n",
       "      dtype='object')"
      ]
     },
     "execution_count": 4,
     "metadata": {},
     "output_type": "execute_result"
    }
   ],
   "source": [
    "chr21_variation.columns"
   ]
  },
  {
   "cell_type": "code",
   "execution_count": 5,
   "metadata": {
    "tags": []
   },
   "outputs": [],
   "source": [
    "#chr21_variation.describe(include='all')"
   ]
  },
  {
   "cell_type": "markdown",
   "metadata": {},
   "source": [
    "We are going to focus only on the following features for now:\n",
    "- CHROM\n",
    "- REF\n",
    "- ALT\n",
    "- TSA\n",
    "- POS\n",
    "- ID\n",
    "- MAF (Minimal Allele Frequency)"
   ]
  },
  {
   "cell_type": "code",
   "execution_count": 10,
   "metadata": {
    "tags": []
   },
   "outputs": [
    {
     "data": {
      "text/html": [
       "<div>\n",
       "<style scoped>\n",
       "    .dataframe tbody tr th:only-of-type {\n",
       "        vertical-align: middle;\n",
       "    }\n",
       "\n",
       "    .dataframe tbody tr th {\n",
       "        vertical-align: top;\n",
       "    }\n",
       "\n",
       "    .dataframe thead th {\n",
       "        text-align: right;\n",
       "    }\n",
       "</style>\n",
       "<table border=\"1\" class=\"dataframe\">\n",
       "  <thead>\n",
       "    <tr style=\"text-align: right;\">\n",
       "      <th></th>\n",
       "      <th>CHROM</th>\n",
       "      <th>ID</th>\n",
       "      <th>POS</th>\n",
       "      <th>REF</th>\n",
       "      <th>ALT</th>\n",
       "      <th>TSA</th>\n",
       "      <th>MAF</th>\n",
       "    </tr>\n",
       "  </thead>\n",
       "  <tbody>\n",
       "    <tr>\n",
       "      <th>0</th>\n",
       "      <td>21</td>\n",
       "      <td>rs1173141359</td>\n",
       "      <td>5030105</td>\n",
       "      <td>C</td>\n",
       "      <td>[A]</td>\n",
       "      <td>SNV</td>\n",
       "      <td>NaN</td>\n",
       "    </tr>\n",
       "    <tr>\n",
       "      <th>1</th>\n",
       "      <td>21</td>\n",
       "      <td>rs1601770018</td>\n",
       "      <td>5030151</td>\n",
       "      <td>T</td>\n",
       "      <td>[G]</td>\n",
       "      <td>SNV</td>\n",
       "      <td>NaN</td>\n",
       "    </tr>\n",
       "    <tr>\n",
       "      <th>2</th>\n",
       "      <td>21</td>\n",
       "      <td>rs1461284410</td>\n",
       "      <td>5030154</td>\n",
       "      <td>T</td>\n",
       "      <td>[C]</td>\n",
       "      <td>SNV</td>\n",
       "      <td>NaN</td>\n",
       "    </tr>\n",
       "    <tr>\n",
       "      <th>3</th>\n",
       "      <td>21</td>\n",
       "      <td>rs1601770028</td>\n",
       "      <td>5030160</td>\n",
       "      <td>T</td>\n",
       "      <td>[A]</td>\n",
       "      <td>SNV</td>\n",
       "      <td>NaN</td>\n",
       "    </tr>\n",
       "    <tr>\n",
       "      <th>4</th>\n",
       "      <td>21</td>\n",
       "      <td>rs1371194619</td>\n",
       "      <td>5030173</td>\n",
       "      <td>G</td>\n",
       "      <td>[C]</td>\n",
       "      <td>SNV</td>\n",
       "      <td>NaN</td>\n",
       "    </tr>\n",
       "    <tr>\n",
       "      <th>...</th>\n",
       "      <td>...</td>\n",
       "      <td>...</td>\n",
       "      <td>...</td>\n",
       "      <td>...</td>\n",
       "      <td>...</td>\n",
       "      <td>...</td>\n",
       "      <td>...</td>\n",
       "    </tr>\n",
       "    <tr>\n",
       "      <th>9243112</th>\n",
       "      <td>21</td>\n",
       "      <td>rs1302396446</td>\n",
       "      <td>46699976</td>\n",
       "      <td>G</td>\n",
       "      <td>[A]</td>\n",
       "      <td>SNV</td>\n",
       "      <td>NaN</td>\n",
       "    </tr>\n",
       "    <tr>\n",
       "      <th>9243113</th>\n",
       "      <td>21</td>\n",
       "      <td>rs1388937426</td>\n",
       "      <td>46699978</td>\n",
       "      <td>T</td>\n",
       "      <td>[C, G]</td>\n",
       "      <td>SNV</td>\n",
       "      <td>NaN</td>\n",
       "    </tr>\n",
       "    <tr>\n",
       "      <th>9243114</th>\n",
       "      <td>21</td>\n",
       "      <td>rs1347178542</td>\n",
       "      <td>46699979</td>\n",
       "      <td>T</td>\n",
       "      <td>[A, G]</td>\n",
       "      <td>SNV</td>\n",
       "      <td>NaN</td>\n",
       "    </tr>\n",
       "    <tr>\n",
       "      <th>9243115</th>\n",
       "      <td>21</td>\n",
       "      <td>rs1601974205</td>\n",
       "      <td>46699980</td>\n",
       "      <td>A</td>\n",
       "      <td>[G]</td>\n",
       "      <td>SNV</td>\n",
       "      <td>NaN</td>\n",
       "    </tr>\n",
       "    <tr>\n",
       "      <th>9243116</th>\n",
       "      <td>21</td>\n",
       "      <td>rs1601974207</td>\n",
       "      <td>46699981</td>\n",
       "      <td>G</td>\n",
       "      <td>[A]</td>\n",
       "      <td>SNV</td>\n",
       "      <td>NaN</td>\n",
       "    </tr>\n",
       "  </tbody>\n",
       "</table>\n",
       "<p>9243117 rows × 7 columns</p>\n",
       "</div>"
      ],
      "text/plain": [
       "        CHROM            ID       POS REF     ALT  TSA  MAF\n",
       "0          21  rs1173141359   5030105   C     [A]  SNV  NaN\n",
       "1          21  rs1601770018   5030151   T     [G]  SNV  NaN\n",
       "2          21  rs1461284410   5030154   T     [C]  SNV  NaN\n",
       "3          21  rs1601770028   5030160   T     [A]  SNV  NaN\n",
       "4          21  rs1371194619   5030173   G     [C]  SNV  NaN\n",
       "...       ...           ...       ...  ..     ...  ...  ...\n",
       "9243112    21  rs1302396446  46699976   G     [A]  SNV  NaN\n",
       "9243113    21  rs1388937426  46699978   T  [C, G]  SNV  NaN\n",
       "9243114    21  rs1347178542  46699979   T  [A, G]  SNV  NaN\n",
       "9243115    21  rs1601974205  46699980   A     [G]  SNV  NaN\n",
       "9243116    21  rs1601974207  46699981   G     [A]  SNV  NaN\n",
       "\n",
       "[9243117 rows x 7 columns]"
      ]
     },
     "execution_count": 10,
     "metadata": {},
     "output_type": "execute_result"
    }
   ],
   "source": [
    "chr21_variation = chr21_variation[['CHROM', 'ID', 'POS', 'REF', 'ALT', 'TSA', 'MAF']]\n",
    "chr21_variation"
   ]
  },
  {
   "cell_type": "code",
   "execution_count": 11,
   "metadata": {
    "tags": []
   },
   "outputs": [
    {
     "data": {
      "text/plain": [
       "Index(['CHROM', 'ID', 'POS', 'REF', 'ALT', 'TSA', 'MAF'], dtype='object')"
      ]
     },
     "execution_count": 11,
     "metadata": {},
     "output_type": "execute_result"
    }
   ],
   "source": [
    "chr21_variation.columns"
   ]
  },
  {
   "cell_type": "code",
   "execution_count": 12,
   "metadata": {
    "tags": []
   },
   "outputs": [
    {
     "data": {
      "text/plain": [
       "POS\n",
       "26626949    25\n",
       "16845821    24\n",
       "36370636    23\n",
       "24846108    23\n",
       "22320724    22\n",
       "            ..\n",
       "21765218     1\n",
       "21765217     1\n",
       "21765215     1\n",
       "21765212     1\n",
       "46699981     1\n",
       "Name: count, Length: 8942587, dtype: int64"
      ]
     },
     "execution_count": 12,
     "metadata": {},
     "output_type": "execute_result"
    }
   ],
   "source": [
    "chr21_variation.POS.value_counts()"
   ]
  },
  {
   "cell_type": "code",
   "execution_count": 16,
   "metadata": {
    "tags": []
   },
   "outputs": [
    {
     "data": {
      "text/html": [
       "<div>\n",
       "<style scoped>\n",
       "    .dataframe tbody tr th:only-of-type {\n",
       "        vertical-align: middle;\n",
       "    }\n",
       "\n",
       "    .dataframe tbody tr th {\n",
       "        vertical-align: top;\n",
       "    }\n",
       "\n",
       "    .dataframe thead th {\n",
       "        text-align: right;\n",
       "    }\n",
       "</style>\n",
       "<table border=\"1\" class=\"dataframe\">\n",
       "  <thead>\n",
       "    <tr style=\"text-align: right;\">\n",
       "      <th></th>\n",
       "      <th>CHROM</th>\n",
       "      <th>ID</th>\n",
       "      <th>POS</th>\n",
       "      <th>REF</th>\n",
       "      <th>ALT</th>\n",
       "      <th>TSA</th>\n",
       "      <th>MAF</th>\n",
       "    </tr>\n",
       "  </thead>\n",
       "  <tbody>\n",
       "    <tr>\n",
       "      <th>1870009</th>\n",
       "      <td>21</td>\n",
       "      <td>rs1166882669</td>\n",
       "      <td>16845821</td>\n",
       "      <td>TTTTTAAAAAAAAAAAAAAAAAA</td>\n",
       "      <td>[T]</td>\n",
       "      <td>deletion</td>\n",
       "      <td>NaN</td>\n",
       "    </tr>\n",
       "    <tr>\n",
       "      <th>1870010</th>\n",
       "      <td>21</td>\n",
       "      <td>rs1186871105</td>\n",
       "      <td>16845821</td>\n",
       "      <td>TTTTTAAAAAAAAAAAAAAAAAAAAA</td>\n",
       "      <td>[T]</td>\n",
       "      <td>deletion</td>\n",
       "      <td>NaN</td>\n",
       "    </tr>\n",
       "    <tr>\n",
       "      <th>1870011</th>\n",
       "      <td>21</td>\n",
       "      <td>rs1195310663</td>\n",
       "      <td>16845821</td>\n",
       "      <td>TTTTTA</td>\n",
       "      <td>[T]</td>\n",
       "      <td>deletion</td>\n",
       "      <td>NaN</td>\n",
       "    </tr>\n",
       "    <tr>\n",
       "      <th>1870012</th>\n",
       "      <td>21</td>\n",
       "      <td>rs1216326754</td>\n",
       "      <td>16845821</td>\n",
       "      <td>TTTTTAAAA</td>\n",
       "      <td>[T]</td>\n",
       "      <td>deletion</td>\n",
       "      <td>NaN</td>\n",
       "    </tr>\n",
       "    <tr>\n",
       "      <th>1870013</th>\n",
       "      <td>21</td>\n",
       "      <td>rs1227579059</td>\n",
       "      <td>16845821</td>\n",
       "      <td>TTTTTAAAAAAAA</td>\n",
       "      <td>[T]</td>\n",
       "      <td>deletion</td>\n",
       "      <td>NaN</td>\n",
       "    </tr>\n",
       "    <tr>\n",
       "      <th>1870014</th>\n",
       "      <td>21</td>\n",
       "      <td>rs1232894075</td>\n",
       "      <td>16845821</td>\n",
       "      <td>TTTTTAAAAAAA</td>\n",
       "      <td>[T]</td>\n",
       "      <td>deletion</td>\n",
       "      <td>NaN</td>\n",
       "    </tr>\n",
       "    <tr>\n",
       "      <th>1870015</th>\n",
       "      <td>21</td>\n",
       "      <td>rs1235632360</td>\n",
       "      <td>16845821</td>\n",
       "      <td>TTTTTAAAAAAAAAAAAAAAAAAAAAAA</td>\n",
       "      <td>[T]</td>\n",
       "      <td>deletion</td>\n",
       "      <td>NaN</td>\n",
       "    </tr>\n",
       "    <tr>\n",
       "      <th>1870016</th>\n",
       "      <td>21</td>\n",
       "      <td>rs1260860153</td>\n",
       "      <td>16845821</td>\n",
       "      <td>TTTTTAAAAAAAAAAAAAAAAAAAA</td>\n",
       "      <td>[T]</td>\n",
       "      <td>deletion</td>\n",
       "      <td>NaN</td>\n",
       "    </tr>\n",
       "    <tr>\n",
       "      <th>1870017</th>\n",
       "      <td>21</td>\n",
       "      <td>rs1289976524</td>\n",
       "      <td>16845821</td>\n",
       "      <td>TTTTTAAAAAAAAAAAA</td>\n",
       "      <td>[T]</td>\n",
       "      <td>deletion</td>\n",
       "      <td>NaN</td>\n",
       "    </tr>\n",
       "    <tr>\n",
       "      <th>1870018</th>\n",
       "      <td>21</td>\n",
       "      <td>rs1305118707</td>\n",
       "      <td>16845821</td>\n",
       "      <td>TTTTTAAAAAAAAA</td>\n",
       "      <td>[T]</td>\n",
       "      <td>deletion</td>\n",
       "      <td>NaN</td>\n",
       "    </tr>\n",
       "    <tr>\n",
       "      <th>1870019</th>\n",
       "      <td>21</td>\n",
       "      <td>rs1318652123</td>\n",
       "      <td>16845821</td>\n",
       "      <td>TTTTTAAAAA</td>\n",
       "      <td>[T]</td>\n",
       "      <td>deletion</td>\n",
       "      <td>NaN</td>\n",
       "    </tr>\n",
       "    <tr>\n",
       "      <th>1870020</th>\n",
       "      <td>21</td>\n",
       "      <td>rs1357914660</td>\n",
       "      <td>16845821</td>\n",
       "      <td>TTTTTAAAAAAAAAAAAAA</td>\n",
       "      <td>[T]</td>\n",
       "      <td>deletion</td>\n",
       "      <td>NaN</td>\n",
       "    </tr>\n",
       "    <tr>\n",
       "      <th>1870021</th>\n",
       "      <td>21</td>\n",
       "      <td>rs1361632930</td>\n",
       "      <td>16845821</td>\n",
       "      <td>TTTTTAAAAAAAAAAA</td>\n",
       "      <td>[T]</td>\n",
       "      <td>deletion</td>\n",
       "      <td>NaN</td>\n",
       "    </tr>\n",
       "    <tr>\n",
       "      <th>1870022</th>\n",
       "      <td>21</td>\n",
       "      <td>rs1397139981</td>\n",
       "      <td>16845821</td>\n",
       "      <td>TTTTTAAAAAAAAAAAAAAAAA</td>\n",
       "      <td>[T]</td>\n",
       "      <td>deletion</td>\n",
       "      <td>NaN</td>\n",
       "    </tr>\n",
       "    <tr>\n",
       "      <th>1870023</th>\n",
       "      <td>21</td>\n",
       "      <td>rs1426523050</td>\n",
       "      <td>16845821</td>\n",
       "      <td>TTTTTAAAAAAAAAAAAAAAAAAA</td>\n",
       "      <td>[T]</td>\n",
       "      <td>deletion</td>\n",
       "      <td>NaN</td>\n",
       "    </tr>\n",
       "    <tr>\n",
       "      <th>1870024</th>\n",
       "      <td>21</td>\n",
       "      <td>rs1433381890</td>\n",
       "      <td>16845821</td>\n",
       "      <td>TTTTTAAAAAAAAAA</td>\n",
       "      <td>[T]</td>\n",
       "      <td>deletion</td>\n",
       "      <td>NaN</td>\n",
       "    </tr>\n",
       "    <tr>\n",
       "      <th>1870025</th>\n",
       "      <td>21</td>\n",
       "      <td>rs1433583527</td>\n",
       "      <td>16845821</td>\n",
       "      <td>TTTTTAAAAAAAAAAAAA</td>\n",
       "      <td>[T]</td>\n",
       "      <td>deletion</td>\n",
       "      <td>NaN</td>\n",
       "    </tr>\n",
       "    <tr>\n",
       "      <th>1870026</th>\n",
       "      <td>21</td>\n",
       "      <td>rs1435385736</td>\n",
       "      <td>16845821</td>\n",
       "      <td>TTTTTAAAAAAAAAAAAAAAA</td>\n",
       "      <td>[T]</td>\n",
       "      <td>deletion</td>\n",
       "      <td>NaN</td>\n",
       "    </tr>\n",
       "    <tr>\n",
       "      <th>1870027</th>\n",
       "      <td>21</td>\n",
       "      <td>rs1463338005</td>\n",
       "      <td>16845821</td>\n",
       "      <td>TTTTTAA</td>\n",
       "      <td>[T]</td>\n",
       "      <td>deletion</td>\n",
       "      <td>NaN</td>\n",
       "    </tr>\n",
       "    <tr>\n",
       "      <th>1870028</th>\n",
       "      <td>21</td>\n",
       "      <td>rs1486832805</td>\n",
       "      <td>16845821</td>\n",
       "      <td>TTTTTAAAAAAAAAAAAAAAAAAAAAA</td>\n",
       "      <td>[T]</td>\n",
       "      <td>deletion</td>\n",
       "      <td>NaN</td>\n",
       "    </tr>\n",
       "    <tr>\n",
       "      <th>1870029</th>\n",
       "      <td>21</td>\n",
       "      <td>rs1555875495</td>\n",
       "      <td>16845821</td>\n",
       "      <td>TTTTT</td>\n",
       "      <td>[TAAAAAAAAAA]</td>\n",
       "      <td>indel</td>\n",
       "      <td>NaN</td>\n",
       "    </tr>\n",
       "    <tr>\n",
       "      <th>1870030</th>\n",
       "      <td>21</td>\n",
       "      <td>rs374332017</td>\n",
       "      <td>16845821</td>\n",
       "      <td>TTTTTAAAAAAAAAAAAAAA</td>\n",
       "      <td>[T]</td>\n",
       "      <td>deletion</td>\n",
       "      <td>NaN</td>\n",
       "    </tr>\n",
       "    <tr>\n",
       "      <th>1870031</th>\n",
       "      <td>21</td>\n",
       "      <td>rs772161430</td>\n",
       "      <td>16845821</td>\n",
       "      <td>TTTTTAAAAAA</td>\n",
       "      <td>[T]</td>\n",
       "      <td>deletion</td>\n",
       "      <td>NaN</td>\n",
       "    </tr>\n",
       "    <tr>\n",
       "      <th>1870032</th>\n",
       "      <td>21</td>\n",
       "      <td>rs869081535</td>\n",
       "      <td>16845821</td>\n",
       "      <td>TTTTTAAA</td>\n",
       "      <td>[T]</td>\n",
       "      <td>deletion</td>\n",
       "      <td>NaN</td>\n",
       "    </tr>\n",
       "  </tbody>\n",
       "</table>\n",
       "</div>"
      ],
      "text/plain": [
       "        CHROM            ID       POS                           REF  \\\n",
       "1870009    21  rs1166882669  16845821       TTTTTAAAAAAAAAAAAAAAAAA   \n",
       "1870010    21  rs1186871105  16845821    TTTTTAAAAAAAAAAAAAAAAAAAAA   \n",
       "1870011    21  rs1195310663  16845821                        TTTTTA   \n",
       "1870012    21  rs1216326754  16845821                     TTTTTAAAA   \n",
       "1870013    21  rs1227579059  16845821                 TTTTTAAAAAAAA   \n",
       "1870014    21  rs1232894075  16845821                  TTTTTAAAAAAA   \n",
       "1870015    21  rs1235632360  16845821  TTTTTAAAAAAAAAAAAAAAAAAAAAAA   \n",
       "1870016    21  rs1260860153  16845821     TTTTTAAAAAAAAAAAAAAAAAAAA   \n",
       "1870017    21  rs1289976524  16845821             TTTTTAAAAAAAAAAAA   \n",
       "1870018    21  rs1305118707  16845821                TTTTTAAAAAAAAA   \n",
       "1870019    21  rs1318652123  16845821                    TTTTTAAAAA   \n",
       "1870020    21  rs1357914660  16845821           TTTTTAAAAAAAAAAAAAA   \n",
       "1870021    21  rs1361632930  16845821              TTTTTAAAAAAAAAAA   \n",
       "1870022    21  rs1397139981  16845821        TTTTTAAAAAAAAAAAAAAAAA   \n",
       "1870023    21  rs1426523050  16845821      TTTTTAAAAAAAAAAAAAAAAAAA   \n",
       "1870024    21  rs1433381890  16845821               TTTTTAAAAAAAAAA   \n",
       "1870025    21  rs1433583527  16845821            TTTTTAAAAAAAAAAAAA   \n",
       "1870026    21  rs1435385736  16845821         TTTTTAAAAAAAAAAAAAAAA   \n",
       "1870027    21  rs1463338005  16845821                       TTTTTAA   \n",
       "1870028    21  rs1486832805  16845821   TTTTTAAAAAAAAAAAAAAAAAAAAAA   \n",
       "1870029    21  rs1555875495  16845821                         TTTTT   \n",
       "1870030    21   rs374332017  16845821          TTTTTAAAAAAAAAAAAAAA   \n",
       "1870031    21   rs772161430  16845821                   TTTTTAAAAAA   \n",
       "1870032    21   rs869081535  16845821                      TTTTTAAA   \n",
       "\n",
       "                   ALT       TSA  MAF  \n",
       "1870009            [T]  deletion  NaN  \n",
       "1870010            [T]  deletion  NaN  \n",
       "1870011            [T]  deletion  NaN  \n",
       "1870012            [T]  deletion  NaN  \n",
       "1870013            [T]  deletion  NaN  \n",
       "1870014            [T]  deletion  NaN  \n",
       "1870015            [T]  deletion  NaN  \n",
       "1870016            [T]  deletion  NaN  \n",
       "1870017            [T]  deletion  NaN  \n",
       "1870018            [T]  deletion  NaN  \n",
       "1870019            [T]  deletion  NaN  \n",
       "1870020            [T]  deletion  NaN  \n",
       "1870021            [T]  deletion  NaN  \n",
       "1870022            [T]  deletion  NaN  \n",
       "1870023            [T]  deletion  NaN  \n",
       "1870024            [T]  deletion  NaN  \n",
       "1870025            [T]  deletion  NaN  \n",
       "1870026            [T]  deletion  NaN  \n",
       "1870027            [T]  deletion  NaN  \n",
       "1870028            [T]  deletion  NaN  \n",
       "1870029  [TAAAAAAAAAA]     indel  NaN  \n",
       "1870030            [T]  deletion  NaN  \n",
       "1870031            [T]  deletion  NaN  \n",
       "1870032            [T]  deletion  NaN  "
      ]
     },
     "execution_count": 16,
     "metadata": {},
     "output_type": "execute_result"
    }
   ],
   "source": [
    "chr21_variation[chr21_variation.POS==16845821]"
   ]
  },
  {
   "cell_type": "code",
   "execution_count": 15,
   "metadata": {
    "tags": []
   },
   "outputs": [
    {
     "data": {
      "text/html": [
       "<div>\n",
       "<style scoped>\n",
       "    .dataframe tbody tr th:only-of-type {\n",
       "        vertical-align: middle;\n",
       "    }\n",
       "\n",
       "    .dataframe tbody tr th {\n",
       "        vertical-align: top;\n",
       "    }\n",
       "\n",
       "    .dataframe thead th {\n",
       "        text-align: right;\n",
       "    }\n",
       "</style>\n",
       "<table border=\"1\" class=\"dataframe\">\n",
       "  <thead>\n",
       "    <tr style=\"text-align: right;\">\n",
       "      <th></th>\n",
       "      <th>CHROM</th>\n",
       "      <th>ID</th>\n",
       "      <th>POS</th>\n",
       "      <th>REF</th>\n",
       "      <th>ALT</th>\n",
       "      <th>TSA</th>\n",
       "      <th>MAF</th>\n",
       "    </tr>\n",
       "  </thead>\n",
       "  <tbody>\n",
       "    <tr>\n",
       "      <th>449</th>\n",
       "      <td>21</td>\n",
       "      <td>rs1568756826</td>\n",
       "      <td>5032969</td>\n",
       "      <td>A</td>\n",
       "      <td>[ACAGTGAG]</td>\n",
       "      <td>insertion</td>\n",
       "      <td>NaN</td>\n",
       "    </tr>\n",
       "    <tr>\n",
       "      <th>506</th>\n",
       "      <td>21</td>\n",
       "      <td>rs1339717783</td>\n",
       "      <td>5033367</td>\n",
       "      <td>C</td>\n",
       "      <td>[CT]</td>\n",
       "      <td>insertion</td>\n",
       "      <td>NaN</td>\n",
       "    </tr>\n",
       "    <tr>\n",
       "      <th>507</th>\n",
       "      <td>21</td>\n",
       "      <td>rs1286929552</td>\n",
       "      <td>5033369</td>\n",
       "      <td>C</td>\n",
       "      <td>[CA, CT]</td>\n",
       "      <td>insertion</td>\n",
       "      <td>NaN</td>\n",
       "    </tr>\n",
       "    <tr>\n",
       "      <th>1431</th>\n",
       "      <td>21</td>\n",
       "      <td>rs1350039135</td>\n",
       "      <td>5043821</td>\n",
       "      <td>T</td>\n",
       "      <td>[TTCCTCCTCTCCTCCTCTCCTCCTCCTCCTCCTCCCTCCT]</td>\n",
       "      <td>insertion</td>\n",
       "      <td>NaN</td>\n",
       "    </tr>\n",
       "    <tr>\n",
       "      <th>1768</th>\n",
       "      <td>21</td>\n",
       "      <td>rs1442408011</td>\n",
       "      <td>5051295</td>\n",
       "      <td>C</td>\n",
       "      <td>[CAT, CGT]</td>\n",
       "      <td>insertion</td>\n",
       "      <td>NaN</td>\n",
       "    </tr>\n",
       "    <tr>\n",
       "      <th>...</th>\n",
       "      <td>...</td>\n",
       "      <td>...</td>\n",
       "      <td>...</td>\n",
       "      <td>...</td>\n",
       "      <td>...</td>\n",
       "      <td>...</td>\n",
       "      <td>...</td>\n",
       "    </tr>\n",
       "    <tr>\n",
       "      <th>9242975</th>\n",
       "      <td>21</td>\n",
       "      <td>rs1569175235</td>\n",
       "      <td>46699870</td>\n",
       "      <td>T</td>\n",
       "      <td>[TG]</td>\n",
       "      <td>insertion</td>\n",
       "      <td>NaN</td>\n",
       "    </tr>\n",
       "    <tr>\n",
       "      <th>9242987</th>\n",
       "      <td>21</td>\n",
       "      <td>rs1569175255</td>\n",
       "      <td>46699872</td>\n",
       "      <td>A</td>\n",
       "      <td>[AA]</td>\n",
       "      <td>insertion</td>\n",
       "      <td>NaN</td>\n",
       "    </tr>\n",
       "    <tr>\n",
       "      <th>9242988</th>\n",
       "      <td>21</td>\n",
       "      <td>rs1443541773</td>\n",
       "      <td>46699873</td>\n",
       "      <td>G</td>\n",
       "      <td>[GCT]</td>\n",
       "      <td>insertion</td>\n",
       "      <td>NaN</td>\n",
       "    </tr>\n",
       "    <tr>\n",
       "      <th>9243039</th>\n",
       "      <td>21</td>\n",
       "      <td>rs796884542</td>\n",
       "      <td>46699905</td>\n",
       "      <td>G</td>\n",
       "      <td>[GGTTAGGGT]</td>\n",
       "      <td>insertion</td>\n",
       "      <td>NaN</td>\n",
       "    </tr>\n",
       "    <tr>\n",
       "      <th>9243097</th>\n",
       "      <td>21</td>\n",
       "      <td>rs1569175321</td>\n",
       "      <td>46699955</td>\n",
       "      <td>T</td>\n",
       "      <td>[TA, TAA, TAAGGGTTAA, TAG, TAGGGTA]</td>\n",
       "      <td>insertion</td>\n",
       "      <td>NaN</td>\n",
       "    </tr>\n",
       "  </tbody>\n",
       "</table>\n",
       "<p>54562 rows × 7 columns</p>\n",
       "</div>"
      ],
      "text/plain": [
       "        CHROM            ID       POS REF  \\\n",
       "449        21  rs1568756826   5032969   A   \n",
       "506        21  rs1339717783   5033367   C   \n",
       "507        21  rs1286929552   5033369   C   \n",
       "1431       21  rs1350039135   5043821   T   \n",
       "1768       21  rs1442408011   5051295   C   \n",
       "...       ...           ...       ...  ..   \n",
       "9242975    21  rs1569175235  46699870   T   \n",
       "9242987    21  rs1569175255  46699872   A   \n",
       "9242988    21  rs1443541773  46699873   G   \n",
       "9243039    21   rs796884542  46699905   G   \n",
       "9243097    21  rs1569175321  46699955   T   \n",
       "\n",
       "                                                ALT        TSA  MAF  \n",
       "449                                      [ACAGTGAG]  insertion  NaN  \n",
       "506                                            [CT]  insertion  NaN  \n",
       "507                                        [CA, CT]  insertion  NaN  \n",
       "1431     [TTCCTCCTCTCCTCCTCTCCTCCTCCTCCTCCTCCCTCCT]  insertion  NaN  \n",
       "1768                                     [CAT, CGT]  insertion  NaN  \n",
       "...                                             ...        ...  ...  \n",
       "9242975                                        [TG]  insertion  NaN  \n",
       "9242987                                        [AA]  insertion  NaN  \n",
       "9242988                                       [GCT]  insertion  NaN  \n",
       "9243039                                 [GGTTAGGGT]  insertion  NaN  \n",
       "9243097         [TA, TAA, TAAGGGTTAA, TAG, TAGGGTA]  insertion  NaN  \n",
       "\n",
       "[54562 rows x 7 columns]"
      ]
     },
     "execution_count": 15,
     "metadata": {},
     "output_type": "execute_result"
    }
   ],
   "source": [
    "chr21_variation[chr21_variation.TSA == 'insertion']"
   ]
  },
  {
   "cell_type": "code",
   "execution_count": null,
   "metadata": {},
   "outputs": [],
   "source": []
  },
  {
   "cell_type": "code",
   "execution_count": null,
   "metadata": {},
   "outputs": [],
   "source": []
  },
  {
   "cell_type": "markdown",
   "metadata": {},
   "source": [
    "## Import the reference genome information"
   ]
  },
  {
   "cell_type": "code",
   "execution_count": 17,
   "metadata": {
    "tags": []
   },
   "outputs": [],
   "source": [
    "# Save reference genome path and the record in variables\n",
    "reference_genome_path = \"/mnt/sda1/Databases/Reference Genome/GRCh38p14/Ensembl/Homo_sapiens.GRCh38.dna.primary_assembly.fa\"\n",
    "reference_genome = SeqIO.index(reference_genome_path,\"fasta\")"
   ]
  },
  {
   "cell_type": "code",
   "execution_count": 19,
   "metadata": {
    "tags": []
   },
   "outputs": [
    {
     "data": {
      "text/plain": [
       "['1',\n",
       " '10',\n",
       " '11',\n",
       " '12',\n",
       " '13',\n",
       " '14',\n",
       " '15',\n",
       " '16',\n",
       " '17',\n",
       " '18',\n",
       " '19',\n",
       " '2',\n",
       " '20',\n",
       " '21',\n",
       " '22',\n",
       " '3',\n",
       " '4',\n",
       " '5',\n",
       " '6',\n",
       " '7',\n",
       " '8',\n",
       " '9',\n",
       " 'MT',\n",
       " 'X',\n",
       " 'Y',\n",
       " 'KI270728.1',\n",
       " 'KI270727.1',\n",
       " 'KI270442.1',\n",
       " 'KI270729.1',\n",
       " 'GL000225.1',\n",
       " 'KI270743.1',\n",
       " 'GL000008.2',\n",
       " 'GL000009.2',\n",
       " 'KI270747.1',\n",
       " 'KI270722.1',\n",
       " 'GL000194.1',\n",
       " 'KI270742.1',\n",
       " 'GL000205.2',\n",
       " 'GL000195.1',\n",
       " 'KI270736.1',\n",
       " 'KI270733.1',\n",
       " 'GL000224.1',\n",
       " 'GL000219.1',\n",
       " 'KI270719.1',\n",
       " 'GL000216.2',\n",
       " 'KI270712.1',\n",
       " 'KI270706.1',\n",
       " 'KI270725.1',\n",
       " 'KI270744.1',\n",
       " 'KI270734.1',\n",
       " 'GL000213.1',\n",
       " 'GL000220.1',\n",
       " 'KI270715.1',\n",
       " 'GL000218.1',\n",
       " 'KI270749.1',\n",
       " 'KI270741.1',\n",
       " 'GL000221.1',\n",
       " 'KI270716.1',\n",
       " 'KI270731.1',\n",
       " 'KI270751.1',\n",
       " 'KI270750.1',\n",
       " 'KI270519.1',\n",
       " 'GL000214.1',\n",
       " 'KI270708.1',\n",
       " 'KI270730.1',\n",
       " 'KI270438.1',\n",
       " 'KI270737.1',\n",
       " 'KI270721.1',\n",
       " 'KI270738.1',\n",
       " 'KI270748.1',\n",
       " 'KI270435.1',\n",
       " 'GL000208.1',\n",
       " 'KI270538.1',\n",
       " 'KI270756.1',\n",
       " 'KI270739.1',\n",
       " 'KI270757.1',\n",
       " 'KI270709.1',\n",
       " 'KI270746.1',\n",
       " 'KI270753.1',\n",
       " 'KI270589.1',\n",
       " 'KI270726.1',\n",
       " 'KI270735.1',\n",
       " 'KI270711.1',\n",
       " 'KI270745.1',\n",
       " 'KI270714.1',\n",
       " 'KI270732.1',\n",
       " 'KI270713.1',\n",
       " 'KI270754.1',\n",
       " 'KI270710.1',\n",
       " 'KI270717.1',\n",
       " 'KI270724.1',\n",
       " 'KI270720.1',\n",
       " 'KI270723.1',\n",
       " 'KI270718.1',\n",
       " 'KI270317.1',\n",
       " 'KI270740.1',\n",
       " 'KI270755.1',\n",
       " 'KI270707.1',\n",
       " 'KI270579.1',\n",
       " 'KI270752.1',\n",
       " 'KI270512.1',\n",
       " 'KI270322.1',\n",
       " 'GL000226.1',\n",
       " 'KI270311.1',\n",
       " 'KI270366.1',\n",
       " 'KI270511.1',\n",
       " 'KI270448.1',\n",
       " 'KI270521.1',\n",
       " 'KI270581.1',\n",
       " 'KI270582.1',\n",
       " 'KI270515.1',\n",
       " 'KI270588.1',\n",
       " 'KI270591.1',\n",
       " 'KI270522.1',\n",
       " 'KI270507.1',\n",
       " 'KI270590.1',\n",
       " 'KI270584.1',\n",
       " 'KI270320.1',\n",
       " 'KI270382.1',\n",
       " 'KI270468.1',\n",
       " 'KI270467.1',\n",
       " 'KI270362.1',\n",
       " 'KI270517.1',\n",
       " 'KI270593.1',\n",
       " 'KI270528.1',\n",
       " 'KI270587.1',\n",
       " 'KI270364.1',\n",
       " 'KI270371.1',\n",
       " 'KI270333.1',\n",
       " 'KI270374.1',\n",
       " 'KI270411.1',\n",
       " 'KI270414.1',\n",
       " 'KI270510.1',\n",
       " 'KI270390.1',\n",
       " 'KI270375.1',\n",
       " 'KI270420.1',\n",
       " 'KI270509.1',\n",
       " 'KI270315.1',\n",
       " 'KI270302.1',\n",
       " 'KI270518.1',\n",
       " 'KI270530.1',\n",
       " 'KI270304.1',\n",
       " 'KI270418.1',\n",
       " 'KI270424.1',\n",
       " 'KI270417.1',\n",
       " 'KI270508.1',\n",
       " 'KI270303.1',\n",
       " 'KI270381.1',\n",
       " 'KI270529.1',\n",
       " 'KI270425.1',\n",
       " 'KI270396.1',\n",
       " 'KI270363.1',\n",
       " 'KI270386.1',\n",
       " 'KI270465.1',\n",
       " 'KI270383.1',\n",
       " 'KI270384.1',\n",
       " 'KI270330.1',\n",
       " 'KI270372.1',\n",
       " 'KI270548.1',\n",
       " 'KI270580.1',\n",
       " 'KI270387.1',\n",
       " 'KI270391.1',\n",
       " 'KI270305.1',\n",
       " 'KI270373.1',\n",
       " 'KI270422.1',\n",
       " 'KI270316.1',\n",
       " 'KI270340.1',\n",
       " 'KI270338.1',\n",
       " 'KI270583.1',\n",
       " 'KI270334.1',\n",
       " 'KI270429.1',\n",
       " 'KI270393.1',\n",
       " 'KI270516.1',\n",
       " 'KI270389.1',\n",
       " 'KI270466.1',\n",
       " 'KI270388.1',\n",
       " 'KI270544.1',\n",
       " 'KI270310.1',\n",
       " 'KI270412.1',\n",
       " 'KI270395.1',\n",
       " 'KI270376.1',\n",
       " 'KI270337.1',\n",
       " 'KI270335.1',\n",
       " 'KI270378.1',\n",
       " 'KI270379.1',\n",
       " 'KI270329.1',\n",
       " 'KI270419.1',\n",
       " 'KI270336.1',\n",
       " 'KI270312.1',\n",
       " 'KI270539.1',\n",
       " 'KI270385.1',\n",
       " 'KI270423.1',\n",
       " 'KI270392.1',\n",
       " 'KI270394.1']"
      ]
     },
     "execution_count": 19,
     "metadata": {},
     "output_type": "execute_result"
    }
   ],
   "source": [
    "# Extract the SeqRecord of the chromosomes into a dict and then put them into a dataframe\n",
    "reference_genome_keys = list(reference_genome.keys())\n",
    "reference_genome_keys"
   ]
  },
  {
   "cell_type": "code",
   "execution_count": 20,
   "metadata": {
    "tags": []
   },
   "outputs": [
    {
     "data": {
      "text/plain": [
       "SeqRecord(seq=Seq('NNNNNNNNNNNNNNNNNNNNNNNNNNNNNNNNNNNNNNNNNNNNNNNNNNNNNN...NNN'), id='21', name='21', description='21 dna:chromosome chromosome:GRCh38:21:1:46709983:1 REF', dbxrefs=[])"
      ]
     },
     "execution_count": 20,
     "metadata": {},
     "output_type": "execute_result"
    }
   ],
   "source": [
    "# Access to one resgister from the reference genome variable\n",
    "reference_genome['21']"
   ]
  },
  {
   "cell_type": "code",
   "execution_count": 21,
   "metadata": {},
   "outputs": [],
   "source": [
    "ref_items = dict(reference_genome.items())\n",
    "# Is it worth to save this object in a dataframe?"
   ]
  },
  {
   "cell_type": "code",
   "execution_count": 21,
   "metadata": {
    "tags": []
   },
   "outputs": [
    {
     "data": {
      "text/plain": [
       "SeqRecord(seq=Seq('NNNNNNNNNNNNNNNNNNNNNNNNNNNNNNNNNNNNNNNNNNNNNNNNNNNNNN...NNN'), id='21', name='21', description='21 dna:chromosome chromosome:GRCh38:21:1:46709983:1 REF', dbxrefs=[])"
      ]
     },
     "execution_count": 21,
     "metadata": {},
     "output_type": "execute_result"
    }
   ],
   "source": [
    "# Extract only the chromosome 21 information\n",
    "chr21_record = reference_genome['21']\n",
    "chr21_record"
   ]
  },
  {
   "cell_type": "code",
   "execution_count": 11,
   "metadata": {
    "tags": []
   },
   "outputs": [
    {
     "data": {
      "text/plain": [
       "['__add__',\n",
       " '__bool__',\n",
       " '__bytes__',\n",
       " '__class__',\n",
       " '__contains__',\n",
       " '__delattr__',\n",
       " '__dict__',\n",
       " '__dir__',\n",
       " '__doc__',\n",
       " '__eq__',\n",
       " '__format__',\n",
       " '__ge__',\n",
       " '__getattribute__',\n",
       " '__getitem__',\n",
       " '__gt__',\n",
       " '__hash__',\n",
       " '__init__',\n",
       " '__init_subclass__',\n",
       " '__iter__',\n",
       " '__le__',\n",
       " '__len__',\n",
       " '__lt__',\n",
       " '__module__',\n",
       " '__ne__',\n",
       " '__new__',\n",
       " '__radd__',\n",
       " '__reduce__',\n",
       " '__reduce_ex__',\n",
       " '__repr__',\n",
       " '__setattr__',\n",
       " '__sizeof__',\n",
       " '__str__',\n",
       " '__subclasshook__',\n",
       " '__weakref__',\n",
       " '_per_letter_annotations',\n",
       " '_seq',\n",
       " '_set_per_letter_annotations',\n",
       " '_set_seq',\n",
       " 'annotations',\n",
       " 'count',\n",
       " 'dbxrefs',\n",
       " 'description',\n",
       " 'features',\n",
       " 'format',\n",
       " 'id',\n",
       " 'islower',\n",
       " 'isupper',\n",
       " 'letter_annotations',\n",
       " 'lower',\n",
       " 'name',\n",
       " 'reverse_complement',\n",
       " 'seq',\n",
       " 'translate',\n",
       " 'upper']"
      ]
     },
     "execution_count": 11,
     "metadata": {},
     "output_type": "execute_result"
    }
   ],
   "source": [
    "dir(chr21_record)"
   ]
  },
  {
   "cell_type": "markdown",
   "metadata": {},
   "source": [
    "We are interested mostly in the `seq` object. Let's see if the information from the variation data and the reference genome match."
   ]
  },
  {
   "cell_type": "code",
   "execution_count": 12,
   "metadata": {
    "tags": []
   },
   "outputs": [
    {
     "data": {
      "text/plain": [
       "Seq('NNNNNNNNNNNNNNNNNNNNNNNNNNNNNNNNNNNNNNNNNNNNNNNNNNNNNN...NNN')"
      ]
     },
     "execution_count": 12,
     "metadata": {},
     "output_type": "execute_result"
    }
   ],
   "source": [
    "chr21_sequence = chr21_record.seq\n",
    "chr21_sequence"
   ]
  },
  {
   "cell_type": "code",
   "execution_count": 13,
   "metadata": {
    "tags": []
   },
   "outputs": [
    {
     "data": {
      "text/plain": [
       "CHROM                                    21\n",
       "ID                             rs1173141359\n",
       "POS                                 5030105\n",
       "REF                                       C\n",
       "ALT                                     [A]\n",
       "TSA                                     SNV\n",
       "AA                                        C\n",
       "MAF                                     NaN\n",
       "MA                                      NaN\n",
       "MAC                                     NaN\n",
       "dbSNP_154                              True\n",
       "ClinVar_202301                          NaN\n",
       "HGMD-PUBLIC_20204                       NaN\n",
       "COSMIC_97                               NaN\n",
       "E_Cited                                 NaN\n",
       "E_Multiple_observations                 NaN\n",
       "E_Freq                                 True\n",
       "E_TOPMed                               True\n",
       "E_HapMap                                NaN\n",
       "E_phenotype_or_Disease                  NaN\n",
       "E_ESP                                   NaN\n",
       "E_gnomAD                                NaN\n",
       "E_1000G                                 NaN\n",
       "E_EaXC                                  NaN\n",
       "CLIN_risk_factor                        NaN\n",
       "CLIN_protective                         NaN\n",
       "CLIN_confers_sensitivity                NaN\n",
       "CLIN_other                              NaN\n",
       "CLIN_drug_response                      NaN\n",
       "CLIN_uncertain_significance             NaN\n",
       "CLIN_benign                             NaN\n",
       "CLIN_likely_pahtogenic                  NaN\n",
       "CLIN_pathogenic                         NaN\n",
       "CLIN_likely_benign                      NaN\n",
       "CLIN_histocompatibility                 NaN\n",
       "CLIN_not_provided                       NaN\n",
       "CLIN_association                        NaN\n",
       "E_Phenotype_or_Disease                  NaN\n",
       "E_ExAC                                  NaN\n",
       "CLIN_likely_pathogenic                  NaN\n",
       "Name: 0, dtype: object"
      ]
     },
     "execution_count": 13,
     "metadata": {},
     "output_type": "execute_result"
    }
   ],
   "source": [
    "variation_pos = chr21_variation.iloc[0]['POS']\n",
    "chr21_variation.iloc[0]"
   ]
  },
  {
   "cell_type": "code",
   "execution_count": 14,
   "metadata": {
    "tags": []
   },
   "outputs": [
    {
     "name": "stdout",
     "output_type": "stream",
     "text": [
      "Reference allele in position 5030105 is C and in the reference genome is C\n"
     ]
    }
   ],
   "source": [
    "# Check if the info matches. REF letter in the register and the reference genome have to match based on the position\n",
    "print(\"Reference allele in position {} is {} and in the reference genome is {}\".format(variation_pos, chr21_variation.iloc[0]['REF'],\n",
    "                                                                                       chr21_sequence[variation_pos-1]))"
   ]
  },
  {
   "cell_type": "code",
   "execution_count": 15,
   "metadata": {
    "tags": []
   },
   "outputs": [
    {
     "data": {
      "text/plain": [
       "Seq('CCTCCCAAAGT')"
      ]
     },
     "execution_count": 15,
     "metadata": {},
     "output_type": "execute_result"
    }
   ],
   "source": [
    "# Print subsequence 5 bases before and after the variant position specified in the chr21_variation dataframe\n",
    "chr21_sequence[variation_pos-6:variation_pos+5]"
   ]
  },
  {
   "cell_type": "markdown",
   "metadata": {},
   "source": [
    "They match!\n",
    "I also corroborated in the dbSNP database, in the genome browser."
   ]
  },
  {
   "cell_type": "code",
   "execution_count": 16,
   "metadata": {
    "tags": []
   },
   "outputs": [
    {
     "data": {
      "text/html": [
       "<div>\n",
       "<style scoped>\n",
       "    .dataframe tbody tr th:only-of-type {\n",
       "        vertical-align: middle;\n",
       "    }\n",
       "\n",
       "    .dataframe tbody tr th {\n",
       "        vertical-align: top;\n",
       "    }\n",
       "\n",
       "    .dataframe thead th {\n",
       "        text-align: right;\n",
       "    }\n",
       "</style>\n",
       "<table border=\"1\" class=\"dataframe\">\n",
       "  <thead>\n",
       "    <tr style=\"text-align: right;\">\n",
       "      <th></th>\n",
       "      <th>CHROM</th>\n",
       "      <th>ID</th>\n",
       "      <th>POS</th>\n",
       "      <th>REF</th>\n",
       "      <th>ALT</th>\n",
       "      <th>TSA</th>\n",
       "      <th>AA</th>\n",
       "      <th>MAF</th>\n",
       "      <th>MA</th>\n",
       "      <th>MAC</th>\n",
       "      <th>...</th>\n",
       "      <th>CLIN_benign</th>\n",
       "      <th>CLIN_likely_pahtogenic</th>\n",
       "      <th>CLIN_pathogenic</th>\n",
       "      <th>CLIN_likely_benign</th>\n",
       "      <th>CLIN_histocompatibility</th>\n",
       "      <th>CLIN_not_provided</th>\n",
       "      <th>CLIN_association</th>\n",
       "      <th>E_Phenotype_or_Disease</th>\n",
       "      <th>E_ExAC</th>\n",
       "      <th>CLIN_likely_pathogenic</th>\n",
       "    </tr>\n",
       "  </thead>\n",
       "  <tbody>\n",
       "    <tr>\n",
       "      <th>0</th>\n",
       "      <td>21</td>\n",
       "      <td>rs1173141359</td>\n",
       "      <td>5030105</td>\n",
       "      <td>C</td>\n",
       "      <td>[A]</td>\n",
       "      <td>SNV</td>\n",
       "      <td>C</td>\n",
       "      <td>NaN</td>\n",
       "      <td>NaN</td>\n",
       "      <td>NaN</td>\n",
       "      <td>...</td>\n",
       "      <td>NaN</td>\n",
       "      <td>NaN</td>\n",
       "      <td>NaN</td>\n",
       "      <td>NaN</td>\n",
       "      <td>NaN</td>\n",
       "      <td>NaN</td>\n",
       "      <td>NaN</td>\n",
       "      <td>NaN</td>\n",
       "      <td>NaN</td>\n",
       "      <td>NaN</td>\n",
       "    </tr>\n",
       "    <tr>\n",
       "      <th>1</th>\n",
       "      <td>21</td>\n",
       "      <td>rs1601770018</td>\n",
       "      <td>5030151</td>\n",
       "      <td>T</td>\n",
       "      <td>[G]</td>\n",
       "      <td>SNV</td>\n",
       "      <td>T</td>\n",
       "      <td>NaN</td>\n",
       "      <td>NaN</td>\n",
       "      <td>NaN</td>\n",
       "      <td>...</td>\n",
       "      <td>NaN</td>\n",
       "      <td>NaN</td>\n",
       "      <td>NaN</td>\n",
       "      <td>NaN</td>\n",
       "      <td>NaN</td>\n",
       "      <td>NaN</td>\n",
       "      <td>NaN</td>\n",
       "      <td>NaN</td>\n",
       "      <td>NaN</td>\n",
       "      <td>NaN</td>\n",
       "    </tr>\n",
       "    <tr>\n",
       "      <th>2</th>\n",
       "      <td>21</td>\n",
       "      <td>rs1461284410</td>\n",
       "      <td>5030154</td>\n",
       "      <td>T</td>\n",
       "      <td>[C]</td>\n",
       "      <td>SNV</td>\n",
       "      <td>T</td>\n",
       "      <td>NaN</td>\n",
       "      <td>NaN</td>\n",
       "      <td>NaN</td>\n",
       "      <td>...</td>\n",
       "      <td>NaN</td>\n",
       "      <td>NaN</td>\n",
       "      <td>NaN</td>\n",
       "      <td>NaN</td>\n",
       "      <td>NaN</td>\n",
       "      <td>NaN</td>\n",
       "      <td>NaN</td>\n",
       "      <td>NaN</td>\n",
       "      <td>NaN</td>\n",
       "      <td>NaN</td>\n",
       "    </tr>\n",
       "    <tr>\n",
       "      <th>3</th>\n",
       "      <td>21</td>\n",
       "      <td>rs1601770028</td>\n",
       "      <td>5030160</td>\n",
       "      <td>T</td>\n",
       "      <td>[A]</td>\n",
       "      <td>SNV</td>\n",
       "      <td>T</td>\n",
       "      <td>NaN</td>\n",
       "      <td>NaN</td>\n",
       "      <td>NaN</td>\n",
       "      <td>...</td>\n",
       "      <td>NaN</td>\n",
       "      <td>NaN</td>\n",
       "      <td>NaN</td>\n",
       "      <td>NaN</td>\n",
       "      <td>NaN</td>\n",
       "      <td>NaN</td>\n",
       "      <td>NaN</td>\n",
       "      <td>NaN</td>\n",
       "      <td>NaN</td>\n",
       "      <td>NaN</td>\n",
       "    </tr>\n",
       "    <tr>\n",
       "      <th>4</th>\n",
       "      <td>21</td>\n",
       "      <td>rs1371194619</td>\n",
       "      <td>5030173</td>\n",
       "      <td>G</td>\n",
       "      <td>[C]</td>\n",
       "      <td>SNV</td>\n",
       "      <td>G</td>\n",
       "      <td>NaN</td>\n",
       "      <td>NaN</td>\n",
       "      <td>NaN</td>\n",
       "      <td>...</td>\n",
       "      <td>NaN</td>\n",
       "      <td>NaN</td>\n",
       "      <td>NaN</td>\n",
       "      <td>NaN</td>\n",
       "      <td>NaN</td>\n",
       "      <td>NaN</td>\n",
       "      <td>NaN</td>\n",
       "      <td>NaN</td>\n",
       "      <td>NaN</td>\n",
       "      <td>NaN</td>\n",
       "    </tr>\n",
       "  </tbody>\n",
       "</table>\n",
       "<p>5 rows × 40 columns</p>\n",
       "</div>"
      ],
      "text/plain": [
       "  CHROM            ID      POS REF  ALT  TSA AA  MAF   MA  MAC  ...  \\\n",
       "0    21  rs1173141359  5030105   C  [A]  SNV  C  NaN  NaN  NaN  ...   \n",
       "1    21  rs1601770018  5030151   T  [G]  SNV  T  NaN  NaN  NaN  ...   \n",
       "2    21  rs1461284410  5030154   T  [C]  SNV  T  NaN  NaN  NaN  ...   \n",
       "3    21  rs1601770028  5030160   T  [A]  SNV  T  NaN  NaN  NaN  ...   \n",
       "4    21  rs1371194619  5030173   G  [C]  SNV  G  NaN  NaN  NaN  ...   \n",
       "\n",
       "  CLIN_benign CLIN_likely_pahtogenic CLIN_pathogenic  CLIN_likely_benign  \\\n",
       "0         NaN                    NaN             NaN                 NaN   \n",
       "1         NaN                    NaN             NaN                 NaN   \n",
       "2         NaN                    NaN             NaN                 NaN   \n",
       "3         NaN                    NaN             NaN                 NaN   \n",
       "4         NaN                    NaN             NaN                 NaN   \n",
       "\n",
       "  CLIN_histocompatibility  CLIN_not_provided CLIN_association  \\\n",
       "0                     NaN                NaN              NaN   \n",
       "1                     NaN                NaN              NaN   \n",
       "2                     NaN                NaN              NaN   \n",
       "3                     NaN                NaN              NaN   \n",
       "4                     NaN                NaN              NaN   \n",
       "\n",
       "  E_Phenotype_or_Disease  E_ExAC  CLIN_likely_pathogenic  \n",
       "0                    NaN     NaN                     NaN  \n",
       "1                    NaN     NaN                     NaN  \n",
       "2                    NaN     NaN                     NaN  \n",
       "3                    NaN     NaN                     NaN  \n",
       "4                    NaN     NaN                     NaN  \n",
       "\n",
       "[5 rows x 40 columns]"
      ]
     },
     "execution_count": 16,
     "metadata": {},
     "output_type": "execute_result"
    }
   ],
   "source": [
    "# Let's start with the SNPs because they are the simplest variants to put into the reference genome\n",
    "chr21_snps = chr21_variation.copy(deep = True)\n",
    "chr21_snps = chr21_snps[chr21_snps['TSA']=='SNV'] # TSA stands for Type of Sequence Alteration\n",
    "chr21_snps.head()"
   ]
  },
  {
   "cell_type": "code",
   "execution_count": 17,
   "metadata": {
    "tags": []
   },
   "outputs": [
    {
     "data": {
      "text/html": [
       "<div>\n",
       "<style scoped>\n",
       "    .dataframe tbody tr th:only-of-type {\n",
       "        vertical-align: middle;\n",
       "    }\n",
       "\n",
       "    .dataframe tbody tr th {\n",
       "        vertical-align: top;\n",
       "    }\n",
       "\n",
       "    .dataframe thead th {\n",
       "        text-align: right;\n",
       "    }\n",
       "</style>\n",
       "<table border=\"1\" class=\"dataframe\">\n",
       "  <thead>\n",
       "    <tr style=\"text-align: right;\">\n",
       "      <th></th>\n",
       "      <th>CHROM</th>\n",
       "      <th>ID</th>\n",
       "      <th>POS</th>\n",
       "      <th>REF</th>\n",
       "      <th>ALT</th>\n",
       "      <th>TSA</th>\n",
       "      <th>AA</th>\n",
       "      <th>MAF</th>\n",
       "      <th>MA</th>\n",
       "      <th>MAC</th>\n",
       "      <th>...</th>\n",
       "      <th>CLIN_benign</th>\n",
       "      <th>CLIN_likely_pahtogenic</th>\n",
       "      <th>CLIN_pathogenic</th>\n",
       "      <th>CLIN_likely_benign</th>\n",
       "      <th>CLIN_histocompatibility</th>\n",
       "      <th>CLIN_not_provided</th>\n",
       "      <th>CLIN_association</th>\n",
       "      <th>E_Phenotype_or_Disease</th>\n",
       "      <th>E_ExAC</th>\n",
       "      <th>CLIN_likely_pathogenic</th>\n",
       "    </tr>\n",
       "  </thead>\n",
       "  <tbody>\n",
       "    <tr>\n",
       "      <th>9243112</th>\n",
       "      <td>21</td>\n",
       "      <td>rs1302396446</td>\n",
       "      <td>46699976</td>\n",
       "      <td>G</td>\n",
       "      <td>[A]</td>\n",
       "      <td>SNV</td>\n",
       "      <td>NaN</td>\n",
       "      <td>NaN</td>\n",
       "      <td>NaN</td>\n",
       "      <td>NaN</td>\n",
       "      <td>...</td>\n",
       "      <td>NaN</td>\n",
       "      <td>NaN</td>\n",
       "      <td>NaN</td>\n",
       "      <td>NaN</td>\n",
       "      <td>NaN</td>\n",
       "      <td>NaN</td>\n",
       "      <td>NaN</td>\n",
       "      <td>NaN</td>\n",
       "      <td>NaN</td>\n",
       "      <td>NaN</td>\n",
       "    </tr>\n",
       "    <tr>\n",
       "      <th>9243113</th>\n",
       "      <td>21</td>\n",
       "      <td>rs1388937426</td>\n",
       "      <td>46699978</td>\n",
       "      <td>T</td>\n",
       "      <td>[C, G]</td>\n",
       "      <td>SNV</td>\n",
       "      <td>NaN</td>\n",
       "      <td>NaN</td>\n",
       "      <td>NaN</td>\n",
       "      <td>NaN</td>\n",
       "      <td>...</td>\n",
       "      <td>NaN</td>\n",
       "      <td>NaN</td>\n",
       "      <td>NaN</td>\n",
       "      <td>NaN</td>\n",
       "      <td>NaN</td>\n",
       "      <td>NaN</td>\n",
       "      <td>NaN</td>\n",
       "      <td>NaN</td>\n",
       "      <td>NaN</td>\n",
       "      <td>NaN</td>\n",
       "    </tr>\n",
       "    <tr>\n",
       "      <th>9243114</th>\n",
       "      <td>21</td>\n",
       "      <td>rs1347178542</td>\n",
       "      <td>46699979</td>\n",
       "      <td>T</td>\n",
       "      <td>[A, G]</td>\n",
       "      <td>SNV</td>\n",
       "      <td>NaN</td>\n",
       "      <td>NaN</td>\n",
       "      <td>NaN</td>\n",
       "      <td>NaN</td>\n",
       "      <td>...</td>\n",
       "      <td>NaN</td>\n",
       "      <td>NaN</td>\n",
       "      <td>NaN</td>\n",
       "      <td>NaN</td>\n",
       "      <td>NaN</td>\n",
       "      <td>NaN</td>\n",
       "      <td>NaN</td>\n",
       "      <td>NaN</td>\n",
       "      <td>NaN</td>\n",
       "      <td>NaN</td>\n",
       "    </tr>\n",
       "    <tr>\n",
       "      <th>9243115</th>\n",
       "      <td>21</td>\n",
       "      <td>rs1601974205</td>\n",
       "      <td>46699980</td>\n",
       "      <td>A</td>\n",
       "      <td>[G]</td>\n",
       "      <td>SNV</td>\n",
       "      <td>NaN</td>\n",
       "      <td>NaN</td>\n",
       "      <td>NaN</td>\n",
       "      <td>NaN</td>\n",
       "      <td>...</td>\n",
       "      <td>NaN</td>\n",
       "      <td>NaN</td>\n",
       "      <td>NaN</td>\n",
       "      <td>NaN</td>\n",
       "      <td>NaN</td>\n",
       "      <td>NaN</td>\n",
       "      <td>NaN</td>\n",
       "      <td>NaN</td>\n",
       "      <td>NaN</td>\n",
       "      <td>NaN</td>\n",
       "    </tr>\n",
       "    <tr>\n",
       "      <th>9243116</th>\n",
       "      <td>21</td>\n",
       "      <td>rs1601974207</td>\n",
       "      <td>46699981</td>\n",
       "      <td>G</td>\n",
       "      <td>[A]</td>\n",
       "      <td>SNV</td>\n",
       "      <td>NaN</td>\n",
       "      <td>NaN</td>\n",
       "      <td>NaN</td>\n",
       "      <td>NaN</td>\n",
       "      <td>...</td>\n",
       "      <td>NaN</td>\n",
       "      <td>NaN</td>\n",
       "      <td>NaN</td>\n",
       "      <td>NaN</td>\n",
       "      <td>NaN</td>\n",
       "      <td>NaN</td>\n",
       "      <td>NaN</td>\n",
       "      <td>NaN</td>\n",
       "      <td>NaN</td>\n",
       "      <td>NaN</td>\n",
       "    </tr>\n",
       "  </tbody>\n",
       "</table>\n",
       "<p>5 rows × 40 columns</p>\n",
       "</div>"
      ],
      "text/plain": [
       "        CHROM            ID       POS REF     ALT  TSA   AA  MAF   MA  MAC  \\\n",
       "9243112    21  rs1302396446  46699976   G     [A]  SNV  NaN  NaN  NaN  NaN   \n",
       "9243113    21  rs1388937426  46699978   T  [C, G]  SNV  NaN  NaN  NaN  NaN   \n",
       "9243114    21  rs1347178542  46699979   T  [A, G]  SNV  NaN  NaN  NaN  NaN   \n",
       "9243115    21  rs1601974205  46699980   A     [G]  SNV  NaN  NaN  NaN  NaN   \n",
       "9243116    21  rs1601974207  46699981   G     [A]  SNV  NaN  NaN  NaN  NaN   \n",
       "\n",
       "         ... CLIN_benign CLIN_likely_pahtogenic CLIN_pathogenic  \\\n",
       "9243112  ...         NaN                    NaN             NaN   \n",
       "9243113  ...         NaN                    NaN             NaN   \n",
       "9243114  ...         NaN                    NaN             NaN   \n",
       "9243115  ...         NaN                    NaN             NaN   \n",
       "9243116  ...         NaN                    NaN             NaN   \n",
       "\n",
       "         CLIN_likely_benign CLIN_histocompatibility  CLIN_not_provided  \\\n",
       "9243112                 NaN                     NaN                NaN   \n",
       "9243113                 NaN                     NaN                NaN   \n",
       "9243114                 NaN                     NaN                NaN   \n",
       "9243115                 NaN                     NaN                NaN   \n",
       "9243116                 NaN                     NaN                NaN   \n",
       "\n",
       "        CLIN_association E_Phenotype_or_Disease  E_ExAC  \\\n",
       "9243112              NaN                    NaN     NaN   \n",
       "9243113              NaN                    NaN     NaN   \n",
       "9243114              NaN                    NaN     NaN   \n",
       "9243115              NaN                    NaN     NaN   \n",
       "9243116              NaN                    NaN     NaN   \n",
       "\n",
       "         CLIN_likely_pathogenic  \n",
       "9243112                     NaN  \n",
       "9243113                     NaN  \n",
       "9243114                     NaN  \n",
       "9243115                     NaN  \n",
       "9243116                     NaN  \n",
       "\n",
       "[5 rows x 40 columns]"
      ]
     },
     "execution_count": 17,
     "metadata": {},
     "output_type": "execute_result"
    }
   ],
   "source": [
    "chr21_snps.tail()"
   ]
  },
  {
   "cell_type": "code",
   "execution_count": 18,
   "metadata": {
    "tags": []
   },
   "outputs": [
    {
     "data": {
      "text/plain": [
       "'A'"
      ]
     },
     "execution_count": 18,
     "metadata": {},
     "output_type": "execute_result"
    }
   ],
   "source": [
    "str(chr21_snps.iloc[0]['ALT'][0])"
   ]
  },
  {
   "cell_type": "markdown",
   "metadata": {},
   "source": [
    "## Simulate mutations in reference genome\n",
    "To do this we have to turn the sequences into `MutableSeq` objects and replace the reference alleles with the ones specified in the `ALT` column from the `chr21_snps` dataframe.\n",
    "In this case we want to create sequences of 128 bases length."
   ]
  },
  {
   "cell_type": "code",
   "execution_count": 19,
   "metadata": {
    "tags": []
   },
   "outputs": [],
   "source": [
    "# Test with 5 bases before and after the mutation site\n",
    "# For first snp register:\n",
    "mutable_chr21 = MutableSeq(chr21_record.seq) #Uncomment\n",
    "mutable_chr21[chr21_snps.iloc[0]['POS']-1] = str(chr21_snps.iloc[0]['ALT'][0]) # Replace in the mutable sequence the REF base with the ALT one\n",
    "rs_end_1359 = mutable_chr21[chr21_snps.iloc[0]['POS']-64:chr21_snps.iloc[0]['POS']+64] # Take "
   ]
  },
  {
   "cell_type": "code",
   "execution_count": 20,
   "metadata": {
    "tags": []
   },
   "outputs": [
    {
     "data": {
      "text/plain": [
       "128"
      ]
     },
     "execution_count": 20,
     "metadata": {},
     "output_type": "execute_result"
    }
   ],
   "source": [
    "len(rs_end_1359)"
   ]
  },
  {
   "cell_type": "code",
   "execution_count": 21,
   "metadata": {
    "tags": []
   },
   "outputs": [
    {
     "data": {
      "text/plain": [
       "MutableSeq('CACTGTGTTGCCCAGGCTAGATTCAAGCTCCTGGACACAAGCGATGCTCCTGCC...TGA')"
      ]
     },
     "execution_count": 21,
     "metadata": {},
     "output_type": "execute_result"
    }
   ],
   "source": [
    "rs_end_1359"
   ]
  },
  {
   "cell_type": "markdown",
   "metadata": {},
   "source": [
    "To create automatically the sequences for every register we will have to turn the sequences into a `MutableSeq` every time, because some variants are close to each other and we don't want to create sequences with multiple variants within it.\n",
    "As well, we have to create and save them in an interpretable way. We are including the following information about every subsequence:\n",
    "* Start and end coordinates of the subsequence relative to the reference genome\n",
    "* Variant position relative to the reference genome\n",
    "* Type of alteration"
   ]
  },
  {
   "cell_type": "code",
   "execution_count": 20,
   "metadata": {
    "tags": []
   },
   "outputs": [
    {
     "data": {
      "text/html": [
       "<div>\n",
       "<style scoped>\n",
       "    .dataframe tbody tr th:only-of-type {\n",
       "        vertical-align: middle;\n",
       "    }\n",
       "\n",
       "    .dataframe tbody tr th {\n",
       "        vertical-align: top;\n",
       "    }\n",
       "\n",
       "    .dataframe thead th {\n",
       "        text-align: right;\n",
       "    }\n",
       "</style>\n",
       "<table border=\"1\" class=\"dataframe\">\n",
       "  <thead>\n",
       "    <tr style=\"text-align: right;\">\n",
       "      <th></th>\n",
       "      <th>CHROM</th>\n",
       "      <th>ID</th>\n",
       "      <th>POS</th>\n",
       "      <th>REF</th>\n",
       "      <th>ALT</th>\n",
       "      <th>TSA</th>\n",
       "      <th>AA</th>\n",
       "      <th>MAF</th>\n",
       "      <th>MA</th>\n",
       "      <th>MAC</th>\n",
       "      <th>...</th>\n",
       "      <th>CLIN_benign</th>\n",
       "      <th>CLIN_likely_pahtogenic</th>\n",
       "      <th>CLIN_pathogenic</th>\n",
       "      <th>CLIN_likely_benign</th>\n",
       "      <th>CLIN_histocompatibility</th>\n",
       "      <th>CLIN_not_provided</th>\n",
       "      <th>CLIN_association</th>\n",
       "      <th>E_Phenotype_or_Disease</th>\n",
       "      <th>E_ExAC</th>\n",
       "      <th>CLIN_likely_pathogenic</th>\n",
       "    </tr>\n",
       "  </thead>\n",
       "  <tbody>\n",
       "    <tr>\n",
       "      <th>0</th>\n",
       "      <td>21</td>\n",
       "      <td>rs1173141359</td>\n",
       "      <td>5030105</td>\n",
       "      <td>C</td>\n",
       "      <td>[A]</td>\n",
       "      <td>SNV</td>\n",
       "      <td>C</td>\n",
       "      <td>NaN</td>\n",
       "      <td>NaN</td>\n",
       "      <td>NaN</td>\n",
       "      <td>...</td>\n",
       "      <td>NaN</td>\n",
       "      <td>NaN</td>\n",
       "      <td>NaN</td>\n",
       "      <td>NaN</td>\n",
       "      <td>NaN</td>\n",
       "      <td>NaN</td>\n",
       "      <td>NaN</td>\n",
       "      <td>NaN</td>\n",
       "      <td>NaN</td>\n",
       "      <td>NaN</td>\n",
       "    </tr>\n",
       "    <tr>\n",
       "      <th>1</th>\n",
       "      <td>21</td>\n",
       "      <td>rs1601770018</td>\n",
       "      <td>5030151</td>\n",
       "      <td>T</td>\n",
       "      <td>[G]</td>\n",
       "      <td>SNV</td>\n",
       "      <td>T</td>\n",
       "      <td>NaN</td>\n",
       "      <td>NaN</td>\n",
       "      <td>NaN</td>\n",
       "      <td>...</td>\n",
       "      <td>NaN</td>\n",
       "      <td>NaN</td>\n",
       "      <td>NaN</td>\n",
       "      <td>NaN</td>\n",
       "      <td>NaN</td>\n",
       "      <td>NaN</td>\n",
       "      <td>NaN</td>\n",
       "      <td>NaN</td>\n",
       "      <td>NaN</td>\n",
       "      <td>NaN</td>\n",
       "    </tr>\n",
       "    <tr>\n",
       "      <th>2</th>\n",
       "      <td>21</td>\n",
       "      <td>rs1461284410</td>\n",
       "      <td>5030154</td>\n",
       "      <td>T</td>\n",
       "      <td>[C]</td>\n",
       "      <td>SNV</td>\n",
       "      <td>T</td>\n",
       "      <td>NaN</td>\n",
       "      <td>NaN</td>\n",
       "      <td>NaN</td>\n",
       "      <td>...</td>\n",
       "      <td>NaN</td>\n",
       "      <td>NaN</td>\n",
       "      <td>NaN</td>\n",
       "      <td>NaN</td>\n",
       "      <td>NaN</td>\n",
       "      <td>NaN</td>\n",
       "      <td>NaN</td>\n",
       "      <td>NaN</td>\n",
       "      <td>NaN</td>\n",
       "      <td>NaN</td>\n",
       "    </tr>\n",
       "    <tr>\n",
       "      <th>3</th>\n",
       "      <td>21</td>\n",
       "      <td>rs1601770028</td>\n",
       "      <td>5030160</td>\n",
       "      <td>T</td>\n",
       "      <td>[A]</td>\n",
       "      <td>SNV</td>\n",
       "      <td>T</td>\n",
       "      <td>NaN</td>\n",
       "      <td>NaN</td>\n",
       "      <td>NaN</td>\n",
       "      <td>...</td>\n",
       "      <td>NaN</td>\n",
       "      <td>NaN</td>\n",
       "      <td>NaN</td>\n",
       "      <td>NaN</td>\n",
       "      <td>NaN</td>\n",
       "      <td>NaN</td>\n",
       "      <td>NaN</td>\n",
       "      <td>NaN</td>\n",
       "      <td>NaN</td>\n",
       "      <td>NaN</td>\n",
       "    </tr>\n",
       "    <tr>\n",
       "      <th>4</th>\n",
       "      <td>21</td>\n",
       "      <td>rs1371194619</td>\n",
       "      <td>5030173</td>\n",
       "      <td>G</td>\n",
       "      <td>[C]</td>\n",
       "      <td>SNV</td>\n",
       "      <td>G</td>\n",
       "      <td>NaN</td>\n",
       "      <td>NaN</td>\n",
       "      <td>NaN</td>\n",
       "      <td>...</td>\n",
       "      <td>NaN</td>\n",
       "      <td>NaN</td>\n",
       "      <td>NaN</td>\n",
       "      <td>NaN</td>\n",
       "      <td>NaN</td>\n",
       "      <td>NaN</td>\n",
       "      <td>NaN</td>\n",
       "      <td>NaN</td>\n",
       "      <td>NaN</td>\n",
       "      <td>NaN</td>\n",
       "    </tr>\n",
       "  </tbody>\n",
       "</table>\n",
       "<p>5 rows × 40 columns</p>\n",
       "</div>"
      ],
      "text/plain": [
       "  CHROM            ID      POS REF  ALT  TSA AA  MAF   MA  MAC  ...  \\\n",
       "0    21  rs1173141359  5030105   C  [A]  SNV  C  NaN  NaN  NaN  ...   \n",
       "1    21  rs1601770018  5030151   T  [G]  SNV  T  NaN  NaN  NaN  ...   \n",
       "2    21  rs1461284410  5030154   T  [C]  SNV  T  NaN  NaN  NaN  ...   \n",
       "3    21  rs1601770028  5030160   T  [A]  SNV  T  NaN  NaN  NaN  ...   \n",
       "4    21  rs1371194619  5030173   G  [C]  SNV  G  NaN  NaN  NaN  ...   \n",
       "\n",
       "  CLIN_benign CLIN_likely_pahtogenic CLIN_pathogenic  CLIN_likely_benign  \\\n",
       "0         NaN                    NaN             NaN                 NaN   \n",
       "1         NaN                    NaN             NaN                 NaN   \n",
       "2         NaN                    NaN             NaN                 NaN   \n",
       "3         NaN                    NaN             NaN                 NaN   \n",
       "4         NaN                    NaN             NaN                 NaN   \n",
       "\n",
       "  CLIN_histocompatibility  CLIN_not_provided CLIN_association  \\\n",
       "0                     NaN                NaN              NaN   \n",
       "1                     NaN                NaN              NaN   \n",
       "2                     NaN                NaN              NaN   \n",
       "3                     NaN                NaN              NaN   \n",
       "4                     NaN                NaN              NaN   \n",
       "\n",
       "  E_Phenotype_or_Disease  E_ExAC  CLIN_likely_pathogenic  \n",
       "0                    NaN     NaN                     NaN  \n",
       "1                    NaN     NaN                     NaN  \n",
       "2                    NaN     NaN                     NaN  \n",
       "3                    NaN     NaN                     NaN  \n",
       "4                    NaN     NaN                     NaN  \n",
       "\n",
       "[5 rows x 40 columns]"
      ]
     },
     "execution_count": 20,
     "metadata": {},
     "output_type": "execute_result"
    }
   ],
   "source": [
    "# THIS WAS COMMENTED BECAUSE WE WERE DOING A TEST WITH A SUBSET OF THE DATA FIRST\n",
    "#test_snps = chr21_snps.iloc[0:5]\n",
    "#test_snps"
   ]
  },
  {
   "cell_type": "code",
   "execution_count": 67,
   "metadata": {
    "tags": []
   },
   "outputs": [],
   "source": [
    "# Create altered subsequences automatically (length 128)\n",
    "alt_sequences = {'CHROM': [], 'ID':[], 'REF_SEQ': [], 'ALT_SEQ': [], 'START_SUBSEQ':[], 'END_SUBSEQ':[], 'MUT_POS':[]}\n",
    "bases_before_after = 64 # This is the number of bases before and after the mutation site\n",
    "alt_alleles = list(chr21_snps.ALT)\n",
    "alt_pos = list(chr21_snps.POS)"
   ]
  },
  {
   "cell_type": "code",
   "execution_count": 61,
   "metadata": {
    "tags": []
   },
   "outputs": [
    {
     "data": {
      "text/plain": [
       "'A'"
      ]
     },
     "execution_count": 61,
     "metadata": {},
     "output_type": "execute_result"
    }
   ],
   "source": [
    "str(alt_alleles[0][0])"
   ]
  },
  {
   "cell_type": "code",
   "execution_count": null,
   "metadata": {
    "tags": []
   },
   "outputs": [],
   "source": [
    "for i in range(len(alt_alleles)):\n",
    "    ref_seq = MutableSeq(chr21_sequence)\n",
    "    start = alt_pos[i]-bases_before_after\n",
    "    end = alt_pos[i]+bases_before_after\n",
    "    alt_sequences['REF_SEQ'].append(Seq(ref_seq[start:end]))\n",
    "    ref_seq[alt_pos[i]-1] = str(alt_alleles[i][0])\n",
    "    alt_sequences['ALT_SEQ'].append(Seq(ref_seq[start:end]))\n",
    "    alt_sequences['START_SUBSEQ'].append(start)\n",
    "    alt_sequences['END_SUBSEQ'].append(end)\n",
    "\n",
    "alt_sequences['CHROM'] = list(chr21_snps.CHROM)\n",
    "alt_sequences['ID'] = list(chr21_snps.ID)\n",
    "alt_sequences['MUT_POS'] = list(chr21_snps.POS)"
   ]
  },
  {
   "cell_type": "code",
   "execution_count": 63,
   "metadata": {
    "tags": []
   },
   "outputs": [],
   "source": []
  },
  {
   "cell_type": "code",
   "execution_count": 64,
   "metadata": {
    "tags": []
   },
   "outputs": [
    {
     "data": {
      "text/plain": [
       "{'CHROM': ['21', '21', '21', '21', '21'],\n",
       " 'ID': ['rs1173141359',\n",
       "  'rs1601770018',\n",
       "  'rs1461284410',\n",
       "  'rs1601770028',\n",
       "  'rs1371194619'],\n",
       " 'REF_SEQ': [Seq('CACTGTGTTGCCCAGGCTAGATTCAAGCTCCTGGACACAAGCGATGCTCCTGCC...TGA'),\n",
       "  Seq('CTCCTGCCTAAGCCTCCCAAAGTGCTGAGATTACAGGTGTGAGCCACCACGTCC...AAA'),\n",
       "  Seq('CTGCCTAAGCCTCCCAAAGTGCTGAGATTACAGGTGTGAGCCACCACGTCCAAG...ATT'),\n",
       "  Seq('AAGCCTCCCAAAGTGCTGAGATTACAGGTGTGAGCCACCACGTCCAAGCTAGAG...GGC'),\n",
       "  Seq('TGCTGAGATTACAGGTGTGAGCCACCACGTCCAAGCTAGAGTTTTAAAAGTGAA...CTG')],\n",
       " 'ALT_SEQ': [Seq('CACTGTGTTGCCCAGGCTAGATTCAAGCTCCTGGACACAAGCGATGCTCCTGCC...TGA'),\n",
       "  Seq('CTCCTGCCTAAGCCTCCCAAAGTGCTGAGATTACAGGTGTGAGCCACCACGTCC...AAA'),\n",
       "  Seq('CTGCCTAAGCCTCCCAAAGTGCTGAGATTACAGGTGTGAGCCACCACGTCCAAG...ATT'),\n",
       "  Seq('AAGCCTCCCAAAGTGCTGAGATTACAGGTGTGAGCCACCACGTCCAAGCTAGAG...GGC'),\n",
       "  Seq('TGCTGAGATTACAGGTGTGAGCCACCACGTCCAAGCTAGAGTTTTAAAAGTGAA...CTG')],\n",
       " 'START_SUBSEQ': [5030041, 5030087, 5030090, 5030096, 5030109],\n",
       " 'END_SUBSEQ': [5030169, 5030215, 5030218, 5030224, 5030237],\n",
       " 'MUT_POS': [5030105, 5030151, 5030154, 5030160, 5030173]}"
      ]
     },
     "execution_count": 64,
     "metadata": {},
     "output_type": "execute_result"
    }
   ],
   "source": [
    "alt_sequences"
   ]
  },
  {
   "cell_type": "code",
   "execution_count": 66,
   "metadata": {
    "tags": []
   },
   "outputs": [
    {
     "data": {
      "text/plain": [
       "128"
      ]
     },
     "execution_count": 66,
     "metadata": {},
     "output_type": "execute_result"
    }
   ],
   "source": [
    "len(alt_sequences['REF_SEQ'][1])"
   ]
  },
  {
   "cell_type": "code",
   "execution_count": null,
   "metadata": {},
   "outputs": [],
   "source": []
  },
  {
   "cell_type": "code",
   "execution_count": null,
   "metadata": {},
   "outputs": [],
   "source": []
  },
  {
   "cell_type": "code",
   "execution_count": null,
   "metadata": {},
   "outputs": [],
   "source": []
  },
  {
   "cell_type": "code",
   "execution_count": null,
   "metadata": {},
   "outputs": [],
   "source": []
  },
  {
   "cell_type": "markdown",
   "metadata": {},
   "source": [
    "# Whole dataset"
   ]
  },
  {
   "cell_type": "code",
   "execution_count": 3,
   "metadata": {},
   "outputs": [],
   "source": [
    "#data_path = \"/home/msr/Documents/Databases/Ensembl Variation/homo_sapiens-chr21.vcf\"\n",
    "# Load paths were the data is stored\n",
    "ensembl_var_path = \"/mnt/sda1/Databases/Ensembl/Variation/110/homo_sapiens_somatic.vcf\"\n",
    "ensembl_grch38_path = \"/mnt/sda1/Databases/Reference Genome/GRCh38p14/Ensembl/Homo_sapiens.GRCh38.dna.primary_assembly.fa\"\n",
    "\n",
    "# Declare vcf reader\n",
    "vcf_reader = vcf.Reader(open(ensembl_var_path, mode = \"r\"))"
   ]
  },
  {
   "cell_type": "code",
   "execution_count": null,
   "metadata": {},
   "outputs": [],
   "source": [
    "# Create list with all the records\n",
    "for record in vcf_reader:\n",
    "    print(record)"
   ]
  }
 ],
 "metadata": {
  "kernelspec": {
   "display_name": "Python 3 (ipykernel)",
   "language": "python",
   "name": "python3"
  },
  "language_info": {
   "codemirror_mode": {
    "name": "ipython",
    "version": 3
   },
   "file_extension": ".py",
   "mimetype": "text/x-python",
   "name": "python",
   "nbconvert_exporter": "python",
   "pygments_lexer": "ipython3",
   "version": "3.10.12"
  }
 },
 "nbformat": 4,
 "nbformat_minor": 4
}
