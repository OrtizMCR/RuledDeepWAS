{
 "cells": [
  {
   "cell_type": "markdown",
   "metadata": {},
   "source": [
    "# Unused Code\n",
    "Here we will store the code that was not used for the tasks in the development and of the rule-based neural network."
   ]
  },
  {
   "cell_type": "markdown",
   "metadata": {},
   "source": [
    "## When attempting to create the data frame containing all the information and features in the INFO comlumn from the VCF files"
   ]
  },
  {
   "cell_type": "code",
   "execution_count": null,
   "metadata": {},
   "outputs": [],
   "source": [
    "# ATTEMPT 1: FAILED\n",
    "#--------------------------------------------------------------------------------------------------#\n",
    "#--------------------------------------------------------------------------------------------------#\n",
    "'''\n",
    "# Create an empty list to store DataFrames\n",
    "dfs = []\n",
    "\n",
    "# Loop through each data_list item\n",
    "for data_list in records:\n",
    "    # Create a dictionary to hold the values\n",
    "    data_dict = {}\n",
    "\n",
    "    # Loop through the column_names and data_list to fill the dictionary\n",
    "    for i, key in enumerate(column_names):\n",
    "        if i < len(data_list) - 2:  # Exclude last two items which are a list and a dictionary\n",
    "            data_dict[key] = data_list[i]\n",
    "\n",
    "    # Add the dictionary from the data_list to the data_dict\n",
    "    data_dict.update(data_list[-1])\n",
    "\n",
    "    # Create a DataFrame from the dictionary\n",
    "    df = pd.DataFrame(data_dict, index=[0])\n",
    "\n",
    "    # Append the DataFrame to the list\n",
    "    dfs.append(df)\n",
    "\n",
    "# Concatenate all DataFrames in the list\n",
    "final_df = pd.concat(dfs, ignore_index=True)\n",
    "'''"
   ]
  },
  {
   "cell_type": "code",
   "execution_count": null,
   "metadata": {},
   "outputs": [],
   "source": [
    "# ATTEMPT 2: Failed\n",
    "'''\n",
    "data_dicts = []\n",
    "\n",
    "# Loop through each data_list item\n",
    "for data_list in records:\n",
    "    # Create a dictionary with NaN values\n",
    "    data_dict = {key: np.nan for key in column_names}\n",
    "    \n",
    "    # Update the dictionary with values from data_list and dictionary\n",
    "    data_dict.update(dict(zip(column_names, data_list[:-2])))\n",
    "    data_dict.update(data_list[-1])\n",
    "    \n",
    "    # Append the dictionary to the list\n",
    "    data_dicts.append(data_dict)\n",
    "\n",
    "# Create a DataFrame from the list of data dictionaries\n",
    "final_df = pd.DataFrame(data_dicts)\n",
    "'''\n"
   ]
  },
  {
   "cell_type": "markdown",
   "metadata": {},
   "source": [
    "# Extract lists that were converted into strings when exported to csv"
   ]
  },
  {
   "cell_type": "code",
   "execution_count": null,
   "metadata": {},
   "outputs": [],
   "source": [
    "# Since Pandas stores the lists as strings, we have to convert the ALT strings to lists again\n",
    "# We will apply a function to turn the strings either single strings or lists, when appropriate\n",
    "def safe_literal_eval(x):\n",
    "    try:\n",
    "        return ast.literal_eval(x)\n",
    "    except (ValueError, SyntaxError):\n",
    "        return None"
   ]
  },
  {
   "cell_type": "code",
   "execution_count": null,
   "metadata": {},
   "outputs": [],
   "source": [
    "# Convert strings back to lists, handling errors\n",
    "chr21_variation['ALT'] = chr21_variation['ALT'].apply(lambda x: safe_literal_eval(x[1:-1]) if x.startswith(\"[\") and x.endswith(\"]\") else safe_literal_eval(x))\n",
    "#chr21_variation['ALT'] = chr21_variation['ALT'].apply(ast.literal_eval)"
   ]
  },
  {
   "cell_type": "markdown",
   "metadata": {},
   "source": []
  }
 ],
 "metadata": {
  "language_info": {
   "name": "python"
  },
  "orig_nbformat": 4
 },
 "nbformat": 4,
 "nbformat_minor": 2
}
